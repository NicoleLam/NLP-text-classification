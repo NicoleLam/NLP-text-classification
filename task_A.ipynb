{
 "cells": [
  {
   "cell_type": "code",
   "execution_count": 1,
   "metadata": {},
   "outputs": [],
   "source": [
    "import  json\n",
    "from os import listdir\n",
    "from os.path import isfile, join\n",
    "import csv\n",
    "import pandas as pd\n",
    "import numpy as np\n",
    "import matplotlib.pyplot as plt\n",
    "import re"
   ]
  },
  {
   "cell_type": "code",
   "execution_count": null,
   "metadata": {},
   "outputs": [],
   "source": []
  },
  {
   "cell_type": "code",
   "execution_count": null,
   "metadata": {},
   "outputs": [],
   "source": []
  },
  {
   "cell_type": "markdown",
   "metadata": {},
   "source": [
    "Load the data from JSON"
   ]
  },
  {
   "cell_type": "code",
   "execution_count": null,
   "metadata": {},
   "outputs": [],
   "source": [
    "data = json.load(open('rumoureval-subtaskA-train.json'))\n",
    "\n",
    "dev = json.load(open('rumoureval-subtaskA-dev.json'))\n",
    "\n"
   ]
  },
  {
   "cell_type": "markdown",
   "metadata": {},
   "source": [
    "Match the respective tweets by ID"
   ]
  },
  {
   "cell_type": "code",
   "execution_count": null,
   "metadata": {
    "scrolled": true
   },
   "outputs": [],
   "source": [
    "csv = open('traindata.csv', \"w\", encoding='utf-8-sig')\n",
    "columnTitleRow = \"ID,tweet_text,results\\n\"\n",
    "csv.write(columnTitleRow)\n",
    "\n",
    "for k,v in data.items():\n",
    "    json_path=\"\"\n",
    "    mypath=\"C:/Users/Nicole/semeval2017-task8-dataset/rumoureval-data/\"\n",
    "    \n",
    "    for d in listdir(mypath):\n",
    "        for thread in listdir(mypath+d):\n",
    "            if k == thread:\n",
    "                json_path=mypath+d+\"/\"+thread+\"/source-tweet/\"+k+\".json\"\n",
    "                break\n",
    "            else:                \n",
    "                reply_path=mypath+d+\"/\"+thread+\"/replies/\"\n",
    "                if k+\".json\" in listdir(reply_path):\n",
    "                    json_path=reply_path+k+\".json\"\n",
    "                    break\n",
    "        if json_path!=\"\":\n",
    "            break\n",
    "    if (isfile(json_path)):\n",
    "            source = json.load(open(json_path, 'r'))\n",
    "            print(json_path)\n",
    "    else:\n",
    "        print (\"False:\" + k)\n",
    "        print(json_path)\n",
    "        print(\"end\\n\")\n",
    "    #print (source)\n",
    "    reply_tweet = source['text']\n",
    "    reply_tweet = reply_tweet.replace(\"\\n\", \" \")\n",
    "    reply_tweet = reply_tweet.replace(\"\\\"\", \"\\\"\\\"\")\n",
    "    row = k + \",\" + \"\\\"\" + reply_tweet + \"\\\"\" + \",\" + v + \"\\n\"\n",
    "    csv.write(row)\n",
    "    #print (source['text'])\n",
    "    #print (v+\"\\n\")\n",
    "    "
   ]
  },
  {
   "cell_type": "code",
   "execution_count": null,
   "metadata": {},
   "outputs": [],
   "source": [
    "dataset = pd.read_csv('traindata.csv', error_bad_lines=False)"
   ]
  },
  {
   "cell_type": "code",
   "execution_count": null,
   "metadata": {
    "scrolled": true
   },
   "outputs": [],
   "source": [
    "dataset.head()"
   ]
  },
  {
   "cell_type": "code",
   "execution_count": null,
   "metadata": {},
   "outputs": [],
   "source": [
    "csv.close()"
   ]
  },
  {
   "cell_type": "markdown",
   "metadata": {},
   "source": [
    "Information of the training data"
   ]
  },
  {
   "cell_type": "code",
   "execution_count": null,
   "metadata": {},
   "outputs": [],
   "source": [
    "dataset.info()"
   ]
  },
  {
   "cell_type": "markdown",
   "metadata": {},
   "source": [
    "use the following code to see if the data is loaded right"
   ]
  },
  {
   "cell_type": "code",
   "execution_count": null,
   "metadata": {},
   "outputs": [],
   "source": [
    "dataset[dataset.isnull().any(axis=1)]"
   ]
  },
  {
   "cell_type": "code",
   "execution_count": null,
   "metadata": {},
   "outputs": [],
   "source": [
    "np.sum(dataset.isnull().any(axis=1))"
   ]
  },
  {
   "cell_type": "code",
   "execution_count": null,
   "metadata": {},
   "outputs": [],
   "source": [
    "dataset.isnull().any(axis=0)"
   ]
  },
  {
   "cell_type": "code",
   "execution_count": null,
   "metadata": {},
   "outputs": [],
   "source": [
    "dataset = dataset.rename(columns={\" tweet_text\": \"tweet_text\", \" results\": \"results\"})"
   ]
  },
  {
   "cell_type": "markdown",
   "metadata": {},
   "source": [
    "the tweets of different classes"
   ]
  },
  {
   "cell_type": "code",
   "execution_count": null,
   "metadata": {},
   "outputs": [],
   "source": [
    "dataset['results'].value_counts()"
   ]
  },
  {
   "cell_type": "markdown",
   "metadata": {},
   "source": [
    "The data is skew"
   ]
  },
  {
   "cell_type": "markdown",
   "metadata": {},
   "source": [
    "we will need to try oversampling the 3 groups other than 'comment' group, devide them into 4 groups"
   ]
  },
  {
   "cell_type": "code",
   "execution_count": null,
   "metadata": {},
   "outputs": [],
   "source": [
    "dfcomment = dataset[dataset.results == 'comment']"
   ]
  },
  {
   "cell_type": "code",
   "execution_count": null,
   "metadata": {},
   "outputs": [],
   "source": [
    "dfsupport = dataset[dataset.results == 'support']"
   ]
  },
  {
   "cell_type": "code",
   "execution_count": null,
   "metadata": {},
   "outputs": [],
   "source": [
    "dfdeny = dataset[dataset.results == 'deny']"
   ]
  },
  {
   "cell_type": "code",
   "execution_count": null,
   "metadata": {},
   "outputs": [],
   "source": [
    "dfquery = dataset[dataset.results == 'query']"
   ]
  },
  {
   "cell_type": "code",
   "execution_count": null,
   "metadata": {},
   "outputs": [],
   "source": [
    "dfquery.head()"
   ]
  },
  {
   "cell_type": "markdown",
   "metadata": {},
   "source": [
    "# data cleansing"
   ]
  },
  {
   "cell_type": "code",
   "execution_count": null,
   "metadata": {},
   "outputs": [],
   "source": [
    "dataset['text_len'] = [len(t) for t in dataset.tweet_text]"
   ]
  },
  {
   "cell_type": "code",
   "execution_count": null,
   "metadata": {
    "scrolled": true
   },
   "outputs": [],
   "source": [
    "dataset.head()"
   ]
  },
  {
   "cell_type": "code",
   "execution_count": null,
   "metadata": {},
   "outputs": [],
   "source": [
    "fig, ax = plt.subplots(figsize=(5, 5))\n",
    "plt.boxplot(dataset.text_len)\n",
    "plt.show()"
   ]
  },
  {
   "cell_type": "code",
   "execution_count": null,
   "metadata": {},
   "outputs": [],
   "source": [
    "testing = dataset[dataset['text_len']>140]"
   ]
  },
  {
   "cell_type": "code",
   "execution_count": null,
   "metadata": {},
   "outputs": [],
   "source": [
    "testing.head()"
   ]
  },
  {
   "cell_type": "code",
   "execution_count": null,
   "metadata": {},
   "outputs": [],
   "source": []
  },
  {
   "cell_type": "markdown",
   "metadata": {},
   "source": [
    "tweet has length limit with 140, to see why they exceed 140"
   ]
  },
  {
   "cell_type": "code",
   "execution_count": null,
   "metadata": {},
   "outputs": [],
   "source": [
    "testing['tweet_text'].iloc[1]"
   ]
  },
  {
   "cell_type": "markdown",
   "metadata": {},
   "source": [
    "there are some HTML decoding problem"
   ]
  },
  {
   "cell_type": "code",
   "execution_count": null,
   "metadata": {},
   "outputs": [],
   "source": [
    "len(testing['tweet_text'])"
   ]
  },
  {
   "cell_type": "markdown",
   "metadata": {},
   "source": [
    "# HTML decoding"
   ]
  },
  {
   "cell_type": "markdown",
   "metadata": {},
   "source": [
    "use the beautiful soup to do the html decoding"
   ]
  },
  {
   "cell_type": "code",
   "execution_count": null,
   "metadata": {},
   "outputs": [],
   "source": [
    "from bs4 import BeautifulSoup"
   ]
  },
  {
   "cell_type": "markdown",
   "metadata": {},
   "source": [
    "run a test on it"
   ]
  },
  {
   "cell_type": "code",
   "execution_count": null,
   "metadata": {},
   "outputs": [],
   "source": [
    "example1 = BeautifulSoup(testing['tweet_text'].iloc[3], 'html.parser')\n",
    "example1.get_text()"
   ]
  },
  {
   "cell_type": "code",
   "execution_count": null,
   "metadata": {},
   "outputs": [],
   "source": [
    "example1"
   ]
  },
  {
   "cell_type": "markdown",
   "metadata": {},
   "source": []
  },
  {
   "cell_type": "code",
   "execution_count": null,
   "metadata": {},
   "outputs": [],
   "source": [
    "# def tweet_cleaner(text):\n",
    "#     example1 = BeautifulSoup(text, 'html.parser')\n",
    "#     return example1.get_text()\n",
    "    "
   ]
  },
  {
   "cell_type": "code",
   "execution_count": null,
   "metadata": {},
   "outputs": [],
   "source": [
    "clean_tweet_texts = []\n",
    "for i in dataset['tweet_text']:\n",
    "    clean_tweet_texts.append(BeautifulSoup(i, 'html.parser').get_text())"
   ]
  },
  {
   "cell_type": "code",
   "execution_count": null,
   "metadata": {},
   "outputs": [],
   "source": [
    "len(clean_tweet_texts)"
   ]
  },
  {
   "cell_type": "code",
   "execution_count": null,
   "metadata": {
    "scrolled": true
   },
   "outputs": [],
   "source": [
    "clean_df = pd.DataFrame(clean_tweet_texts,columns=['text'])\n",
    "clean_df['results'] = dataset['results']\n",
    "clean_df['ID'] = dataset['ID']\n",
    "clean_df.head()"
   ]
  },
  {
   "cell_type": "code",
   "execution_count": null,
   "metadata": {},
   "outputs": [],
   "source": [
    "htmldata.info()"
   ]
  },
  {
   "cell_type": "code",
   "execution_count": null,
   "metadata": {},
   "outputs": [],
   "source": [
    "clean_df.to_csv('training_data_with_html_decode.csv', index = None)"
   ]
  },
  {
   "cell_type": "code",
   "execution_count": 2,
   "metadata": {},
   "outputs": [],
   "source": [
    "htmldata = pd.read_csv('training_data_with_html_decode.csv')"
   ]
  },
  {
   "cell_type": "code",
   "execution_count": 5,
   "metadata": {
    "scrolled": true
   },
   "outputs": [
    {
     "data": {
      "text/html": [
       "<div>\n",
       "<style scoped>\n",
       "    .dataframe tbody tr th:only-of-type {\n",
       "        vertical-align: middle;\n",
       "    }\n",
       "\n",
       "    .dataframe tbody tr th {\n",
       "        vertical-align: top;\n",
       "    }\n",
       "\n",
       "    .dataframe thead th {\n",
       "        text-align: right;\n",
       "    }\n",
       "</style>\n",
       "<table border=\"1\" class=\"dataframe\">\n",
       "  <thead>\n",
       "    <tr style=\"text-align: right;\">\n",
       "      <th></th>\n",
       "      <th>text</th>\n",
       "      <th>results</th>\n",
       "      <th>ID</th>\n",
       "    </tr>\n",
       "  </thead>\n",
       "  <tbody>\n",
       "    <tr>\n",
       "      <th>0</th>\n",
       "      <td>@max843 @DanteB4u @Alasscan_  This shows Micha...</td>\n",
       "      <td>comment</td>\n",
       "      <td>5.017606e+17</td>\n",
       "    </tr>\n",
       "    <tr>\n",
       "      <th>1</th>\n",
       "      <td>@USATODAY Get ready to tweet the address #Spik...</td>\n",
       "      <td>comment</td>\n",
       "      <td>5.002702e+17</td>\n",
       "    </tr>\n",
       "    <tr>\n",
       "      <th>2</th>\n",
       "      <td>@rikermacdaniels @CBCAlerts @CBCNews @JustinTr...</td>\n",
       "      <td>comment</td>\n",
       "      <td>5.249712e+17</td>\n",
       "    </tr>\n",
       "    <tr>\n",
       "      <th>3</th>\n",
       "      <td>@RT_com  Just kill them.</td>\n",
       "      <td>comment</td>\n",
       "      <td>5.528369e+17</td>\n",
       "    </tr>\n",
       "    <tr>\n",
       "      <th>4</th>\n",
       "      <td>@TheAnonMessage2 no, because that would requir...</td>\n",
       "      <td>support</td>\n",
       "      <td>5.002899e+17</td>\n",
       "    </tr>\n",
       "    <tr>\n",
       "      <th>5</th>\n",
       "      <td>@Simon_Cullen @HalaJaber AU GOV and Tony Abbot...</td>\n",
       "      <td>comment</td>\n",
       "      <td>5.442932e+17</td>\n",
       "    </tr>\n",
       "    <tr>\n",
       "      <th>6</th>\n",
       "      <td>@Kiippyy @KEEMSTARx u know theres some fucked ...</td>\n",
       "      <td>comment</td>\n",
       "      <td>5.442830e+17</td>\n",
       "    </tr>\n",
       "    <tr>\n",
       "      <th>7</th>\n",
       "      <td>@jlpauk why would the ferguson PD and STLCO PD...</td>\n",
       "      <td>comment</td>\n",
       "      <td>5.004067e+17</td>\n",
       "    </tr>\n",
       "    <tr>\n",
       "      <th>8</th>\n",
       "      <td>@140elect Here are pixs I have. http://t.co/jn...</td>\n",
       "      <td>comment</td>\n",
       "      <td>5.003002e+17</td>\n",
       "    </tr>\n",
       "    <tr>\n",
       "      <th>9</th>\n",
       "      <td>@RT_com @SpringboroTea http://t.co/5NjSg1pBSi</td>\n",
       "      <td>comment</td>\n",
       "      <td>5.528116e+17</td>\n",
       "    </tr>\n",
       "    <tr>\n",
       "      <th>10</th>\n",
       "      <td>@tdgecas yeah posting information about an evo...</td>\n",
       "      <td>comment</td>\n",
       "      <td>5.249383e+17</td>\n",
       "    </tr>\n",
       "    <tr>\n",
       "      <th>11</th>\n",
       "      <td>@FutbolLife @TransferSelect no he hasn't</td>\n",
       "      <td>deny</td>\n",
       "      <td>5.213608e+17</td>\n",
       "    </tr>\n",
       "    <tr>\n",
       "      <th>12</th>\n",
       "      <td>@CBCAlerts Hunt them down like the animals tha...</td>\n",
       "      <td>comment</td>\n",
       "      <td>5.249465e+17</td>\n",
       "    </tr>\n",
       "    <tr>\n",
       "      <th>13</th>\n",
       "      <td>@Uber_Sydney @mtats Thank you!</td>\n",
       "      <td>comment</td>\n",
       "      <td>5.443475e+17</td>\n",
       "    </tr>\n",
       "    <tr>\n",
       "      <th>14</th>\n",
       "      <td>@ArmedResearch Which accounts?</td>\n",
       "      <td>query</td>\n",
       "      <td>5.250207e+17</td>\n",
       "    </tr>\n",
       "    <tr>\n",
       "      <th>15</th>\n",
       "      <td>@DaliaChai @cnnbrk reason forthis massacre is ...</td>\n",
       "      <td>comment</td>\n",
       "      <td>5.528178e+17</td>\n",
       "    </tr>\n",
       "    <tr>\n",
       "      <th>16</th>\n",
       "      <td>@Gormanghast @BBCBreaking there are times we s...</td>\n",
       "      <td>comment</td>\n",
       "      <td>5.249591e+17</td>\n",
       "    </tr>\n",
       "    <tr>\n",
       "      <th>17</th>\n",
       "      <td>@France24_en @Sonia_Dridi For the record this ...</td>\n",
       "      <td>comment</td>\n",
       "      <td>5.535882e+17</td>\n",
       "    </tr>\n",
       "    <tr>\n",
       "      <th>18</th>\n",
       "      <td>@SharriMarkson   You are a danger to the rest ...</td>\n",
       "      <td>comment</td>\n",
       "      <td>5.442937e+17</td>\n",
       "    </tr>\n",
       "    <tr>\n",
       "      <th>19</th>\n",
       "      <td>Does this cartoon means that hatred cartoons t...</td>\n",
       "      <td>query</td>\n",
       "      <td>5.531963e+17</td>\n",
       "    </tr>\n",
       "    <tr>\n",
       "      <th>20</th>\n",
       "      <td>@BBCBreaking a bullet is just as evel as a bom...</td>\n",
       "      <td>comment</td>\n",
       "      <td>5.249571e+17</td>\n",
       "    </tr>\n",
       "    <tr>\n",
       "      <th>21</th>\n",
       "      <td>@CBSNews Your info is out of date. Rideau shoo...</td>\n",
       "      <td>deny</td>\n",
       "      <td>5.249927e+17</td>\n",
       "    </tr>\n",
       "    <tr>\n",
       "      <th>22</th>\n",
       "      <td>@KAEP555 @mashable He is large. In the store p...</td>\n",
       "      <td>comment</td>\n",
       "      <td>5.002948e+17</td>\n",
       "    </tr>\n",
       "    <tr>\n",
       "      <th>23</th>\n",
       "      <td>@col_livesey @BasimaFaysal @SkyNewsAust  It is...</td>\n",
       "      <td>support</td>\n",
       "      <td>5.443078e+17</td>\n",
       "    </tr>\n",
       "    <tr>\n",
       "      <th>24</th>\n",
       "      <td>@DaveBeninger  maybe you should get your info ...</td>\n",
       "      <td>comment</td>\n",
       "      <td>5.249554e+17</td>\n",
       "    </tr>\n",
       "    <tr>\n",
       "      <th>25</th>\n",
       "      <td>“@AP: MORE: France: Shooting, hostage-taking a...</td>\n",
       "      <td>comment</td>\n",
       "      <td>5.535415e+17</td>\n",
       "    </tr>\n",
       "    <tr>\n",
       "      <th>26</th>\n",
       "      <td>@DanteB4u Absolutely my point!!  @orangeseahorse</td>\n",
       "      <td>comment</td>\n",
       "      <td>5.003015e+17</td>\n",
       "    </tr>\n",
       "    <tr>\n",
       "      <th>27</th>\n",
       "      <td>@CP24 I teared up when I heard.   RIP Cpl Ciri...</td>\n",
       "      <td>comment</td>\n",
       "      <td>5.250266e+17</td>\n",
       "    </tr>\n",
       "    <tr>\n",
       "      <th>28</th>\n",
       "      <td>@ShirazMaher @NickKristof ok. I would like to ...</td>\n",
       "      <td>comment</td>\n",
       "      <td>5.535651e+17</td>\n",
       "    </tr>\n",
       "    <tr>\n",
       "      <th>29</th>\n",
       "      <td>@Angus_OL @horanosaur</td>\n",
       "      <td>comment</td>\n",
       "      <td>5.445206e+17</td>\n",
       "    </tr>\n",
       "    <tr>\n",
       "      <th>...</th>\n",
       "      <td>...</td>\n",
       "      <td>...</td>\n",
       "      <td>...</td>\n",
       "    </tr>\n",
       "    <tr>\n",
       "      <th>4209</th>\n",
       "      <td>@DaliaChai @hassanbasmer @cnnbrk they are disc...</td>\n",
       "      <td>comment</td>\n",
       "      <td>5.528114e+17</td>\n",
       "    </tr>\n",
       "    <tr>\n",
       "      <th>4210</th>\n",
       "      <td>@DeuceTony @YourAnonLive @OpFerguson they're n...</td>\n",
       "      <td>comment</td>\n",
       "      <td>5.002978e+17</td>\n",
       "    </tr>\n",
       "    <tr>\n",
       "      <th>4211</th>\n",
       "      <td>@hassanbasmer @Chusid2015 11million arabs/Musl...</td>\n",
       "      <td>comment</td>\n",
       "      <td>5.528195e+17</td>\n",
       "    </tr>\n",
       "    <tr>\n",
       "      <th>4212</th>\n",
       "      <td>@PatOndabak  Putin has gone 1 better Behold th...</td>\n",
       "      <td>comment</td>\n",
       "      <td>5.772872e+17</td>\n",
       "    </tr>\n",
       "    <tr>\n",
       "      <th>4213</th>\n",
       "      <td>@Wossyboo92 @SkyNews If they shoot him in the ...</td>\n",
       "      <td>comment</td>\n",
       "      <td>5.444858e+17</td>\n",
       "    </tr>\n",
       "    <tr>\n",
       "      <th>4214</th>\n",
       "      <td>@emaccaz_ @Angus_OL I DIDNT WATCH THE VIDEO I ...</td>\n",
       "      <td>comment</td>\n",
       "      <td>5.445207e+17</td>\n",
       "    </tr>\n",
       "    <tr>\n",
       "      <th>4215</th>\n",
       "      <td>@SputnikInt: UPDATE: #CharlieHebdo's editor-in...</td>\n",
       "      <td>support</td>\n",
       "      <td>5.528176e+17</td>\n",
       "    </tr>\n",
       "    <tr>\n",
       "      <th>4216</th>\n",
       "      <td>@larryelder @Just_a_Texan 1,800 plus black bab...</td>\n",
       "      <td>comment</td>\n",
       "      <td>4.996928e+17</td>\n",
       "    </tr>\n",
       "    <tr>\n",
       "      <th>4217</th>\n",
       "      <td>RT “@WilliamsJon US evacuated Consulate in Syd...</td>\n",
       "      <td>support</td>\n",
       "      <td>5.443248e+17</td>\n",
       "    </tr>\n",
       "    <tr>\n",
       "      <th>4218</th>\n",
       "      <td>@latikambourke thanks for the update Latika.</td>\n",
       "      <td>deny</td>\n",
       "      <td>5.442940e+17</td>\n",
       "    </tr>\n",
       "    <tr>\n",
       "      <th>4219</th>\n",
       "      <td>Meanwhile, these nutbags still allowed to thre...</td>\n",
       "      <td>comment</td>\n",
       "      <td>5.443385e+17</td>\n",
       "    </tr>\n",
       "    <tr>\n",
       "      <th>4220</th>\n",
       "      <td>#BAMF #hero \"@CP24: MPs credit sergeant-at-arm...</td>\n",
       "      <td>comment</td>\n",
       "      <td>5.249711e+17</td>\n",
       "    </tr>\n",
       "    <tr>\n",
       "      <th>4221</th>\n",
       "      <td>Suspects in #CharlieHebdo attack spoke to poli...</td>\n",
       "      <td>support</td>\n",
       "      <td>5.535052e+17</td>\n",
       "    </tr>\n",
       "    <tr>\n",
       "      <th>4222</th>\n",
       "      <td>@TheDailyEdge @ZaffodB I understand his reluct...</td>\n",
       "      <td>comment</td>\n",
       "      <td>5.004214e+17</td>\n",
       "    </tr>\n",
       "    <tr>\n",
       "      <th>4223</th>\n",
       "      <td>@NBCNews: Photos of alleged robbery involving ...</td>\n",
       "      <td>comment</td>\n",
       "      <td>5.002970e+17</td>\n",
       "    </tr>\n",
       "    <tr>\n",
       "      <th>4224</th>\n",
       "      <td>@AP give the fuckers there wish</td>\n",
       "      <td>comment</td>\n",
       "      <td>5.535201e+17</td>\n",
       "    </tr>\n",
       "    <tr>\n",
       "      <th>4225</th>\n",
       "      <td>@BrwnSkinGirly stepped in the wrong part of to...</td>\n",
       "      <td>comment</td>\n",
       "      <td>5.003580e+17</td>\n",
       "    </tr>\n",
       "    <tr>\n",
       "      <th>4226</th>\n",
       "      <td>@veggietrunks @LisaBloom not necessarily. but ...</td>\n",
       "      <td>comment</td>\n",
       "      <td>5.004269e+17</td>\n",
       "    </tr>\n",
       "    <tr>\n",
       "      <th>4227</th>\n",
       "      <td>@TheBruun noooooo!</td>\n",
       "      <td>comment</td>\n",
       "      <td>5.297400e+17</td>\n",
       "    </tr>\n",
       "    <tr>\n",
       "      <th>4228</th>\n",
       "      <td>@CBCAlerts I had a feeling that was going to h...</td>\n",
       "      <td>comment</td>\n",
       "      <td>5.249767e+17</td>\n",
       "    </tr>\n",
       "    <tr>\n",
       "      <th>4229</th>\n",
       "      <td>“@mashable: Uber says it has hiked prices in S...</td>\n",
       "      <td>support</td>\n",
       "      <td>5.443261e+17</td>\n",
       "    </tr>\n",
       "    <tr>\n",
       "      <th>4230</th>\n",
       "      <td>@CTVMontreal @careysmithctv if @JustinTrudeau ...</td>\n",
       "      <td>comment</td>\n",
       "      <td>5.249281e+17</td>\n",
       "    </tr>\n",
       "    <tr>\n",
       "      <th>4231</th>\n",
       "      <td>BREAKING NEWS: According to documents released...</td>\n",
       "      <td>support</td>\n",
       "      <td>5.002811e+17</td>\n",
       "    </tr>\n",
       "    <tr>\n",
       "      <th>4232</th>\n",
       "      <td>@real_dashermace @cnnbrk FUCK U</td>\n",
       "      <td>deny</td>\n",
       "      <td>5.249882e+17</td>\n",
       "    </tr>\n",
       "    <tr>\n",
       "      <th>4233</th>\n",
       "      <td>“@PzFeed: BREAKING NEWS: Gunmen take hostages ...</td>\n",
       "      <td>support</td>\n",
       "      <td>5.442825e+17</td>\n",
       "    </tr>\n",
       "    <tr>\n",
       "      <th>4234</th>\n",
       "      <td>@RT_com who gave them thinking of martyr? Thos...</td>\n",
       "      <td>comment</td>\n",
       "      <td>5.535059e+17</td>\n",
       "    </tr>\n",
       "    <tr>\n",
       "      <th>4235</th>\n",
       "      <td>@PzFeed @TipsForYouDaily wtf fuk u Islamic sta...</td>\n",
       "      <td>comment</td>\n",
       "      <td>5.442841e+17</td>\n",
       "    </tr>\n",
       "    <tr>\n",
       "      <th>4236</th>\n",
       "      <td>@Alasscan_ @DanteB4u Alasscan it's a lie. Pics...</td>\n",
       "      <td>support</td>\n",
       "      <td>5.003029e+17</td>\n",
       "    </tr>\n",
       "    <tr>\n",
       "      <th>4237</th>\n",
       "      <td>@SharriMarkson Sure hope it's not just some du...</td>\n",
       "      <td>comment</td>\n",
       "      <td>5.442937e+17</td>\n",
       "    </tr>\n",
       "    <tr>\n",
       "      <th>4238</th>\n",
       "      <td>@jlpauk @spants @rui_xu @flavius217 it is! I b...</td>\n",
       "      <td>comment</td>\n",
       "      <td>5.003209e+17</td>\n",
       "    </tr>\n",
       "  </tbody>\n",
       "</table>\n",
       "<p>4239 rows × 3 columns</p>\n",
       "</div>"
      ],
      "text/plain": [
       "                                                   text  results            ID\n",
       "0     @max843 @DanteB4u @Alasscan_  This shows Micha...  comment  5.017606e+17\n",
       "1     @USATODAY Get ready to tweet the address #Spik...  comment  5.002702e+17\n",
       "2     @rikermacdaniels @CBCAlerts @CBCNews @JustinTr...  comment  5.249712e+17\n",
       "3                              @RT_com  Just kill them.  comment  5.528369e+17\n",
       "4     @TheAnonMessage2 no, because that would requir...  support  5.002899e+17\n",
       "5     @Simon_Cullen @HalaJaber AU GOV and Tony Abbot...  comment  5.442932e+17\n",
       "6     @Kiippyy @KEEMSTARx u know theres some fucked ...  comment  5.442830e+17\n",
       "7     @jlpauk why would the ferguson PD and STLCO PD...  comment  5.004067e+17\n",
       "8     @140elect Here are pixs I have. http://t.co/jn...  comment  5.003002e+17\n",
       "9         @RT_com @SpringboroTea http://t.co/5NjSg1pBSi  comment  5.528116e+17\n",
       "10    @tdgecas yeah posting information about an evo...  comment  5.249383e+17\n",
       "11             @FutbolLife @TransferSelect no he hasn't     deny  5.213608e+17\n",
       "12    @CBCAlerts Hunt them down like the animals tha...  comment  5.249465e+17\n",
       "13                       @Uber_Sydney @mtats Thank you!  comment  5.443475e+17\n",
       "14                       @ArmedResearch Which accounts?    query  5.250207e+17\n",
       "15    @DaliaChai @cnnbrk reason forthis massacre is ...  comment  5.528178e+17\n",
       "16    @Gormanghast @BBCBreaking there are times we s...  comment  5.249591e+17\n",
       "17    @France24_en @Sonia_Dridi For the record this ...  comment  5.535882e+17\n",
       "18    @SharriMarkson   You are a danger to the rest ...  comment  5.442937e+17\n",
       "19    Does this cartoon means that hatred cartoons t...    query  5.531963e+17\n",
       "20    @BBCBreaking a bullet is just as evel as a bom...  comment  5.249571e+17\n",
       "21    @CBSNews Your info is out of date. Rideau shoo...     deny  5.249927e+17\n",
       "22    @KAEP555 @mashable He is large. In the store p...  comment  5.002948e+17\n",
       "23    @col_livesey @BasimaFaysal @SkyNewsAust  It is...  support  5.443078e+17\n",
       "24    @DaveBeninger  maybe you should get your info ...  comment  5.249554e+17\n",
       "25    “@AP: MORE: France: Shooting, hostage-taking a...  comment  5.535415e+17\n",
       "26     @DanteB4u Absolutely my point!!  @orangeseahorse  comment  5.003015e+17\n",
       "27    @CP24 I teared up when I heard.   RIP Cpl Ciri...  comment  5.250266e+17\n",
       "28    @ShirazMaher @NickKristof ok. I would like to ...  comment  5.535651e+17\n",
       "29                                @Angus_OL @horanosaur  comment  5.445206e+17\n",
       "...                                                 ...      ...           ...\n",
       "4209  @DaliaChai @hassanbasmer @cnnbrk they are disc...  comment  5.528114e+17\n",
       "4210  @DeuceTony @YourAnonLive @OpFerguson they're n...  comment  5.002978e+17\n",
       "4211  @hassanbasmer @Chusid2015 11million arabs/Musl...  comment  5.528195e+17\n",
       "4212  @PatOndabak  Putin has gone 1 better Behold th...  comment  5.772872e+17\n",
       "4213  @Wossyboo92 @SkyNews If they shoot him in the ...  comment  5.444858e+17\n",
       "4214  @emaccaz_ @Angus_OL I DIDNT WATCH THE VIDEO I ...  comment  5.445207e+17\n",
       "4215  @SputnikInt: UPDATE: #CharlieHebdo's editor-in...  support  5.528176e+17\n",
       "4216  @larryelder @Just_a_Texan 1,800 plus black bab...  comment  4.996928e+17\n",
       "4217  RT “@WilliamsJon US evacuated Consulate in Syd...  support  5.443248e+17\n",
       "4218       @latikambourke thanks for the update Latika.     deny  5.442940e+17\n",
       "4219  Meanwhile, these nutbags still allowed to thre...  comment  5.443385e+17\n",
       "4220  #BAMF #hero \"@CP24: MPs credit sergeant-at-arm...  comment  5.249711e+17\n",
       "4221  Suspects in #CharlieHebdo attack spoke to poli...  support  5.535052e+17\n",
       "4222  @TheDailyEdge @ZaffodB I understand his reluct...  comment  5.004214e+17\n",
       "4223  @NBCNews: Photos of alleged robbery involving ...  comment  5.002970e+17\n",
       "4224                    @AP give the fuckers there wish  comment  5.535201e+17\n",
       "4225  @BrwnSkinGirly stepped in the wrong part of to...  comment  5.003580e+17\n",
       "4226  @veggietrunks @LisaBloom not necessarily. but ...  comment  5.004269e+17\n",
       "4227                                 @TheBruun noooooo!  comment  5.297400e+17\n",
       "4228  @CBCAlerts I had a feeling that was going to h...  comment  5.249767e+17\n",
       "4229  “@mashable: Uber says it has hiked prices in S...  support  5.443261e+17\n",
       "4230  @CTVMontreal @careysmithctv if @JustinTrudeau ...  comment  5.249281e+17\n",
       "4231  BREAKING NEWS: According to documents released...  support  5.002811e+17\n",
       "4232                    @real_dashermace @cnnbrk FUCK U     deny  5.249882e+17\n",
       "4233  “@PzFeed: BREAKING NEWS: Gunmen take hostages ...  support  5.442825e+17\n",
       "4234  @RT_com who gave them thinking of martyr? Thos...  comment  5.535059e+17\n",
       "4235  @PzFeed @TipsForYouDaily wtf fuk u Islamic sta...  comment  5.442841e+17\n",
       "4236  @Alasscan_ @DanteB4u Alasscan it's a lie. Pics...  support  5.003029e+17\n",
       "4237  @SharriMarkson Sure hope it's not just some du...  comment  5.442937e+17\n",
       "4238  @jlpauk @spants @rui_xu @flavius217 it is! I b...  comment  5.003209e+17\n",
       "\n",
       "[4239 rows x 3 columns]"
      ]
     },
     "execution_count": 5,
     "metadata": {},
     "output_type": "execute_result"
    }
   ],
   "source": [
    "htmldata"
   ]
  },
  {
   "cell_type": "code",
   "execution_count": 6,
   "metadata": {},
   "outputs": [
    {
     "data": {
      "text/html": [
       "<div>\n",
       "<style scoped>\n",
       "    .dataframe tbody tr th:only-of-type {\n",
       "        vertical-align: middle;\n",
       "    }\n",
       "\n",
       "    .dataframe tbody tr th {\n",
       "        vertical-align: top;\n",
       "    }\n",
       "\n",
       "    .dataframe thead th {\n",
       "        text-align: right;\n",
       "    }\n",
       "</style>\n",
       "<table border=\"1\" class=\"dataframe\">\n",
       "  <thead>\n",
       "    <tr style=\"text-align: right;\">\n",
       "      <th></th>\n",
       "      <th>text</th>\n",
       "      <th>results</th>\n",
       "      <th>ID</th>\n",
       "    </tr>\n",
       "  </thead>\n",
       "  <tbody>\n",
       "    <tr>\n",
       "      <th>0</th>\n",
       "      <td>@max843 @DanteB4u @Alasscan_  This shows Micha...</td>\n",
       "      <td>comment</td>\n",
       "      <td>5.017606e+17</td>\n",
       "    </tr>\n",
       "    <tr>\n",
       "      <th>1</th>\n",
       "      <td>@USATODAY Get ready to tweet the address #Spik...</td>\n",
       "      <td>comment</td>\n",
       "      <td>5.002702e+17</td>\n",
       "    </tr>\n",
       "    <tr>\n",
       "      <th>2</th>\n",
       "      <td>@rikermacdaniels @CBCAlerts @CBCNews @JustinTr...</td>\n",
       "      <td>comment</td>\n",
       "      <td>5.249712e+17</td>\n",
       "    </tr>\n",
       "    <tr>\n",
       "      <th>3</th>\n",
       "      <td>@RT_com  Just kill them.</td>\n",
       "      <td>comment</td>\n",
       "      <td>5.528369e+17</td>\n",
       "    </tr>\n",
       "    <tr>\n",
       "      <th>4</th>\n",
       "      <td>@TheAnonMessage2 no, because that would requir...</td>\n",
       "      <td>support</td>\n",
       "      <td>5.002899e+17</td>\n",
       "    </tr>\n",
       "  </tbody>\n",
       "</table>\n",
       "</div>"
      ],
      "text/plain": [
       "                                                text  results            ID\n",
       "0  @max843 @DanteB4u @Alasscan_  This shows Micha...  comment  5.017606e+17\n",
       "1  @USATODAY Get ready to tweet the address #Spik...  comment  5.002702e+17\n",
       "2  @rikermacdaniels @CBCAlerts @CBCNews @JustinTr...  comment  5.249712e+17\n",
       "3                           @RT_com  Just kill them.  comment  5.528369e+17\n",
       "4  @TheAnonMessage2 no, because that would requir...  support  5.002899e+17"
      ]
     },
     "execution_count": 6,
     "metadata": {},
     "output_type": "execute_result"
    }
   ],
   "source": [
    "htmldata.head()"
   ]
  },
  {
   "cell_type": "markdown",
   "metadata": {},
   "source": [
    "check the length again"
   ]
  },
  {
   "cell_type": "code",
   "execution_count": null,
   "metadata": {},
   "outputs": [],
   "source": [
    "htmldata['text_len'] = [len(t) for t in htmldata.text]"
   ]
  },
  {
   "cell_type": "code",
   "execution_count": null,
   "metadata": {},
   "outputs": [],
   "source": [
    "htmldata[htmldata['text_len']>140]"
   ]
  },
  {
   "cell_type": "markdown",
   "metadata": {},
   "source": [
    "it's empty so we're good to go"
   ]
  },
  {
   "cell_type": "code",
   "execution_count": null,
   "metadata": {},
   "outputs": [],
   "source": [
    "htmldata['text'].iloc[0]"
   ]
  },
  {
   "cell_type": "code",
   "execution_count": null,
   "metadata": {},
   "outputs": [],
   "source": [
    "htmldata['text'].iloc[4217]"
   ]
  },
  {
   "cell_type": "code",
   "execution_count": null,
   "metadata": {},
   "outputs": [],
   "source": [
    "htmldata['text'].iloc[9]"
   ]
  },
  {
   "cell_type": "markdown",
   "metadata": {},
   "source": [
    "for pre-processing, there's a Python library which is used to deal with the tweets preprocessing, it will clean out:\n",
    "URLs\n",
    "Hashtags\n",
    "Mentions\n",
    "\n",
    "Emojis\n",
    "Smileys\n",
    "\n",
    "I decided to remove the URLs, Mentions,  Emojis, Smileys, numbers, but for hashtags, I will only remove the hashtag symbol and keep the word following the hashtag symbol as some of it is the part of the sentense and it's useful, so I'm not using the hashtags option here, and I will remove the Reserved words (RT, FAV) in the tweets"
   ]
  },
  {
   "cell_type": "code",
   "execution_count": 7,
   "metadata": {},
   "outputs": [],
   "source": [
    "import preprocessor as p"
   ]
  },
  {
   "cell_type": "code",
   "execution_count": 8,
   "metadata": {},
   "outputs": [],
   "source": [
    "p.set_options(p.OPT.URL, p.OPT.EMOJI, p.OPT.MENTION, p.OPT.RESERVED, p.OPT.NUMBER, p.OPT.SMILEY)"
   ]
  },
  {
   "cell_type": "code",
   "execution_count": null,
   "metadata": {},
   "outputs": [],
   "source": [
    "p.clean('@max843 @DanteB4u @Alasscan_ This shows :)')"
   ]
  },
  {
   "cell_type": "code",
   "execution_count": null,
   "metadata": {},
   "outputs": [],
   "source": [
    "re.sub(' RT|#', ' ', p.clean('Preprocessor is #awesome 👍 https://github.com/s/preprocessor RTl'))"
   ]
  },
  {
   "cell_type": "code",
   "execution_count": null,
   "metadata": {},
   "outputs": [],
   "source": [
    "re.sub(' RT|#', '', ' RT Get ready to tweet the address #Spik')"
   ]
  },
  {
   "cell_type": "markdown",
   "metadata": {},
   "source": [
    "make small tests first"
   ]
  },
  {
   "cell_type": "code",
   "execution_count": null,
   "metadata": {},
   "outputs": [],
   "source": [
    "p.clean(htmldata['text'].iloc[0])"
   ]
  },
  {
   "cell_type": "code",
   "execution_count": null,
   "metadata": {},
   "outputs": [],
   "source": [
    "re.sub(' RT', ' ', p.clean(htmldata['text'].iloc[0]))"
   ]
  },
  {
   "cell_type": "code",
   "execution_count": null,
   "metadata": {},
   "outputs": [],
   "source": [
    "htmldata['text'].iloc[4217]"
   ]
  },
  {
   "cell_type": "code",
   "execution_count": null,
   "metadata": {},
   "outputs": [],
   "source": [
    "p.clean(htmldata['text'].iloc[4217])"
   ]
  },
  {
   "cell_type": "markdown",
   "metadata": {},
   "source": [
    "remove punctuations, non-alphabaet characters and separates the word with a single space"
   ]
  },
  {
   "cell_type": "code",
   "execution_count": null,
   "metadata": {},
   "outputs": [],
   "source": [
    "' '.join(re.sub(\"(@[A-Za-z0-9]+)|([^0-9A-Za-z \\t])|(\\w+:\\/\\/\\S+)\",\" \",testtext).split())"
   ]
  },
  {
   "cell_type": "markdown",
   "metadata": {},
   "source": [
    "do it on all the data"
   ]
  },
  {
   "cell_type": "code",
   "execution_count": 9,
   "metadata": {},
   "outputs": [],
   "source": [
    "clean_tweet_texts1 = []\n",
    "for i in htmldata['text']:\n",
    "    clean_tweet_texts1.append(re.sub(' RT|#', '',p.clean(i))) #remove 'RT' and hashtags"
   ]
  },
  {
   "cell_type": "code",
   "execution_count": null,
   "metadata": {},
   "outputs": [],
   "source": [
    "# clean_tweet_texts2 = []\n",
    "# for i in clean_tweet_texts1:\n",
    "#     clean_tweet_texts2.append(' '.join(re.sub(\"(@[A-Za-z0-9]+)|([^0-9A-Za-z \\t])|(\\w+:\\/\\/\\S+)\",\" \",i).split()))"
   ]
  },
  {
   "cell_type": "code",
   "execution_count": 10,
   "metadata": {},
   "outputs": [
    {
     "data": {
      "text/html": [
       "<div>\n",
       "<style scoped>\n",
       "    .dataframe tbody tr th:only-of-type {\n",
       "        vertical-align: middle;\n",
       "    }\n",
       "\n",
       "    .dataframe tbody tr th {\n",
       "        vertical-align: top;\n",
       "    }\n",
       "\n",
       "    .dataframe thead th {\n",
       "        text-align: right;\n",
       "    }\n",
       "</style>\n",
       "<table border=\"1\" class=\"dataframe\">\n",
       "  <thead>\n",
       "    <tr style=\"text-align: right;\">\n",
       "      <th></th>\n",
       "      <th>text</th>\n",
       "      <th>results</th>\n",
       "      <th>ID</th>\n",
       "    </tr>\n",
       "  </thead>\n",
       "  <tbody>\n",
       "    <tr>\n",
       "      <th>0</th>\n",
       "      <td>This shows Michael paid for cigarillos. No rob...</td>\n",
       "      <td>comment</td>\n",
       "      <td>5.017606e+17</td>\n",
       "    </tr>\n",
       "    <tr>\n",
       "      <th>1</th>\n",
       "      <td>Get ready to tweet the address SpikeLee and ot...</td>\n",
       "      <td>comment</td>\n",
       "      <td>5.002702e+17</td>\n",
       "    </tr>\n",
       "    <tr>\n",
       "      <th>2</th>\n",
       "      <td>your radical Muslims are being funded by Ameri...</td>\n",
       "      <td>comment</td>\n",
       "      <td>5.249712e+17</td>\n",
       "    </tr>\n",
       "    <tr>\n",
       "      <th>3</th>\n",
       "      <td>Just kill them.</td>\n",
       "      <td>comment</td>\n",
       "      <td>5.528369e+17</td>\n",
       "    </tr>\n",
       "    <tr>\n",
       "      <th>4</th>\n",
       "      <td>no, because that would require reasoning and t...</td>\n",
       "      <td>support</td>\n",
       "      <td>5.002899e+17</td>\n",
       "    </tr>\n",
       "  </tbody>\n",
       "</table>\n",
       "</div>"
      ],
      "text/plain": [
       "                                                text  results            ID\n",
       "0  This shows Michael paid for cigarillos. No rob...  comment  5.017606e+17\n",
       "1  Get ready to tweet the address SpikeLee and ot...  comment  5.002702e+17\n",
       "2  your radical Muslims are being funded by Ameri...  comment  5.249712e+17\n",
       "3                                    Just kill them.  comment  5.528369e+17\n",
       "4  no, because that would require reasoning and t...  support  5.002899e+17"
      ]
     },
     "execution_count": 10,
     "metadata": {},
     "output_type": "execute_result"
    }
   ],
   "source": [
    "clean_tweet_texts2_df = pd.DataFrame(clean_tweet_texts1,columns=['text'])\n",
    "clean_tweet_texts2_df['results'] = htmldata['results']\n",
    "clean_tweet_texts2_df['ID'] = htmldata['ID']\n",
    "clean_tweet_texts2_df.head()"
   ]
  },
  {
   "cell_type": "code",
   "execution_count": 11,
   "metadata": {},
   "outputs": [
    {
     "data": {
      "text/plain": [
       "'This shows Michael paid for cigarillos. No robbery, no crime! Pls'"
      ]
     },
     "execution_count": 11,
     "metadata": {},
     "output_type": "execute_result"
    }
   ],
   "source": [
    "clean_tweet_texts2_df['text'].iloc[0]"
   ]
  },
  {
   "cell_type": "code",
   "execution_count": 12,
   "metadata": {},
   "outputs": [],
   "source": [
    "clean_tweet_texts2_df.to_csv('clean_trainingdata.csv', index = None)"
   ]
  },
  {
   "cell_type": "code",
   "execution_count": 13,
   "metadata": {},
   "outputs": [],
   "source": [
    "df = pd.read_csv('clean_trainingdata.csv')"
   ]
  },
  {
   "cell_type": "code",
   "execution_count": null,
   "metadata": {},
   "outputs": [],
   "source": [
    "df = clean_tweet_texts2_df"
   ]
  },
  {
   "cell_type": "code",
   "execution_count": 14,
   "metadata": {},
   "outputs": [
    {
     "name": "stdout",
     "output_type": "stream",
     "text": [
      "<class 'pandas.core.frame.DataFrame'>\n",
      "RangeIndex: 4239 entries, 0 to 4238\n",
      "Data columns (total 3 columns):\n",
      "text       4139 non-null object\n",
      "results    4238 non-null object\n",
      "ID         4238 non-null float64\n",
      "dtypes: float64(1), object(2)\n",
      "memory usage: 99.4+ KB\n"
     ]
    }
   ],
   "source": [
    "df.info()"
   ]
  },
  {
   "cell_type": "code",
   "execution_count": 15,
   "metadata": {
    "scrolled": true
   },
   "outputs": [
    {
     "data": {
      "text/html": [
       "<div>\n",
       "<style scoped>\n",
       "    .dataframe tbody tr th:only-of-type {\n",
       "        vertical-align: middle;\n",
       "    }\n",
       "\n",
       "    .dataframe tbody tr th {\n",
       "        vertical-align: top;\n",
       "    }\n",
       "\n",
       "    .dataframe thead th {\n",
       "        text-align: right;\n",
       "    }\n",
       "</style>\n",
       "<table border=\"1\" class=\"dataframe\">\n",
       "  <thead>\n",
       "    <tr style=\"text-align: right;\">\n",
       "      <th></th>\n",
       "      <th>text</th>\n",
       "      <th>results</th>\n",
       "      <th>ID</th>\n",
       "    </tr>\n",
       "  </thead>\n",
       "  <tbody>\n",
       "    <tr>\n",
       "      <th>9</th>\n",
       "      <td>NaN</td>\n",
       "      <td>comment</td>\n",
       "      <td>5.528116e+17</td>\n",
       "    </tr>\n",
       "    <tr>\n",
       "      <th>29</th>\n",
       "      <td>NaN</td>\n",
       "      <td>comment</td>\n",
       "      <td>5.445206e+17</td>\n",
       "    </tr>\n",
       "    <tr>\n",
       "      <th>62</th>\n",
       "      <td>NaN</td>\n",
       "      <td>comment</td>\n",
       "      <td>5.249378e+17</td>\n",
       "    </tr>\n",
       "    <tr>\n",
       "      <th>64</th>\n",
       "      <td>NaN</td>\n",
       "      <td>query</td>\n",
       "      <td>5.535916e+17</td>\n",
       "    </tr>\n",
       "    <tr>\n",
       "      <th>95</th>\n",
       "      <td>NaN</td>\n",
       "      <td>comment</td>\n",
       "      <td>5.445189e+17</td>\n",
       "    </tr>\n",
       "    <tr>\n",
       "      <th>112</th>\n",
       "      <td>NaN</td>\n",
       "      <td>comment</td>\n",
       "      <td>5.535353e+17</td>\n",
       "    </tr>\n",
       "    <tr>\n",
       "      <th>150</th>\n",
       "      <td>NaN</td>\n",
       "      <td>comment</td>\n",
       "      <td>5.249336e+17</td>\n",
       "    </tr>\n",
       "    <tr>\n",
       "      <th>281</th>\n",
       "      <td>NaN</td>\n",
       "      <td>comment</td>\n",
       "      <td>5.442908e+17</td>\n",
       "    </tr>\n",
       "    <tr>\n",
       "      <th>375</th>\n",
       "      <td>NaN</td>\n",
       "      <td>comment</td>\n",
       "      <td>5.443494e+17</td>\n",
       "    </tr>\n",
       "    <tr>\n",
       "      <th>380</th>\n",
       "      <td>NaN</td>\n",
       "      <td>comment</td>\n",
       "      <td>5.445204e+17</td>\n",
       "    </tr>\n",
       "    <tr>\n",
       "      <th>485</th>\n",
       "      <td>NaN</td>\n",
       "      <td>comment</td>\n",
       "      <td>5.535594e+17</td>\n",
       "    </tr>\n",
       "    <tr>\n",
       "      <th>501</th>\n",
       "      <td>NaN</td>\n",
       "      <td>comment</td>\n",
       "      <td>5.249642e+17</td>\n",
       "    </tr>\n",
       "    <tr>\n",
       "      <th>636</th>\n",
       "      <td>NaN</td>\n",
       "      <td>support</td>\n",
       "      <td>5.443796e+17</td>\n",
       "    </tr>\n",
       "    <tr>\n",
       "      <th>647</th>\n",
       "      <td>NaN</td>\n",
       "      <td>comment</td>\n",
       "      <td>5.444805e+17</td>\n",
       "    </tr>\n",
       "    <tr>\n",
       "      <th>708</th>\n",
       "      <td>NaN</td>\n",
       "      <td>comment</td>\n",
       "      <td>5.531153e+17</td>\n",
       "    </tr>\n",
       "    <tr>\n",
       "      <th>767</th>\n",
       "      <td>NaN</td>\n",
       "      <td>support</td>\n",
       "      <td>5.443589e+17</td>\n",
       "    </tr>\n",
       "    <tr>\n",
       "      <th>769</th>\n",
       "      <td>NaN</td>\n",
       "      <td>comment</td>\n",
       "      <td>5.544124e+17</td>\n",
       "    </tr>\n",
       "    <tr>\n",
       "      <th>793</th>\n",
       "      <td>NaN</td>\n",
       "      <td>comment</td>\n",
       "      <td>5.006594e+17</td>\n",
       "    </tr>\n",
       "    <tr>\n",
       "      <th>851</th>\n",
       "      <td>NaN</td>\n",
       "      <td>comment</td>\n",
       "      <td>5.535943e+17</td>\n",
       "    </tr>\n",
       "    <tr>\n",
       "      <th>887</th>\n",
       "      <td>NaN</td>\n",
       "      <td>comment</td>\n",
       "      <td>5.249357e+17</td>\n",
       "    </tr>\n",
       "    <tr>\n",
       "      <th>894</th>\n",
       "      <td>NaN</td>\n",
       "      <td>comment</td>\n",
       "      <td>5.296616e+17</td>\n",
       "    </tr>\n",
       "    <tr>\n",
       "      <th>950</th>\n",
       "      <td>NaN</td>\n",
       "      <td>query</td>\n",
       "      <td>5.443984e+17</td>\n",
       "    </tr>\n",
       "    <tr>\n",
       "      <th>956</th>\n",
       "      <td>NaN</td>\n",
       "      <td>comment</td>\n",
       "      <td>5.446604e+17</td>\n",
       "    </tr>\n",
       "    <tr>\n",
       "      <th>1038</th>\n",
       "      <td>NaN</td>\n",
       "      <td>query</td>\n",
       "      <td>5.003176e+17</td>\n",
       "    </tr>\n",
       "    <tr>\n",
       "      <th>1108</th>\n",
       "      <td>NaN</td>\n",
       "      <td>deny</td>\n",
       "      <td>5.528510e+17</td>\n",
       "    </tr>\n",
       "    <tr>\n",
       "      <th>1176</th>\n",
       "      <td>NaN</td>\n",
       "      <td>comment</td>\n",
       "      <td>5.445111e+17</td>\n",
       "    </tr>\n",
       "    <tr>\n",
       "      <th>1186</th>\n",
       "      <td>NaN</td>\n",
       "      <td>comment</td>\n",
       "      <td>5.535073e+17</td>\n",
       "    </tr>\n",
       "    <tr>\n",
       "      <th>1255</th>\n",
       "      <td>NaN</td>\n",
       "      <td>support</td>\n",
       "      <td>5.536026e+17</td>\n",
       "    </tr>\n",
       "    <tr>\n",
       "      <th>1287</th>\n",
       "      <td>NaN</td>\n",
       "      <td>comment</td>\n",
       "      <td>5.004429e+17</td>\n",
       "    </tr>\n",
       "    <tr>\n",
       "      <th>1301</th>\n",
       "      <td>NaN</td>\n",
       "      <td>comment</td>\n",
       "      <td>5.444057e+17</td>\n",
       "    </tr>\n",
       "    <tr>\n",
       "      <th>...</th>\n",
       "      <td>...</td>\n",
       "      <td>...</td>\n",
       "      <td>...</td>\n",
       "    </tr>\n",
       "    <tr>\n",
       "      <th>3113</th>\n",
       "      <td>NaN</td>\n",
       "      <td>comment</td>\n",
       "      <td>5.765146e+17</td>\n",
       "    </tr>\n",
       "    <tr>\n",
       "      <th>3130</th>\n",
       "      <td>NaN</td>\n",
       "      <td>comment</td>\n",
       "      <td>5.534797e+17</td>\n",
       "    </tr>\n",
       "    <tr>\n",
       "      <th>3134</th>\n",
       "      <td>NaN</td>\n",
       "      <td>support</td>\n",
       "      <td>5.535493e+17</td>\n",
       "    </tr>\n",
       "    <tr>\n",
       "      <th>3147</th>\n",
       "      <td>NaN</td>\n",
       "      <td>comment</td>\n",
       "      <td>5.249819e+17</td>\n",
       "    </tr>\n",
       "    <tr>\n",
       "      <th>3277</th>\n",
       "      <td>NaN</td>\n",
       "      <td>comment</td>\n",
       "      <td>5.446020e+17</td>\n",
       "    </tr>\n",
       "    <tr>\n",
       "      <th>3323</th>\n",
       "      <td>NaN</td>\n",
       "      <td>support</td>\n",
       "      <td>5.250650e+17</td>\n",
       "    </tr>\n",
       "    <tr>\n",
       "      <th>3426</th>\n",
       "      <td>NaN</td>\n",
       "      <td>comment</td>\n",
       "      <td>5.249454e+17</td>\n",
       "    </tr>\n",
       "    <tr>\n",
       "      <th>3451</th>\n",
       "      <td>NaN</td>\n",
       "      <td>comment</td>\n",
       "      <td>5.535892e+17</td>\n",
       "    </tr>\n",
       "    <tr>\n",
       "      <th>3494</th>\n",
       "      <td>NaN</td>\n",
       "      <td>comment</td>\n",
       "      <td>5.249258e+17</td>\n",
       "    </tr>\n",
       "    <tr>\n",
       "      <th>3500</th>\n",
       "      <td>NaN</td>\n",
       "      <td>support</td>\n",
       "      <td>4.997524e+17</td>\n",
       "    </tr>\n",
       "    <tr>\n",
       "      <th>3510</th>\n",
       "      <td>NaN</td>\n",
       "      <td>comment</td>\n",
       "      <td>5.214684e+17</td>\n",
       "    </tr>\n",
       "    <tr>\n",
       "      <th>3552</th>\n",
       "      <td>NaN</td>\n",
       "      <td>comment</td>\n",
       "      <td>5.445155e+17</td>\n",
       "    </tr>\n",
       "    <tr>\n",
       "      <th>3583</th>\n",
       "      <td>NaN</td>\n",
       "      <td>comment</td>\n",
       "      <td>5.444841e+17</td>\n",
       "    </tr>\n",
       "    <tr>\n",
       "      <th>3604</th>\n",
       "      <td>literally...when these terrorists attacks goin...</td>\n",
       "      <td>NaN</td>\n",
       "      <td>NaN</td>\n",
       "    </tr>\n",
       "    <tr>\n",
       "      <th>3616</th>\n",
       "      <td>NaN</td>\n",
       "      <td>comment</td>\n",
       "      <td>5.534895e+17</td>\n",
       "    </tr>\n",
       "    <tr>\n",
       "      <th>3631</th>\n",
       "      <td>NaN</td>\n",
       "      <td>comment</td>\n",
       "      <td>5.528148e+17</td>\n",
       "    </tr>\n",
       "    <tr>\n",
       "      <th>3654</th>\n",
       "      <td>NaN</td>\n",
       "      <td>comment</td>\n",
       "      <td>5.534643e+17</td>\n",
       "    </tr>\n",
       "    <tr>\n",
       "      <th>3658</th>\n",
       "      <td>NaN</td>\n",
       "      <td>comment</td>\n",
       "      <td>5.535033e+17</td>\n",
       "    </tr>\n",
       "    <tr>\n",
       "      <th>3752</th>\n",
       "      <td>NaN</td>\n",
       "      <td>comment</td>\n",
       "      <td>5.768140e+17</td>\n",
       "    </tr>\n",
       "    <tr>\n",
       "      <th>3783</th>\n",
       "      <td>NaN</td>\n",
       "      <td>comment</td>\n",
       "      <td>5.002794e+17</td>\n",
       "    </tr>\n",
       "    <tr>\n",
       "      <th>3841</th>\n",
       "      <td>NaN</td>\n",
       "      <td>comment</td>\n",
       "      <td>5.528080e+17</td>\n",
       "    </tr>\n",
       "    <tr>\n",
       "      <th>3874</th>\n",
       "      <td>NaN</td>\n",
       "      <td>support</td>\n",
       "      <td>5.531094e+17</td>\n",
       "    </tr>\n",
       "    <tr>\n",
       "      <th>3925</th>\n",
       "      <td>NaN</td>\n",
       "      <td>comment</td>\n",
       "      <td>5.249641e+17</td>\n",
       "    </tr>\n",
       "    <tr>\n",
       "      <th>3943</th>\n",
       "      <td>NaN</td>\n",
       "      <td>support</td>\n",
       "      <td>5.002776e+17</td>\n",
       "    </tr>\n",
       "    <tr>\n",
       "      <th>3967</th>\n",
       "      <td>NaN</td>\n",
       "      <td>comment</td>\n",
       "      <td>5.249830e+17</td>\n",
       "    </tr>\n",
       "    <tr>\n",
       "      <th>4004</th>\n",
       "      <td>NaN</td>\n",
       "      <td>support</td>\n",
       "      <td>5.527922e+17</td>\n",
       "    </tr>\n",
       "    <tr>\n",
       "      <th>4011</th>\n",
       "      <td>NaN</td>\n",
       "      <td>comment</td>\n",
       "      <td>5.528368e+17</td>\n",
       "    </tr>\n",
       "    <tr>\n",
       "      <th>4015</th>\n",
       "      <td>NaN</td>\n",
       "      <td>comment</td>\n",
       "      <td>5.443431e+17</td>\n",
       "    </tr>\n",
       "    <tr>\n",
       "      <th>4053</th>\n",
       "      <td>NaN</td>\n",
       "      <td>comment</td>\n",
       "      <td>5.249256e+17</td>\n",
       "    </tr>\n",
       "    <tr>\n",
       "      <th>4181</th>\n",
       "      <td>NaN</td>\n",
       "      <td>comment</td>\n",
       "      <td>5.002789e+17</td>\n",
       "    </tr>\n",
       "  </tbody>\n",
       "</table>\n",
       "<p>101 rows × 3 columns</p>\n",
       "</div>"
      ],
      "text/plain": [
       "                                                   text  results            ID\n",
       "9                                                   NaN  comment  5.528116e+17\n",
       "29                                                  NaN  comment  5.445206e+17\n",
       "62                                                  NaN  comment  5.249378e+17\n",
       "64                                                  NaN    query  5.535916e+17\n",
       "95                                                  NaN  comment  5.445189e+17\n",
       "112                                                 NaN  comment  5.535353e+17\n",
       "150                                                 NaN  comment  5.249336e+17\n",
       "281                                                 NaN  comment  5.442908e+17\n",
       "375                                                 NaN  comment  5.443494e+17\n",
       "380                                                 NaN  comment  5.445204e+17\n",
       "485                                                 NaN  comment  5.535594e+17\n",
       "501                                                 NaN  comment  5.249642e+17\n",
       "636                                                 NaN  support  5.443796e+17\n",
       "647                                                 NaN  comment  5.444805e+17\n",
       "708                                                 NaN  comment  5.531153e+17\n",
       "767                                                 NaN  support  5.443589e+17\n",
       "769                                                 NaN  comment  5.544124e+17\n",
       "793                                                 NaN  comment  5.006594e+17\n",
       "851                                                 NaN  comment  5.535943e+17\n",
       "887                                                 NaN  comment  5.249357e+17\n",
       "894                                                 NaN  comment  5.296616e+17\n",
       "950                                                 NaN    query  5.443984e+17\n",
       "956                                                 NaN  comment  5.446604e+17\n",
       "1038                                                NaN    query  5.003176e+17\n",
       "1108                                                NaN     deny  5.528510e+17\n",
       "1176                                                NaN  comment  5.445111e+17\n",
       "1186                                                NaN  comment  5.535073e+17\n",
       "1255                                                NaN  support  5.536026e+17\n",
       "1287                                                NaN  comment  5.004429e+17\n",
       "1301                                                NaN  comment  5.444057e+17\n",
       "...                                                 ...      ...           ...\n",
       "3113                                                NaN  comment  5.765146e+17\n",
       "3130                                                NaN  comment  5.534797e+17\n",
       "3134                                                NaN  support  5.535493e+17\n",
       "3147                                                NaN  comment  5.249819e+17\n",
       "3277                                                NaN  comment  5.446020e+17\n",
       "3323                                                NaN  support  5.250650e+17\n",
       "3426                                                NaN  comment  5.249454e+17\n",
       "3451                                                NaN  comment  5.535892e+17\n",
       "3494                                                NaN  comment  5.249258e+17\n",
       "3500                                                NaN  support  4.997524e+17\n",
       "3510                                                NaN  comment  5.214684e+17\n",
       "3552                                                NaN  comment  5.445155e+17\n",
       "3583                                                NaN  comment  5.444841e+17\n",
       "3604  literally...when these terrorists attacks goin...      NaN           NaN\n",
       "3616                                                NaN  comment  5.534895e+17\n",
       "3631                                                NaN  comment  5.528148e+17\n",
       "3654                                                NaN  comment  5.534643e+17\n",
       "3658                                                NaN  comment  5.535033e+17\n",
       "3752                                                NaN  comment  5.768140e+17\n",
       "3783                                                NaN  comment  5.002794e+17\n",
       "3841                                                NaN  comment  5.528080e+17\n",
       "3874                                                NaN  support  5.531094e+17\n",
       "3925                                                NaN  comment  5.249641e+17\n",
       "3943                                                NaN  support  5.002776e+17\n",
       "3967                                                NaN  comment  5.249830e+17\n",
       "4004                                                NaN  support  5.527922e+17\n",
       "4011                                                NaN  comment  5.528368e+17\n",
       "4015                                                NaN  comment  5.443431e+17\n",
       "4053                                                NaN  comment  5.249256e+17\n",
       "4181                                                NaN  comment  5.002789e+17\n",
       "\n",
       "[101 rows x 3 columns]"
      ]
     },
     "execution_count": 15,
     "metadata": {},
     "output_type": "execute_result"
    }
   ],
   "source": [
    "df[df.isnull().any(axis=1)]"
   ]
  },
  {
   "cell_type": "code",
   "execution_count": null,
   "metadata": {},
   "outputs": [],
   "source": [
    "dataset.iloc[62]"
   ]
  },
  {
   "cell_type": "code",
   "execution_count": 18,
   "metadata": {},
   "outputs": [
    {
     "data": {
      "text/plain": [
       "text       @Slate @jasonCwaite http://t.co/FDMCU0siks\n",
       "results                                          deny\n",
       "ID                                        5.52851e+17\n",
       "Name: 1108, dtype: object"
      ]
     },
     "execution_count": 18,
     "metadata": {},
     "output_type": "execute_result"
    }
   ],
   "source": [
    "htmldata.iloc[1108]"
   ]
  },
  {
   "cell_type": "markdown",
   "metadata": {},
   "source": [
    "remove those empty texts"
   ]
  },
  {
   "cell_type": "code",
   "execution_count": 19,
   "metadata": {},
   "outputs": [],
   "source": [
    "df.dropna(inplace=True)"
   ]
  },
  {
   "cell_type": "code",
   "execution_count": null,
   "metadata": {},
   "outputs": [],
   "source": [
    "df.info()"
   ]
  },
  {
   "cell_type": "code",
   "execution_count": 20,
   "metadata": {},
   "outputs": [],
   "source": [
    "df.to_csv('clean_trainingdata.csv', index = None)"
   ]
  },
  {
   "cell_type": "code",
   "execution_count": 21,
   "metadata": {},
   "outputs": [
    {
     "data": {
      "text/plain": [
       "comment    2661\n",
       "support     824\n",
       "deny        328\n",
       "query       325\n",
       "Name: results, dtype: int64"
      ]
     },
     "execution_count": 21,
     "metadata": {},
     "output_type": "execute_result"
    }
   ],
   "source": [
    "df['results'].value_counts()"
   ]
  },
  {
   "cell_type": "code",
   "execution_count": 22,
   "metadata": {},
   "outputs": [],
   "source": [
    "dfcomment = df[df.results == 'comment']\n",
    "dfsupport = df[df.results == 'support']\n",
    "dfdeny = df[df.results == 'deny']\n",
    "dfquery = df[df.results == 'query']"
   ]
  },
  {
   "cell_type": "code",
   "execution_count": null,
   "metadata": {},
   "outputs": [],
   "source": [
    "newdf2 = pd.concat([dfsupport, dfsupport])"
   ]
  },
  {
   "cell_type": "code",
   "execution_count": null,
   "metadata": {},
   "outputs": [],
   "source": [
    "len(newdf2)"
   ]
  },
  {
   "cell_type": "code",
   "execution_count": null,
   "metadata": {},
   "outputs": [],
   "source": [
    "newdf = pd.concat([newdf, newdf]) #oversample the deny"
   ]
  },
  {
   "cell_type": "code",
   "execution_count": null,
   "metadata": {},
   "outputs": [],
   "source": [
    "newdf1 = pd.concat([newdf1, newdf1]) #oversample the query"
   ]
  },
  {
   "cell_type": "code",
   "execution_count": null,
   "metadata": {},
   "outputs": [],
   "source": [
    "newdf2 = pd.concat([newdf2, dfsupport]) #oversample the support"
   ]
  },
  {
   "cell_type": "code",
   "execution_count": null,
   "metadata": {},
   "outputs": [],
   "source": [
    "newdataset = pd.concat([newdf2, dfcomment,newdf,newdf1])"
   ]
  },
  {
   "cell_type": "code",
   "execution_count": null,
   "metadata": {},
   "outputs": [],
   "source": [
    "newdataset.info()"
   ]
  },
  {
   "cell_type": "code",
   "execution_count": null,
   "metadata": {},
   "outputs": [],
   "source": [
    "newdataset.to_csv('new_trainingdata.csv', index = None)"
   ]
  },
  {
   "cell_type": "code",
   "execution_count": null,
   "metadata": {},
   "outputs": [],
   "source": [
    "newdataset = pd.read_csv('new_trainingdata.csv')"
   ]
  },
  {
   "cell_type": "code",
   "execution_count": null,
   "metadata": {},
   "outputs": [],
   "source": [
    "newdataset.head()"
   ]
  },
  {
   "cell_type": "code",
   "execution_count": null,
   "metadata": {},
   "outputs": [],
   "source": [
    "newdataset.info()"
   ]
  },
  {
   "cell_type": "markdown",
   "metadata": {},
   "source": [
    "tokenize the texts"
   ]
  },
  {
   "cell_type": "code",
   "execution_count": null,
   "metadata": {},
   "outputs": [],
   "source": [
    "from nltk.tokenize import TweetTokenizer"
   ]
  },
  {
   "cell_type": "code",
   "execution_count": null,
   "metadata": {},
   "outputs": [],
   "source": [
    "tknzr = TweetTokenizer(strip_handles=True, reduce_len=True)"
   ]
  },
  {
   "cell_type": "code",
   "execution_count": null,
   "metadata": {},
   "outputs": [],
   "source": [
    "temp = [] \n",
    "for x in newdataset['text']:\n",
    "    temp.append(tknzr.tokenize(x))\n",
    "temp = pd.Series(temp)\n",
    "newdataset['reply_text'] = temp"
   ]
  },
  {
   "cell_type": "code",
   "execution_count": null,
   "metadata": {},
   "outputs": [],
   "source": [
    "newdataset.head()"
   ]
  },
  {
   "cell_type": "markdown",
   "metadata": {},
   "source": [
    "shuffle the data"
   ]
  },
  {
   "cell_type": "code",
   "execution_count": null,
   "metadata": {},
   "outputs": [],
   "source": [
    "newdataset.sample(len(newdataset))"
   ]
  },
  {
   "cell_type": "markdown",
   "metadata": {},
   "source": [
    "Found that some abbreviation are tokenized incorrectly, so we need to go back and modify the cleansing process, "
   ]
  }
 ],
 "metadata": {
  "kernelspec": {
   "display_name": "Python 3",
   "language": "python",
   "name": "python3"
  },
  "language_info": {
   "codemirror_mode": {
    "name": "ipython",
    "version": 3
   },
   "file_extension": ".py",
   "mimetype": "text/x-python",
   "name": "python",
   "nbconvert_exporter": "python",
   "pygments_lexer": "ipython3",
   "version": "3.6.2rc1"
  }
 },
 "nbformat": 4,
 "nbformat_minor": 2
}
