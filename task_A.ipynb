{
 "cells": [
  {
   "cell_type": "code",
   "execution_count": 1,
   "metadata": {},
   "outputs": [],
   "source": [
    "import  json\n",
    "from os import listdir\n",
    "from os.path import isfile, join\n",
    "import csv\n",
    "import pandas as pd\n",
    "import numpy as np\n",
    "import matplotlib.pyplot as plt\n",
    "import re"
   ]
  },
  {
   "cell_type": "code",
   "execution_count": 2,
   "metadata": {},
   "outputs": [],
   "source": []
  },
  {
   "cell_type": "code",
   "execution_count": null,
   "metadata": {},
   "outputs": [],
   "source": []
  },
  {
   "cell_type": "markdown",
   "metadata": {},
   "source": [
    "Load the data from JSON"
   ]
  },
  {
   "cell_type": "code",
   "execution_count": null,
   "metadata": {},
   "outputs": [],
   "source": [
    "data = json.load(open('rumoureval-subtaskA-train.json'))\n",
    "\n",
    "dev = json.load(open('rumoureval-subtaskA-dev.json'))\n",
    "\n"
   ]
  },
  {
   "cell_type": "markdown",
   "metadata": {},
   "source": [
    "Match the respective tweets by ID"
   ]
  },
  {
   "cell_type": "code",
   "execution_count": null,
   "metadata": {
    "scrolled": true
   },
   "outputs": [],
   "source": [
    "csv = open('traindata.csv', \"w\", encoding='utf-8-sig')\n",
    "columnTitleRow = \"ID,tweet_text,results\\n\"\n",
    "csv.write(columnTitleRow)\n",
    "\n",
    "for k,v in data.items():\n",
    "    json_path=\"\"\n",
    "    mypath=\"C:/Users/Nicole/semeval2017-task8-dataset/rumoureval-data/\"\n",
    "    \n",
    "    for d in listdir(mypath):\n",
    "        for thread in listdir(mypath+d):\n",
    "            if k == thread:\n",
    "                json_path=mypath+d+\"/\"+thread+\"/source-tweet/\"+k+\".json\"\n",
    "                break\n",
    "            else:                \n",
    "                reply_path=mypath+d+\"/\"+thread+\"/replies/\"\n",
    "                if k+\".json\" in listdir(reply_path):\n",
    "                    json_path=reply_path+k+\".json\"\n",
    "                    break\n",
    "        if json_path!=\"\":\n",
    "            break\n",
    "    if (isfile(json_path)):\n",
    "            source = json.load(open(json_path, 'r'))\n",
    "            print(json_path)\n",
    "    else:\n",
    "        print (\"False:\" + k)\n",
    "        print(json_path)\n",
    "        print(\"end\\n\")\n",
    "    #print (source)\n",
    "    reply_tweet = source['text']\n",
    "    reply_tweet = reply_tweet.replace(\"\\n\", \" \")\n",
    "    reply_tweet = reply_tweet.replace(\"\\\"\", \"\\\"\\\"\")\n",
    "    row = k + \",\" + \"\\\"\" + reply_tweet + \"\\\"\" + \",\" + v + \"\\n\"\n",
    "    csv.write(row)\n",
    "    #print (source['text'])\n",
    "    #print (v+\"\\n\")\n",
    "    "
   ]
  },
  {
   "cell_type": "code",
   "execution_count": 3,
   "metadata": {},
   "outputs": [],
   "source": [
    "dataset = pd.read_csv('traindata.csv', error_bad_lines=False)"
   ]
  },
  {
   "cell_type": "code",
   "execution_count": null,
   "metadata": {
    "scrolled": true
   },
   "outputs": [],
   "source": [
    "dataset.head()"
   ]
  },
  {
   "cell_type": "code",
   "execution_count": null,
   "metadata": {},
   "outputs": [],
   "source": [
    "csv.close()"
   ]
  },
  {
   "cell_type": "markdown",
   "metadata": {},
   "source": [
    "Information of the training data"
   ]
  },
  {
   "cell_type": "code",
   "execution_count": 7,
   "metadata": {},
   "outputs": [
    {
     "name": "stdout",
     "output_type": "stream",
     "text": [
      "<class 'pandas.core.frame.DataFrame'>\n",
      "RangeIndex: 4238 entries, 0 to 4237\n",
      "Data columns (total 3 columns):\n",
      "ID             4238 non-null int64\n",
      " tweet_text    4238 non-null object\n",
      " results       4238 non-null object\n",
      "dtypes: int64(1), object(2)\n",
      "memory usage: 99.4+ KB\n"
     ]
    }
   ],
   "source": [
    "dataset.info()"
   ]
  },
  {
   "cell_type": "markdown",
   "metadata": {},
   "source": [
    "use the following code to see if the data is loaded right"
   ]
  },
  {
   "cell_type": "code",
   "execution_count": null,
   "metadata": {},
   "outputs": [],
   "source": [
    "dataset[dataset.isnull().any(axis=1)]"
   ]
  },
  {
   "cell_type": "code",
   "execution_count": 8,
   "metadata": {},
   "outputs": [
    {
     "data": {
      "text/plain": [
       "0"
      ]
     },
     "execution_count": 8,
     "metadata": {},
     "output_type": "execute_result"
    }
   ],
   "source": [
    "np.sum(dataset.isnull().any(axis=1))"
   ]
  },
  {
   "cell_type": "code",
   "execution_count": null,
   "metadata": {},
   "outputs": [],
   "source": [
    "dataset.isnull().any(axis=0)"
   ]
  },
  {
   "cell_type": "code",
   "execution_count": 9,
   "metadata": {},
   "outputs": [],
   "source": [
    "dataset = dataset.rename(columns={\" tweet_text\": \"tweet_text\", \" results\": \"results\"})"
   ]
  },
  {
   "cell_type": "markdown",
   "metadata": {},
   "source": [
    "the tweets of different classes"
   ]
  },
  {
   "cell_type": "code",
   "execution_count": 46,
   "metadata": {},
   "outputs": [
    {
     "data": {
      "text/plain": [
       "comment    2734\n",
       "support     841\n",
       "deny        333\n",
       "query       330\n",
       "Name: results, dtype: int64"
      ]
     },
     "execution_count": 46,
     "metadata": {},
     "output_type": "execute_result"
    }
   ],
   "source": [
    "dataset['results'].value_counts()"
   ]
  },
  {
   "cell_type": "markdown",
   "metadata": {},
   "source": [
    "The data is skew"
   ]
  },
  {
   "cell_type": "markdown",
   "metadata": {},
   "source": [
    "we will need to try oversampling the 3 groups other than 'comment' group, devide them into 4 groups"
   ]
  },
  {
   "cell_type": "code",
   "execution_count": null,
   "metadata": {},
   "outputs": [],
   "source": [
    "dfcomment = dataset[dataset.results == 'comment']"
   ]
  },
  {
   "cell_type": "code",
   "execution_count": null,
   "metadata": {},
   "outputs": [],
   "source": [
    "dfsupport = dataset[dataset.results == 'support']"
   ]
  },
  {
   "cell_type": "code",
   "execution_count": null,
   "metadata": {},
   "outputs": [],
   "source": [
    "dfdeny = dataset[dataset.results == 'deny']"
   ]
  },
  {
   "cell_type": "code",
   "execution_count": null,
   "metadata": {},
   "outputs": [],
   "source": [
    "dfquery = dataset[dataset.results == 'query']"
   ]
  },
  {
   "cell_type": "code",
   "execution_count": null,
   "metadata": {},
   "outputs": [],
   "source": [
    "dfquery.head()"
   ]
  },
  {
   "cell_type": "markdown",
   "metadata": {},
   "source": [
    "# data cleansing"
   ]
  },
  {
   "cell_type": "code",
   "execution_count": null,
   "metadata": {},
   "outputs": [],
   "source": [
    "dataset['text_len'] = [len(t) for t in dataset.tweet_text]"
   ]
  },
  {
   "cell_type": "code",
   "execution_count": null,
   "metadata": {
    "scrolled": true
   },
   "outputs": [],
   "source": [
    "dataset.head()"
   ]
  },
  {
   "cell_type": "code",
   "execution_count": null,
   "metadata": {},
   "outputs": [],
   "source": [
    "fig, ax = plt.subplots(figsize=(5, 5))\n",
    "plt.boxplot(dataset.text_len)\n",
    "plt.show()"
   ]
  },
  {
   "cell_type": "code",
   "execution_count": null,
   "metadata": {},
   "outputs": [],
   "source": [
    "testing = dataset[dataset['text_len']>140]"
   ]
  },
  {
   "cell_type": "code",
   "execution_count": null,
   "metadata": {},
   "outputs": [],
   "source": [
    "testing.head()"
   ]
  },
  {
   "cell_type": "code",
   "execution_count": null,
   "metadata": {},
   "outputs": [],
   "source": []
  },
  {
   "cell_type": "markdown",
   "metadata": {},
   "source": [
    "tweet has length limit with 140, to see why they exceed 140"
   ]
  },
  {
   "cell_type": "code",
   "execution_count": null,
   "metadata": {},
   "outputs": [],
   "source": [
    "testing['tweet_text'].iloc[1]"
   ]
  },
  {
   "cell_type": "markdown",
   "metadata": {},
   "source": [
    "there are some HTML decoding problem"
   ]
  },
  {
   "cell_type": "code",
   "execution_count": null,
   "metadata": {},
   "outputs": [],
   "source": [
    "len(testing['tweet_text'])"
   ]
  },
  {
   "cell_type": "markdown",
   "metadata": {},
   "source": [
    "# HTML decoding"
   ]
  },
  {
   "cell_type": "markdown",
   "metadata": {},
   "source": [
    "use the beautiful soup to do the html decoding"
   ]
  },
  {
   "cell_type": "code",
   "execution_count": 10,
   "metadata": {},
   "outputs": [],
   "source": [
    "from bs4 import BeautifulSoup"
   ]
  },
  {
   "cell_type": "markdown",
   "metadata": {},
   "source": [
    "run a test on it"
   ]
  },
  {
   "cell_type": "code",
   "execution_count": null,
   "metadata": {},
   "outputs": [],
   "source": [
    "example1 = BeautifulSoup(testing['tweet_text'].iloc[3], 'html.parser')\n",
    "example1.get_text()"
   ]
  },
  {
   "cell_type": "code",
   "execution_count": null,
   "metadata": {},
   "outputs": [],
   "source": [
    "example1"
   ]
  },
  {
   "cell_type": "markdown",
   "metadata": {},
   "source": []
  },
  {
   "cell_type": "code",
   "execution_count": null,
   "metadata": {},
   "outputs": [],
   "source": [
    "# def tweet_cleaner(text):\n",
    "#     example1 = BeautifulSoup(text, 'html.parser')\n",
    "#     return example1.get_text()\n",
    "    "
   ]
  },
  {
   "cell_type": "code",
   "execution_count": 11,
   "metadata": {},
   "outputs": [],
   "source": [
    "clean_tweet_texts = []\n",
    "for i in dataset['tweet_text']:\n",
    "    clean_tweet_texts.append(BeautifulSoup(i, 'html.parser').get_text())"
   ]
  },
  {
   "cell_type": "code",
   "execution_count": 12,
   "metadata": {},
   "outputs": [
    {
     "data": {
      "text/plain": [
       "4238"
      ]
     },
     "execution_count": 12,
     "metadata": {},
     "output_type": "execute_result"
    }
   ],
   "source": [
    "len(clean_tweet_texts)"
   ]
  },
  {
   "cell_type": "code",
   "execution_count": 13,
   "metadata": {
    "scrolled": true
   },
   "outputs": [
    {
     "data": {
      "text/html": [
       "<div>\n",
       "<style scoped>\n",
       "    .dataframe tbody tr th:only-of-type {\n",
       "        vertical-align: middle;\n",
       "    }\n",
       "\n",
       "    .dataframe tbody tr th {\n",
       "        vertical-align: top;\n",
       "    }\n",
       "\n",
       "    .dataframe thead th {\n",
       "        text-align: right;\n",
       "    }\n",
       "</style>\n",
       "<table border=\"1\" class=\"dataframe\">\n",
       "  <thead>\n",
       "    <tr style=\"text-align: right;\">\n",
       "      <th></th>\n",
       "      <th>text</th>\n",
       "      <th>results</th>\n",
       "      <th>ID</th>\n",
       "    </tr>\n",
       "  </thead>\n",
       "  <tbody>\n",
       "    <tr>\n",
       "      <th>0</th>\n",
       "      <td>@max843 @DanteB4u @Alasscan_  This shows Micha...</td>\n",
       "      <td>comment</td>\n",
       "      <td>501760642928635904</td>\n",
       "    </tr>\n",
       "    <tr>\n",
       "      <th>1</th>\n",
       "      <td>@USATODAY Get ready to tweet the address #Spik...</td>\n",
       "      <td>comment</td>\n",
       "      <td>500270212198174720</td>\n",
       "    </tr>\n",
       "    <tr>\n",
       "      <th>2</th>\n",
       "      <td>@rikermacdaniels @CBCAlerts @CBCNews @JustinTr...</td>\n",
       "      <td>comment</td>\n",
       "      <td>524971210275565568</td>\n",
       "    </tr>\n",
       "    <tr>\n",
       "      <th>3</th>\n",
       "      <td>@RT_com  Just kill them.</td>\n",
       "      <td>comment</td>\n",
       "      <td>552836882770690049</td>\n",
       "    </tr>\n",
       "    <tr>\n",
       "      <th>4</th>\n",
       "      <td>@TheAnonMessage2 no, because that would requir...</td>\n",
       "      <td>support</td>\n",
       "      <td>500289931097296897</td>\n",
       "    </tr>\n",
       "  </tbody>\n",
       "</table>\n",
       "</div>"
      ],
      "text/plain": [
       "                                                text  results  \\\n",
       "0  @max843 @DanteB4u @Alasscan_  This shows Micha...  comment   \n",
       "1  @USATODAY Get ready to tweet the address #Spik...  comment   \n",
       "2  @rikermacdaniels @CBCAlerts @CBCNews @JustinTr...  comment   \n",
       "3                           @RT_com  Just kill them.  comment   \n",
       "4  @TheAnonMessage2 no, because that would requir...  support   \n",
       "\n",
       "                   ID  \n",
       "0  501760642928635904  \n",
       "1  500270212198174720  \n",
       "2  524971210275565568  \n",
       "3  552836882770690049  \n",
       "4  500289931097296897  "
      ]
     },
     "execution_count": 13,
     "metadata": {},
     "output_type": "execute_result"
    }
   ],
   "source": [
    "clean_df = pd.DataFrame(clean_tweet_texts,columns=['text'])\n",
    "clean_df['results'] = dataset['results']\n",
    "clean_df['ID'] = dataset['ID']\n",
    "clean_df.head()"
   ]
  },
  {
   "cell_type": "code",
   "execution_count": 18,
   "metadata": {},
   "outputs": [
    {
     "name": "stdout",
     "output_type": "stream",
     "text": [
      "<class 'pandas.core.frame.DataFrame'>\n",
      "RangeIndex: 4238 entries, 0 to 4237\n",
      "Data columns (total 3 columns):\n",
      "text       4238 non-null object\n",
      "results    4238 non-null object\n",
      "ID         4238 non-null int64\n",
      "dtypes: int64(1), object(2)\n",
      "memory usage: 99.4+ KB\n"
     ]
    }
   ],
   "source": [
    "htmldata.info()"
   ]
  },
  {
   "cell_type": "code",
   "execution_count": null,
   "metadata": {},
   "outputs": [],
   "source": [
    "clean_df.to_csv('training_data_with_html_decode.csv', index = None)"
   ]
  },
  {
   "cell_type": "code",
   "execution_count": null,
   "metadata": {},
   "outputs": [],
   "source": [
    "htmldata = pd.read_csv('training_data_with_html_decode.csv')"
   ]
  },
  {
   "cell_type": "code",
   "execution_count": 17,
   "metadata": {
    "scrolled": true
   },
   "outputs": [],
   "source": [
    "htmldata"
   ]
  },
  {
   "cell_type": "markdown",
   "metadata": {},
   "source": [
    "check the length again"
   ]
  },
  {
   "cell_type": "code",
   "execution_count": null,
   "metadata": {},
   "outputs": [],
   "source": [
    "htmldata['text_len'] = [len(t) for t in htmldata.text]"
   ]
  },
  {
   "cell_type": "code",
   "execution_count": null,
   "metadata": {},
   "outputs": [],
   "source": [
    "htmldata[htmldata['text_len']>140]"
   ]
  },
  {
   "cell_type": "markdown",
   "metadata": {},
   "source": [
    "it's empty so we're good to go"
   ]
  },
  {
   "cell_type": "code",
   "execution_count": null,
   "metadata": {},
   "outputs": [],
   "source": [
    "htmldata['text'].iloc[0]"
   ]
  },
  {
   "cell_type": "code",
   "execution_count": null,
   "metadata": {},
   "outputs": [],
   "source": [
    "htmldata['text'].iloc[4217]"
   ]
  },
  {
   "cell_type": "code",
   "execution_count": null,
   "metadata": {},
   "outputs": [],
   "source": [
    "htmldata['text'].iloc[9]"
   ]
  },
  {
   "cell_type": "markdown",
   "metadata": {},
   "source": [
    "for pre-processing, there's a Python library which is used to deal with the tweets preprocessing, it will clean out:\n",
    "URLs\n",
    "Hashtags\n",
    "Mentions\n",
    "\n",
    "Emojis\n",
    "Smileys\n",
    "\n",
    "I decided to remove the URLs, Mentions,  Emojis, Smileys, numbers, but for hashtags, I will only remove the hashtag symbol and keep the word following the hashtag symbol as some of it is the part of the sentense and it's useful, so I'm not using the hashtags option here, and I will remove the Reserved words (RT, FAV) in the tweets"
   ]
  },
  {
   "cell_type": "code",
   "execution_count": 15,
   "metadata": {},
   "outputs": [],
   "source": [
    "import preprocessor as p"
   ]
  },
  {
   "cell_type": "code",
   "execution_count": 16,
   "metadata": {},
   "outputs": [],
   "source": [
    "p.set_options(p.OPT.URL, p.OPT.EMOJI, p.OPT.MENTION, p.OPT.RESERVED, p.OPT.NUMBER, p.OPT.SMILEY)"
   ]
  },
  {
   "cell_type": "code",
   "execution_count": null,
   "metadata": {},
   "outputs": [],
   "source": [
    "re.sub(' RT| FAV', ' ', p.clean('Preprocessor is #awesome 👍 https://github.com/s/preprocessor RTl'))"
   ]
  },
  {
   "cell_type": "markdown",
   "metadata": {},
   "source": [
    "make small tests first"
   ]
  },
  {
   "cell_type": "code",
   "execution_count": null,
   "metadata": {},
   "outputs": [],
   "source": [
    "p.clean(htmldata['text'].iloc[0])"
   ]
  },
  {
   "cell_type": "code",
   "execution_count": null,
   "metadata": {},
   "outputs": [],
   "source": [
    "re.sub(' RT', ' ', p.clean(htmldata['text'].iloc[0]))"
   ]
  },
  {
   "cell_type": "code",
   "execution_count": null,
   "metadata": {},
   "outputs": [],
   "source": [
    "htmldata['text'].iloc[4217]"
   ]
  },
  {
   "cell_type": "code",
   "execution_count": null,
   "metadata": {},
   "outputs": [],
   "source": [
    "p.clean(htmldata['text'].iloc[4217])"
   ]
  },
  {
   "cell_type": "markdown",
   "metadata": {},
   "source": [
    "remove punctuations, non-alphabaet characters and separates the word with a single space"
   ]
  },
  {
   "cell_type": "code",
   "execution_count": null,
   "metadata": {},
   "outputs": [],
   "source": [
    "' '.join(re.sub(\"(@[A-Za-z0-9]+)|([^0-9A-Za-z \\t])|(\\w+:\\/\\/\\S+)\",\" \",testtext).split())"
   ]
  },
  {
   "cell_type": "markdown",
   "metadata": {},
   "source": [
    "do it on all the data"
   ]
  },
  {
   "cell_type": "code",
   "execution_count": 19,
   "metadata": {},
   "outputs": [],
   "source": [
    "clean_tweet_texts1 = []\n",
    "for i in htmldata['text']:\n",
    "    clean_tweet_texts1.append(re.sub(' RT', ' ',p.clean(i)))"
   ]
  },
  {
   "cell_type": "code",
   "execution_count": 20,
   "metadata": {},
   "outputs": [],
   "source": [
    "clean_tweet_texts2 = []\n",
    "for i in clean_tweet_texts1:\n",
    "    clean_tweet_texts2.append(' '.join(re.sub(\"(@[A-Za-z0-9]+)|([^0-9A-Za-z \\t])|(\\w+:\\/\\/\\S+)\",\" \",i).split()))"
   ]
  },
  {
   "cell_type": "code",
   "execution_count": 21,
   "metadata": {},
   "outputs": [
    {
     "data": {
      "text/html": [
       "<div>\n",
       "<style scoped>\n",
       "    .dataframe tbody tr th:only-of-type {\n",
       "        vertical-align: middle;\n",
       "    }\n",
       "\n",
       "    .dataframe tbody tr th {\n",
       "        vertical-align: top;\n",
       "    }\n",
       "\n",
       "    .dataframe thead th {\n",
       "        text-align: right;\n",
       "    }\n",
       "</style>\n",
       "<table border=\"1\" class=\"dataframe\">\n",
       "  <thead>\n",
       "    <tr style=\"text-align: right;\">\n",
       "      <th></th>\n",
       "      <th>text</th>\n",
       "      <th>results</th>\n",
       "      <th>ID</th>\n",
       "    </tr>\n",
       "  </thead>\n",
       "  <tbody>\n",
       "    <tr>\n",
       "      <th>0</th>\n",
       "      <td>This shows Michael paid for cigarillos No robb...</td>\n",
       "      <td>comment</td>\n",
       "      <td>501760642928635904</td>\n",
       "    </tr>\n",
       "    <tr>\n",
       "      <th>1</th>\n",
       "      <td>Get ready to tweet the address SpikeLee and ot...</td>\n",
       "      <td>comment</td>\n",
       "      <td>500270212198174720</td>\n",
       "    </tr>\n",
       "    <tr>\n",
       "      <th>2</th>\n",
       "      <td>your radical Muslims are being funded by Ameri...</td>\n",
       "      <td>comment</td>\n",
       "      <td>524971210275565568</td>\n",
       "    </tr>\n",
       "    <tr>\n",
       "      <th>3</th>\n",
       "      <td>Just kill them</td>\n",
       "      <td>comment</td>\n",
       "      <td>552836882770690049</td>\n",
       "    </tr>\n",
       "    <tr>\n",
       "      <th>4</th>\n",
       "      <td>no because that would require reasoning and th...</td>\n",
       "      <td>support</td>\n",
       "      <td>500289931097296897</td>\n",
       "    </tr>\n",
       "  </tbody>\n",
       "</table>\n",
       "</div>"
      ],
      "text/plain": [
       "                                                text  results  \\\n",
       "0  This shows Michael paid for cigarillos No robb...  comment   \n",
       "1  Get ready to tweet the address SpikeLee and ot...  comment   \n",
       "2  your radical Muslims are being funded by Ameri...  comment   \n",
       "3                                     Just kill them  comment   \n",
       "4  no because that would require reasoning and th...  support   \n",
       "\n",
       "                   ID  \n",
       "0  501760642928635904  \n",
       "1  500270212198174720  \n",
       "2  524971210275565568  \n",
       "3  552836882770690049  \n",
       "4  500289931097296897  "
      ]
     },
     "execution_count": 21,
     "metadata": {},
     "output_type": "execute_result"
    }
   ],
   "source": [
    "clean_tweet_texts2_df = pd.DataFrame(clean_tweet_texts2,columns=['text'])\n",
    "clean_tweet_texts2_df['results'] = htmldata['results']\n",
    "clean_tweet_texts2_df['ID'] = htmldata['ID']\n",
    "clean_tweet_texts2_df.head()"
   ]
  },
  {
   "cell_type": "code",
   "execution_count": null,
   "metadata": {},
   "outputs": [],
   "source": [
    "clean_tweet_texts2_df['text'].iloc[0]"
   ]
  },
  {
   "cell_type": "code",
   "execution_count": 30,
   "metadata": {},
   "outputs": [],
   "source": [
    "clean_tweet_texts2_df.to_csv('clean_trainingdata.csv', index = None)"
   ]
  },
  {
   "cell_type": "code",
   "execution_count": 31,
   "metadata": {},
   "outputs": [],
   "source": [
    "df = pd.read_csv('clean_trainingdata.csv')"
   ]
  },
  {
   "cell_type": "code",
   "execution_count": 23,
   "metadata": {},
   "outputs": [],
   "source": [
    "df = clean_tweet_texts2_df"
   ]
  },
  {
   "cell_type": "code",
   "execution_count": 32,
   "metadata": {},
   "outputs": [
    {
     "name": "stdout",
     "output_type": "stream",
     "text": [
      "<class 'pandas.core.frame.DataFrame'>\n",
      "RangeIndex: 4238 entries, 0 to 4237\n",
      "Data columns (total 3 columns):\n",
      "text       4136 non-null object\n",
      "results    4238 non-null object\n",
      "ID         4238 non-null int64\n",
      "dtypes: int64(1), object(2)\n",
      "memory usage: 99.4+ KB\n"
     ]
    }
   ],
   "source": [
    "df.info()"
   ]
  },
  {
   "cell_type": "code",
   "execution_count": 33,
   "metadata": {
    "scrolled": true
   },
   "outputs": [
    {
     "data": {
      "text/html": [
       "<div>\n",
       "<style scoped>\n",
       "    .dataframe tbody tr th:only-of-type {\n",
       "        vertical-align: middle;\n",
       "    }\n",
       "\n",
       "    .dataframe tbody tr th {\n",
       "        vertical-align: top;\n",
       "    }\n",
       "\n",
       "    .dataframe thead th {\n",
       "        text-align: right;\n",
       "    }\n",
       "</style>\n",
       "<table border=\"1\" class=\"dataframe\">\n",
       "  <thead>\n",
       "    <tr style=\"text-align: right;\">\n",
       "      <th></th>\n",
       "      <th>text</th>\n",
       "      <th>results</th>\n",
       "      <th>ID</th>\n",
       "    </tr>\n",
       "  </thead>\n",
       "  <tbody>\n",
       "    <tr>\n",
       "      <th>9</th>\n",
       "      <td>NaN</td>\n",
       "      <td>comment</td>\n",
       "      <td>552811591683821568</td>\n",
       "    </tr>\n",
       "    <tr>\n",
       "      <th>29</th>\n",
       "      <td>NaN</td>\n",
       "      <td>comment</td>\n",
       "      <td>544520601038098433</td>\n",
       "    </tr>\n",
       "    <tr>\n",
       "      <th>62</th>\n",
       "      <td>NaN</td>\n",
       "      <td>comment</td>\n",
       "      <td>524937817924067328</td>\n",
       "    </tr>\n",
       "    <tr>\n",
       "      <th>64</th>\n",
       "      <td>NaN</td>\n",
       "      <td>query</td>\n",
       "      <td>553591557325336576</td>\n",
       "    </tr>\n",
       "    <tr>\n",
       "      <th>95</th>\n",
       "      <td>NaN</td>\n",
       "      <td>comment</td>\n",
       "      <td>544518918912495616</td>\n",
       "    </tr>\n",
       "    <tr>\n",
       "      <th>112</th>\n",
       "      <td>NaN</td>\n",
       "      <td>comment</td>\n",
       "      <td>553535342049902592</td>\n",
       "    </tr>\n",
       "    <tr>\n",
       "      <th>150</th>\n",
       "      <td>NaN</td>\n",
       "      <td>comment</td>\n",
       "      <td>524933596113801218</td>\n",
       "    </tr>\n",
       "    <tr>\n",
       "      <th>281</th>\n",
       "      <td>NaN</td>\n",
       "      <td>comment</td>\n",
       "      <td>544290755624198144</td>\n",
       "    </tr>\n",
       "    <tr>\n",
       "      <th>375</th>\n",
       "      <td>NaN</td>\n",
       "      <td>comment</td>\n",
       "      <td>544349387741495296</td>\n",
       "    </tr>\n",
       "    <tr>\n",
       "      <th>380</th>\n",
       "      <td>NaN</td>\n",
       "      <td>comment</td>\n",
       "      <td>544520377162952704</td>\n",
       "    </tr>\n",
       "    <tr>\n",
       "      <th>485</th>\n",
       "      <td>NaN</td>\n",
       "      <td>comment</td>\n",
       "      <td>553559389102026752</td>\n",
       "    </tr>\n",
       "    <tr>\n",
       "      <th>501</th>\n",
       "      <td>NaN</td>\n",
       "      <td>comment</td>\n",
       "      <td>524964193813155841</td>\n",
       "    </tr>\n",
       "    <tr>\n",
       "      <th>636</th>\n",
       "      <td>NaN</td>\n",
       "      <td>support</td>\n",
       "      <td>544379605818159104</td>\n",
       "    </tr>\n",
       "    <tr>\n",
       "      <th>647</th>\n",
       "      <td>NaN</td>\n",
       "      <td>comment</td>\n",
       "      <td>544480456478314496</td>\n",
       "    </tr>\n",
       "    <tr>\n",
       "      <th>708</th>\n",
       "      <td>NaN</td>\n",
       "      <td>comment</td>\n",
       "      <td>553115272031113216</td>\n",
       "    </tr>\n",
       "    <tr>\n",
       "      <th>767</th>\n",
       "      <td>NaN</td>\n",
       "      <td>support</td>\n",
       "      <td>544358922904420352</td>\n",
       "    </tr>\n",
       "    <tr>\n",
       "      <th>769</th>\n",
       "      <td>NaN</td>\n",
       "      <td>comment</td>\n",
       "      <td>554412391279374336</td>\n",
       "    </tr>\n",
       "    <tr>\n",
       "      <th>793</th>\n",
       "      <td>NaN</td>\n",
       "      <td>comment</td>\n",
       "      <td>500659434558087168</td>\n",
       "    </tr>\n",
       "    <tr>\n",
       "      <th>851</th>\n",
       "      <td>NaN</td>\n",
       "      <td>comment</td>\n",
       "      <td>553594257593106432</td>\n",
       "    </tr>\n",
       "    <tr>\n",
       "      <th>887</th>\n",
       "      <td>NaN</td>\n",
       "      <td>comment</td>\n",
       "      <td>524935683908333569</td>\n",
       "    </tr>\n",
       "    <tr>\n",
       "      <th>894</th>\n",
       "      <td>NaN</td>\n",
       "      <td>comment</td>\n",
       "      <td>529661580649459712</td>\n",
       "    </tr>\n",
       "    <tr>\n",
       "      <th>950</th>\n",
       "      <td>NaN</td>\n",
       "      <td>query</td>\n",
       "      <td>544398446568820736</td>\n",
       "    </tr>\n",
       "    <tr>\n",
       "      <th>956</th>\n",
       "      <td>NaN</td>\n",
       "      <td>comment</td>\n",
       "      <td>544660449669967872</td>\n",
       "    </tr>\n",
       "    <tr>\n",
       "      <th>1038</th>\n",
       "      <td>NaN</td>\n",
       "      <td>query</td>\n",
       "      <td>500317606717693952</td>\n",
       "    </tr>\n",
       "    <tr>\n",
       "      <th>1108</th>\n",
       "      <td>NaN</td>\n",
       "      <td>deny</td>\n",
       "      <td>552850999443202049</td>\n",
       "    </tr>\n",
       "    <tr>\n",
       "      <th>1176</th>\n",
       "      <td>NaN</td>\n",
       "      <td>comment</td>\n",
       "      <td>544511082472415232</td>\n",
       "    </tr>\n",
       "    <tr>\n",
       "      <th>1186</th>\n",
       "      <td>NaN</td>\n",
       "      <td>comment</td>\n",
       "      <td>553507344932294657</td>\n",
       "    </tr>\n",
       "    <tr>\n",
       "      <th>1255</th>\n",
       "      <td>NaN</td>\n",
       "      <td>support</td>\n",
       "      <td>553602592828563456</td>\n",
       "    </tr>\n",
       "    <tr>\n",
       "      <th>1287</th>\n",
       "      <td>NaN</td>\n",
       "      <td>comment</td>\n",
       "      <td>500442891102081024</td>\n",
       "    </tr>\n",
       "    <tr>\n",
       "      <th>1288</th>\n",
       "      <td>NaN</td>\n",
       "      <td>query</td>\n",
       "      <td>524961925239959552</td>\n",
       "    </tr>\n",
       "    <tr>\n",
       "      <th>...</th>\n",
       "      <td>...</td>\n",
       "      <td>...</td>\n",
       "      <td>...</td>\n",
       "    </tr>\n",
       "    <tr>\n",
       "      <th>3113</th>\n",
       "      <td>NaN</td>\n",
       "      <td>comment</td>\n",
       "      <td>576514586087714817</td>\n",
       "    </tr>\n",
       "    <tr>\n",
       "      <th>3130</th>\n",
       "      <td>NaN</td>\n",
       "      <td>comment</td>\n",
       "      <td>553479692133470209</td>\n",
       "    </tr>\n",
       "    <tr>\n",
       "      <th>3134</th>\n",
       "      <td>NaN</td>\n",
       "      <td>support</td>\n",
       "      <td>553549302187192320</td>\n",
       "    </tr>\n",
       "    <tr>\n",
       "      <th>3147</th>\n",
       "      <td>NaN</td>\n",
       "      <td>comment</td>\n",
       "      <td>524981867876212736</td>\n",
       "    </tr>\n",
       "    <tr>\n",
       "      <th>3277</th>\n",
       "      <td>NaN</td>\n",
       "      <td>comment</td>\n",
       "      <td>544601984800534528</td>\n",
       "    </tr>\n",
       "    <tr>\n",
       "      <th>3323</th>\n",
       "      <td>NaN</td>\n",
       "      <td>support</td>\n",
       "      <td>525065014281908224</td>\n",
       "    </tr>\n",
       "    <tr>\n",
       "      <th>3426</th>\n",
       "      <td>NaN</td>\n",
       "      <td>comment</td>\n",
       "      <td>524945376911314945</td>\n",
       "    </tr>\n",
       "    <tr>\n",
       "      <th>3451</th>\n",
       "      <td>NaN</td>\n",
       "      <td>comment</td>\n",
       "      <td>553589221328715776</td>\n",
       "    </tr>\n",
       "    <tr>\n",
       "      <th>3494</th>\n",
       "      <td>NaN</td>\n",
       "      <td>comment</td>\n",
       "      <td>524925756087214082</td>\n",
       "    </tr>\n",
       "    <tr>\n",
       "      <th>3500</th>\n",
       "      <td>NaN</td>\n",
       "      <td>support</td>\n",
       "      <td>499752447930155008</td>\n",
       "    </tr>\n",
       "    <tr>\n",
       "      <th>3510</th>\n",
       "      <td>NaN</td>\n",
       "      <td>comment</td>\n",
       "      <td>521468392620834817</td>\n",
       "    </tr>\n",
       "    <tr>\n",
       "      <th>3552</th>\n",
       "      <td>NaN</td>\n",
       "      <td>comment</td>\n",
       "      <td>544515461694889985</td>\n",
       "    </tr>\n",
       "    <tr>\n",
       "      <th>3583</th>\n",
       "      <td>NaN</td>\n",
       "      <td>comment</td>\n",
       "      <td>544484075994509312</td>\n",
       "    </tr>\n",
       "    <tr>\n",
       "      <th>3615</th>\n",
       "      <td>NaN</td>\n",
       "      <td>comment</td>\n",
       "      <td>553489533526765568</td>\n",
       "    </tr>\n",
       "    <tr>\n",
       "      <th>3630</th>\n",
       "      <td>NaN</td>\n",
       "      <td>comment</td>\n",
       "      <td>552814818986844160</td>\n",
       "    </tr>\n",
       "    <tr>\n",
       "      <th>3653</th>\n",
       "      <td>NaN</td>\n",
       "      <td>comment</td>\n",
       "      <td>553464272043638785</td>\n",
       "    </tr>\n",
       "    <tr>\n",
       "      <th>3657</th>\n",
       "      <td>NaN</td>\n",
       "      <td>comment</td>\n",
       "      <td>553503283986563073</td>\n",
       "    </tr>\n",
       "    <tr>\n",
       "      <th>3751</th>\n",
       "      <td>NaN</td>\n",
       "      <td>comment</td>\n",
       "      <td>576813964375523328</td>\n",
       "    </tr>\n",
       "    <tr>\n",
       "      <th>3782</th>\n",
       "      <td>NaN</td>\n",
       "      <td>comment</td>\n",
       "      <td>500279384075685888</td>\n",
       "    </tr>\n",
       "    <tr>\n",
       "      <th>3840</th>\n",
       "      <td>NaN</td>\n",
       "      <td>comment</td>\n",
       "      <td>552807952315207680</td>\n",
       "    </tr>\n",
       "    <tr>\n",
       "      <th>3873</th>\n",
       "      <td>NaN</td>\n",
       "      <td>support</td>\n",
       "      <td>553109367042887680</td>\n",
       "    </tr>\n",
       "    <tr>\n",
       "      <th>3921</th>\n",
       "      <td>NaN</td>\n",
       "      <td>comment</td>\n",
       "      <td>500316980130619392</td>\n",
       "    </tr>\n",
       "    <tr>\n",
       "      <th>3924</th>\n",
       "      <td>NaN</td>\n",
       "      <td>comment</td>\n",
       "      <td>524964141296259072</td>\n",
       "    </tr>\n",
       "    <tr>\n",
       "      <th>3942</th>\n",
       "      <td>NaN</td>\n",
       "      <td>support</td>\n",
       "      <td>500277616587587584</td>\n",
       "    </tr>\n",
       "    <tr>\n",
       "      <th>3966</th>\n",
       "      <td>NaN</td>\n",
       "      <td>comment</td>\n",
       "      <td>524983036098924545</td>\n",
       "    </tr>\n",
       "    <tr>\n",
       "      <th>4003</th>\n",
       "      <td>NaN</td>\n",
       "      <td>support</td>\n",
       "      <td>552792212056993792</td>\n",
       "    </tr>\n",
       "    <tr>\n",
       "      <th>4010</th>\n",
       "      <td>NaN</td>\n",
       "      <td>comment</td>\n",
       "      <td>552836806065262594</td>\n",
       "    </tr>\n",
       "    <tr>\n",
       "      <th>4014</th>\n",
       "      <td>NaN</td>\n",
       "      <td>comment</td>\n",
       "      <td>544343136559169537</td>\n",
       "    </tr>\n",
       "    <tr>\n",
       "      <th>4052</th>\n",
       "      <td>NaN</td>\n",
       "      <td>comment</td>\n",
       "      <td>524925553070329856</td>\n",
       "    </tr>\n",
       "    <tr>\n",
       "      <th>4180</th>\n",
       "      <td>NaN</td>\n",
       "      <td>comment</td>\n",
       "      <td>500278888216268800</td>\n",
       "    </tr>\n",
       "  </tbody>\n",
       "</table>\n",
       "<p>102 rows × 3 columns</p>\n",
       "</div>"
      ],
      "text/plain": [
       "     text  results                  ID\n",
       "9     NaN  comment  552811591683821568\n",
       "29    NaN  comment  544520601038098433\n",
       "62    NaN  comment  524937817924067328\n",
       "64    NaN    query  553591557325336576\n",
       "95    NaN  comment  544518918912495616\n",
       "112   NaN  comment  553535342049902592\n",
       "150   NaN  comment  524933596113801218\n",
       "281   NaN  comment  544290755624198144\n",
       "375   NaN  comment  544349387741495296\n",
       "380   NaN  comment  544520377162952704\n",
       "485   NaN  comment  553559389102026752\n",
       "501   NaN  comment  524964193813155841\n",
       "636   NaN  support  544379605818159104\n",
       "647   NaN  comment  544480456478314496\n",
       "708   NaN  comment  553115272031113216\n",
       "767   NaN  support  544358922904420352\n",
       "769   NaN  comment  554412391279374336\n",
       "793   NaN  comment  500659434558087168\n",
       "851   NaN  comment  553594257593106432\n",
       "887   NaN  comment  524935683908333569\n",
       "894   NaN  comment  529661580649459712\n",
       "950   NaN    query  544398446568820736\n",
       "956   NaN  comment  544660449669967872\n",
       "1038  NaN    query  500317606717693952\n",
       "1108  NaN     deny  552850999443202049\n",
       "1176  NaN  comment  544511082472415232\n",
       "1186  NaN  comment  553507344932294657\n",
       "1255  NaN  support  553602592828563456\n",
       "1287  NaN  comment  500442891102081024\n",
       "1288  NaN    query  524961925239959552\n",
       "...   ...      ...                 ...\n",
       "3113  NaN  comment  576514586087714817\n",
       "3130  NaN  comment  553479692133470209\n",
       "3134  NaN  support  553549302187192320\n",
       "3147  NaN  comment  524981867876212736\n",
       "3277  NaN  comment  544601984800534528\n",
       "3323  NaN  support  525065014281908224\n",
       "3426  NaN  comment  524945376911314945\n",
       "3451  NaN  comment  553589221328715776\n",
       "3494  NaN  comment  524925756087214082\n",
       "3500  NaN  support  499752447930155008\n",
       "3510  NaN  comment  521468392620834817\n",
       "3552  NaN  comment  544515461694889985\n",
       "3583  NaN  comment  544484075994509312\n",
       "3615  NaN  comment  553489533526765568\n",
       "3630  NaN  comment  552814818986844160\n",
       "3653  NaN  comment  553464272043638785\n",
       "3657  NaN  comment  553503283986563073\n",
       "3751  NaN  comment  576813964375523328\n",
       "3782  NaN  comment  500279384075685888\n",
       "3840  NaN  comment  552807952315207680\n",
       "3873  NaN  support  553109367042887680\n",
       "3921  NaN  comment  500316980130619392\n",
       "3924  NaN  comment  524964141296259072\n",
       "3942  NaN  support  500277616587587584\n",
       "3966  NaN  comment  524983036098924545\n",
       "4003  NaN  support  552792212056993792\n",
       "4010  NaN  comment  552836806065262594\n",
       "4014  NaN  comment  544343136559169537\n",
       "4052  NaN  comment  524925553070329856\n",
       "4180  NaN  comment  500278888216268800\n",
       "\n",
       "[102 rows x 3 columns]"
      ]
     },
     "execution_count": 33,
     "metadata": {},
     "output_type": "execute_result"
    }
   ],
   "source": [
    "df[df.isnull().any(axis=1)]"
   ]
  },
  {
   "cell_type": "code",
   "execution_count": 38,
   "metadata": {},
   "outputs": [
    {
     "data": {
      "text/plain": [
       "ID            524937817924067328\n",
       "tweet_text         @globeandmail\n",
       "results                  comment\n",
       "Name: 62, dtype: object"
      ]
     },
     "execution_count": 38,
     "metadata": {},
     "output_type": "execute_result"
    }
   ],
   "source": [
    "dataset.iloc[62]"
   ]
  },
  {
   "cell_type": "code",
   "execution_count": null,
   "metadata": {},
   "outputs": [],
   "source": []
  },
  {
   "cell_type": "markdown",
   "metadata": {},
   "source": [
    "remove those empty texts"
   ]
  },
  {
   "cell_type": "code",
   "execution_count": 39,
   "metadata": {},
   "outputs": [],
   "source": [
    "df.dropna(inplace=True)"
   ]
  },
  {
   "cell_type": "code",
   "execution_count": 43,
   "metadata": {},
   "outputs": [
    {
     "name": "stdout",
     "output_type": "stream",
     "text": [
      "<class 'pandas.core.frame.DataFrame'>\n",
      "Int64Index: 4136 entries, 0 to 4237\n",
      "Data columns (total 3 columns):\n",
      "text       4136 non-null object\n",
      "results    4136 non-null object\n",
      "ID         4136 non-null int64\n",
      "dtypes: int64(1), object(2)\n",
      "memory usage: 129.2+ KB\n"
     ]
    }
   ],
   "source": [
    "df.info()"
   ]
  },
  {
   "cell_type": "code",
   "execution_count": 44,
   "metadata": {},
   "outputs": [],
   "source": [
    "df.to_csv('trainingdataset.csv', index = None)"
   ]
  },
  {
   "cell_type": "code",
   "execution_count": 45,
   "metadata": {},
   "outputs": [
    {
     "data": {
      "text/plain": [
       "comment    2660\n",
       "support     824\n",
       "deny        328\n",
       "query       324\n",
       "Name: results, dtype: int64"
      ]
     },
     "execution_count": 45,
     "metadata": {},
     "output_type": "execute_result"
    }
   ],
   "source": [
    "df['results'].value_counts()"
   ]
  },
  {
   "cell_type": "code",
   "execution_count": 47,
   "metadata": {},
   "outputs": [],
   "source": [
    "dfcomment = df[df.results == 'comment']\n",
    "dfsupport = df[df.results == 'support']\n",
    "dfdeny = df[df.results == 'deny']\n",
    "dfquery = df[df.results == 'query']"
   ]
  },
  {
   "cell_type": "code",
   "execution_count": 65,
   "metadata": {},
   "outputs": [],
   "source": [
    "newdf2 = pd.concat([dfsupport, dfsupport])"
   ]
  },
  {
   "cell_type": "code",
   "execution_count": 68,
   "metadata": {},
   "outputs": [
    {
     "data": {
      "text/plain": [
       "2472"
      ]
     },
     "execution_count": 68,
     "metadata": {},
     "output_type": "execute_result"
    }
   ],
   "source": [
    "len(newdf2)"
   ]
  },
  {
   "cell_type": "code",
   "execution_count": 55,
   "metadata": {},
   "outputs": [],
   "source": [
    "newdf = pd.concat([newdf, newdf]) #oversample the deny"
   ]
  },
  {
   "cell_type": "code",
   "execution_count": 60,
   "metadata": {},
   "outputs": [],
   "source": [
    "newdf1 = pd.concat([newdf1, newdf1]) #oversample the query"
   ]
  },
  {
   "cell_type": "code",
   "execution_count": 67,
   "metadata": {},
   "outputs": [],
   "source": [
    "newdf2 = pd.concat([newdf2, dfsupport]) #oversample the support"
   ]
  },
  {
   "cell_type": "code",
   "execution_count": 69,
   "metadata": {},
   "outputs": [],
   "source": [
    "newdataset = pd.concat([newdf2, dfcomment,newdf,newdf1])"
   ]
  },
  {
   "cell_type": "code",
   "execution_count": 71,
   "metadata": {},
   "outputs": [
    {
     "name": "stdout",
     "output_type": "stream",
     "text": [
      "<class 'pandas.core.frame.DataFrame'>\n",
      "Int64Index: 10348 entries, 4 to 4202\n",
      "Data columns (total 3 columns):\n",
      "text       10348 non-null object\n",
      "results    10348 non-null object\n",
      "ID         10348 non-null int64\n",
      "dtypes: int64(1), object(2)\n",
      "memory usage: 323.4+ KB\n"
     ]
    }
   ],
   "source": [
    "newdataset.info()"
   ]
  },
  {
   "cell_type": "code",
   "execution_count": 72,
   "metadata": {},
   "outputs": [],
   "source": [
    "newdataset.to_csv('new_trainingdata.csv', index = None)"
   ]
  },
  {
   "cell_type": "code",
   "execution_count": null,
   "metadata": {},
   "outputs": [],
   "source": []
  }
 ],
 "metadata": {
  "kernelspec": {
   "display_name": "Python 3",
   "language": "python",
   "name": "python3"
  },
  "language_info": {
   "codemirror_mode": {
    "name": "ipython",
    "version": 3
   },
   "file_extension": ".py",
   "mimetype": "text/x-python",
   "name": "python",
   "nbconvert_exporter": "python",
   "pygments_lexer": "ipython3",
   "version": "3.6.2rc1"
  }
 },
 "nbformat": 4,
 "nbformat_minor": 2
}
