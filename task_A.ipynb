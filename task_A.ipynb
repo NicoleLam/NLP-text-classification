{
 "cells": [
  {
   "cell_type": "code",
   "execution_count": 1,
   "metadata": {},
   "outputs": [],
   "source": [
    "import  json\n",
    "from os import listdir\n",
    "from os.path import isfile, join\n",
    "import csv\n",
    "import pandas as pd\n",
    "import numpy as np\n",
    "import matplotlib.pyplot as plt\n",
    "import re"
   ]
  },
  {
   "cell_type": "code",
   "execution_count": 2,
   "metadata": {},
   "outputs": [],
   "source": []
  },
  {
   "cell_type": "code",
   "execution_count": null,
   "metadata": {},
   "outputs": [],
   "source": []
  },
  {
   "cell_type": "markdown",
   "metadata": {},
   "source": [
    "Load the data from JSON"
   ]
  },
  {
   "cell_type": "code",
   "execution_count": null,
   "metadata": {},
   "outputs": [],
   "source": [
    "data = json.load(open('rumoureval-subtaskA-train.json'))\n",
    "\n",
    "dev = json.load(open('rumoureval-subtaskA-dev.json'))\n",
    "\n"
   ]
  },
  {
   "cell_type": "markdown",
   "metadata": {},
   "source": [
    "Match the respective tweets by ID"
   ]
  },
  {
   "cell_type": "code",
   "execution_count": null,
   "metadata": {
    "scrolled": true
   },
   "outputs": [],
   "source": [
    "csv = open('traindata.csv', \"w\", encoding='utf-8-sig')\n",
    "columnTitleRow = \"ID,tweet_text,results\\n\"\n",
    "csv.write(columnTitleRow)\n",
    "\n",
    "for k,v in data.items():\n",
    "    json_path=\"\"\n",
    "    mypath=\"C:/Users/Nicole/semeval2017-task8-dataset/rumoureval-data/\"\n",
    "    \n",
    "    for d in listdir(mypath):\n",
    "        for thread in listdir(mypath+d):\n",
    "            if k == thread:\n",
    "                json_path=mypath+d+\"/\"+thread+\"/source-tweet/\"+k+\".json\"\n",
    "                break\n",
    "            else:                \n",
    "                reply_path=mypath+d+\"/\"+thread+\"/replies/\"\n",
    "                if k+\".json\" in listdir(reply_path):\n",
    "                    json_path=reply_path+k+\".json\"\n",
    "                    break\n",
    "        if json_path!=\"\":\n",
    "            break\n",
    "    if (isfile(json_path)):\n",
    "            source = json.load(open(json_path, 'r'))\n",
    "            print(json_path)\n",
    "    else:\n",
    "        print (\"False:\" + k)\n",
    "        print(json_path)\n",
    "        print(\"end\\n\")\n",
    "    #print (source)\n",
    "    reply_tweet = source['text']\n",
    "    reply_tweet = reply_tweet.replace(\"\\n\", \" \")\n",
    "    reply_tweet = reply_tweet.replace(\"\\\"\", \"\\\"\\\"\")\n",
    "    row = k + \",\" + \"\\\"\" + reply_tweet + \"\\\"\" + \",\" + v + \"\\n\"\n",
    "    csv.write(row)\n",
    "    #print (source['text'])\n",
    "    #print (v+\"\\n\")\n",
    "    "
   ]
  },
  {
   "cell_type": "code",
   "execution_count": 2,
   "metadata": {},
   "outputs": [],
   "source": [
    "dataset = pd.read_csv('traindata.csv', error_bad_lines=False)"
   ]
  },
  {
   "cell_type": "code",
   "execution_count": null,
   "metadata": {
    "scrolled": true
   },
   "outputs": [],
   "source": [
    "dataset.head()"
   ]
  },
  {
   "cell_type": "code",
   "execution_count": null,
   "metadata": {},
   "outputs": [],
   "source": [
    "csv.close()"
   ]
  },
  {
   "cell_type": "markdown",
   "metadata": {},
   "source": [
    "Information of the training data"
   ]
  },
  {
   "cell_type": "code",
   "execution_count": 3,
   "metadata": {},
   "outputs": [
    {
     "name": "stdout",
     "output_type": "stream",
     "text": [
      "<class 'pandas.core.frame.DataFrame'>\n",
      "RangeIndex: 4238 entries, 0 to 4237\n",
      "Data columns (total 3 columns):\n",
      "ID             4238 non-null int64\n",
      " tweet_text    4238 non-null object\n",
      " results       4238 non-null object\n",
      "dtypes: int64(1), object(2)\n",
      "memory usage: 99.4+ KB\n"
     ]
    }
   ],
   "source": [
    "dataset.info()"
   ]
  },
  {
   "cell_type": "markdown",
   "metadata": {},
   "source": [
    "use the following code to see if the data is loaded right"
   ]
  },
  {
   "cell_type": "code",
   "execution_count": null,
   "metadata": {},
   "outputs": [],
   "source": [
    "dataset[dataset.isnull().any(axis=1)]"
   ]
  },
  {
   "cell_type": "code",
   "execution_count": 8,
   "metadata": {},
   "outputs": [
    {
     "data": {
      "text/plain": [
       "0"
      ]
     },
     "execution_count": 8,
     "metadata": {},
     "output_type": "execute_result"
    }
   ],
   "source": [
    "np.sum(dataset.isnull().any(axis=1))"
   ]
  },
  {
   "cell_type": "code",
   "execution_count": null,
   "metadata": {},
   "outputs": [],
   "source": [
    "dataset.isnull().any(axis=0)"
   ]
  },
  {
   "cell_type": "code",
   "execution_count": 4,
   "metadata": {},
   "outputs": [],
   "source": [
    "dataset = dataset.rename(columns={\" tweet_text\": \"tweet_text\", \" results\": \"results\"})"
   ]
  },
  {
   "cell_type": "markdown",
   "metadata": {},
   "source": [
    "the tweets of different classes"
   ]
  },
  {
   "cell_type": "code",
   "execution_count": 5,
   "metadata": {},
   "outputs": [
    {
     "data": {
      "text/plain": [
       "comment    2734\n",
       "support     841\n",
       "deny        333\n",
       "query       330\n",
       "Name: results, dtype: int64"
      ]
     },
     "execution_count": 5,
     "metadata": {},
     "output_type": "execute_result"
    }
   ],
   "source": [
    "dataset['results'].value_counts()"
   ]
  },
  {
   "cell_type": "markdown",
   "metadata": {},
   "source": [
    "The data is skew"
   ]
  },
  {
   "cell_type": "markdown",
   "metadata": {},
   "source": [
    "we will need to try oversampling the 3 groups other than 'comment' group, devide them into 4 groups"
   ]
  },
  {
   "cell_type": "code",
   "execution_count": null,
   "metadata": {},
   "outputs": [],
   "source": [
    "dfcomment = dataset[dataset.results == 'comment']"
   ]
  },
  {
   "cell_type": "code",
   "execution_count": null,
   "metadata": {},
   "outputs": [],
   "source": [
    "dfsupport = dataset[dataset.results == 'support']"
   ]
  },
  {
   "cell_type": "code",
   "execution_count": null,
   "metadata": {},
   "outputs": [],
   "source": [
    "dfdeny = dataset[dataset.results == 'deny']"
   ]
  },
  {
   "cell_type": "code",
   "execution_count": null,
   "metadata": {},
   "outputs": [],
   "source": [
    "dfquery = dataset[dataset.results == 'query']"
   ]
  },
  {
   "cell_type": "code",
   "execution_count": null,
   "metadata": {},
   "outputs": [],
   "source": [
    "dfquery.head()"
   ]
  },
  {
   "cell_type": "markdown",
   "metadata": {},
   "source": [
    "# data cleansing"
   ]
  },
  {
   "cell_type": "code",
   "execution_count": null,
   "metadata": {},
   "outputs": [],
   "source": [
    "dataset['text_len'] = [len(t) for t in dataset.tweet_text]"
   ]
  },
  {
   "cell_type": "code",
   "execution_count": null,
   "metadata": {
    "scrolled": true
   },
   "outputs": [],
   "source": [
    "dataset.head()"
   ]
  },
  {
   "cell_type": "code",
   "execution_count": null,
   "metadata": {},
   "outputs": [],
   "source": [
    "fig, ax = plt.subplots(figsize=(5, 5))\n",
    "plt.boxplot(dataset.text_len)\n",
    "plt.show()"
   ]
  },
  {
   "cell_type": "code",
   "execution_count": null,
   "metadata": {},
   "outputs": [],
   "source": [
    "testing = dataset[dataset['text_len']>140]"
   ]
  },
  {
   "cell_type": "code",
   "execution_count": null,
   "metadata": {},
   "outputs": [],
   "source": [
    "testing.head()"
   ]
  },
  {
   "cell_type": "code",
   "execution_count": null,
   "metadata": {},
   "outputs": [],
   "source": []
  },
  {
   "cell_type": "markdown",
   "metadata": {},
   "source": [
    "tweet has length limit with 140, to see why they exceed 140"
   ]
  },
  {
   "cell_type": "code",
   "execution_count": null,
   "metadata": {},
   "outputs": [],
   "source": [
    "testing['tweet_text'].iloc[1]"
   ]
  },
  {
   "cell_type": "markdown",
   "metadata": {},
   "source": [
    "there are some HTML decoding problem"
   ]
  },
  {
   "cell_type": "code",
   "execution_count": null,
   "metadata": {},
   "outputs": [],
   "source": [
    "len(testing['tweet_text'])"
   ]
  },
  {
   "cell_type": "markdown",
   "metadata": {},
   "source": [
    "# HTML decoding"
   ]
  },
  {
   "cell_type": "markdown",
   "metadata": {},
   "source": [
    "use the beautiful soup to do the html decoding"
   ]
  },
  {
   "cell_type": "code",
   "execution_count": 10,
   "metadata": {},
   "outputs": [],
   "source": [
    "from bs4 import BeautifulSoup"
   ]
  },
  {
   "cell_type": "markdown",
   "metadata": {},
   "source": [
    "run a test on it"
   ]
  },
  {
   "cell_type": "code",
   "execution_count": null,
   "metadata": {},
   "outputs": [],
   "source": [
    "example1 = BeautifulSoup(testing['tweet_text'].iloc[3], 'html.parser')\n",
    "example1.get_text()"
   ]
  },
  {
   "cell_type": "code",
   "execution_count": null,
   "metadata": {},
   "outputs": [],
   "source": [
    "example1"
   ]
  },
  {
   "cell_type": "markdown",
   "metadata": {},
   "source": []
  },
  {
   "cell_type": "code",
   "execution_count": null,
   "metadata": {},
   "outputs": [],
   "source": [
    "# def tweet_cleaner(text):\n",
    "#     example1 = BeautifulSoup(text, 'html.parser')\n",
    "#     return example1.get_text()\n",
    "    "
   ]
  },
  {
   "cell_type": "code",
   "execution_count": 11,
   "metadata": {},
   "outputs": [],
   "source": [
    "clean_tweet_texts = []\n",
    "for i in dataset['tweet_text']:\n",
    "    clean_tweet_texts.append(BeautifulSoup(i, 'html.parser').get_text())"
   ]
  },
  {
   "cell_type": "code",
   "execution_count": 12,
   "metadata": {},
   "outputs": [
    {
     "data": {
      "text/plain": [
       "4238"
      ]
     },
     "execution_count": 12,
     "metadata": {},
     "output_type": "execute_result"
    }
   ],
   "source": [
    "len(clean_tweet_texts)"
   ]
  },
  {
   "cell_type": "code",
   "execution_count": 13,
   "metadata": {
    "scrolled": true
   },
   "outputs": [
    {
     "data": {
      "text/html": [
       "<div>\n",
       "<style scoped>\n",
       "    .dataframe tbody tr th:only-of-type {\n",
       "        vertical-align: middle;\n",
       "    }\n",
       "\n",
       "    .dataframe tbody tr th {\n",
       "        vertical-align: top;\n",
       "    }\n",
       "\n",
       "    .dataframe thead th {\n",
       "        text-align: right;\n",
       "    }\n",
       "</style>\n",
       "<table border=\"1\" class=\"dataframe\">\n",
       "  <thead>\n",
       "    <tr style=\"text-align: right;\">\n",
       "      <th></th>\n",
       "      <th>text</th>\n",
       "      <th>results</th>\n",
       "      <th>ID</th>\n",
       "    </tr>\n",
       "  </thead>\n",
       "  <tbody>\n",
       "    <tr>\n",
       "      <th>0</th>\n",
       "      <td>@max843 @DanteB4u @Alasscan_  This shows Micha...</td>\n",
       "      <td>comment</td>\n",
       "      <td>501760642928635904</td>\n",
       "    </tr>\n",
       "    <tr>\n",
       "      <th>1</th>\n",
       "      <td>@USATODAY Get ready to tweet the address #Spik...</td>\n",
       "      <td>comment</td>\n",
       "      <td>500270212198174720</td>\n",
       "    </tr>\n",
       "    <tr>\n",
       "      <th>2</th>\n",
       "      <td>@rikermacdaniels @CBCAlerts @CBCNews @JustinTr...</td>\n",
       "      <td>comment</td>\n",
       "      <td>524971210275565568</td>\n",
       "    </tr>\n",
       "    <tr>\n",
       "      <th>3</th>\n",
       "      <td>@RT_com  Just kill them.</td>\n",
       "      <td>comment</td>\n",
       "      <td>552836882770690049</td>\n",
       "    </tr>\n",
       "    <tr>\n",
       "      <th>4</th>\n",
       "      <td>@TheAnonMessage2 no, because that would requir...</td>\n",
       "      <td>support</td>\n",
       "      <td>500289931097296897</td>\n",
       "    </tr>\n",
       "  </tbody>\n",
       "</table>\n",
       "</div>"
      ],
      "text/plain": [
       "                                                text  results  \\\n",
       "0  @max843 @DanteB4u @Alasscan_  This shows Micha...  comment   \n",
       "1  @USATODAY Get ready to tweet the address #Spik...  comment   \n",
       "2  @rikermacdaniels @CBCAlerts @CBCNews @JustinTr...  comment   \n",
       "3                           @RT_com  Just kill them.  comment   \n",
       "4  @TheAnonMessage2 no, because that would requir...  support   \n",
       "\n",
       "                   ID  \n",
       "0  501760642928635904  \n",
       "1  500270212198174720  \n",
       "2  524971210275565568  \n",
       "3  552836882770690049  \n",
       "4  500289931097296897  "
      ]
     },
     "execution_count": 13,
     "metadata": {},
     "output_type": "execute_result"
    }
   ],
   "source": [
    "clean_df = pd.DataFrame(clean_tweet_texts,columns=['text'])\n",
    "clean_df['results'] = dataset['results']\n",
    "clean_df['ID'] = dataset['ID']\n",
    "clean_df.head()"
   ]
  },
  {
   "cell_type": "code",
   "execution_count": 18,
   "metadata": {},
   "outputs": [
    {
     "name": "stdout",
     "output_type": "stream",
     "text": [
      "<class 'pandas.core.frame.DataFrame'>\n",
      "RangeIndex: 4238 entries, 0 to 4237\n",
      "Data columns (total 3 columns):\n",
      "text       4238 non-null object\n",
      "results    4238 non-null object\n",
      "ID         4238 non-null int64\n",
      "dtypes: int64(1), object(2)\n",
      "memory usage: 99.4+ KB\n"
     ]
    }
   ],
   "source": [
    "htmldata.info()"
   ]
  },
  {
   "cell_type": "code",
   "execution_count": null,
   "metadata": {},
   "outputs": [],
   "source": [
    "clean_df.to_csv('training_data_with_html_decode.csv', index = None)"
   ]
  },
  {
   "cell_type": "code",
   "execution_count": null,
   "metadata": {},
   "outputs": [],
   "source": [
    "htmldata = pd.read_csv('training_data_with_html_decode.csv')"
   ]
  },
  {
   "cell_type": "code",
   "execution_count": 17,
   "metadata": {
    "scrolled": true
   },
   "outputs": [],
   "source": [
    "htmldata"
   ]
  },
  {
   "cell_type": "markdown",
   "metadata": {},
   "source": [
    "check the length again"
   ]
  },
  {
   "cell_type": "code",
   "execution_count": null,
   "metadata": {},
   "outputs": [],
   "source": [
    "htmldata['text_len'] = [len(t) for t in htmldata.text]"
   ]
  },
  {
   "cell_type": "code",
   "execution_count": null,
   "metadata": {},
   "outputs": [],
   "source": [
    "htmldata[htmldata['text_len']>140]"
   ]
  },
  {
   "cell_type": "markdown",
   "metadata": {},
   "source": [
    "it's empty so we're good to go"
   ]
  },
  {
   "cell_type": "code",
   "execution_count": null,
   "metadata": {},
   "outputs": [],
   "source": [
    "htmldata['text'].iloc[0]"
   ]
  },
  {
   "cell_type": "code",
   "execution_count": null,
   "metadata": {},
   "outputs": [],
   "source": [
    "htmldata['text'].iloc[4217]"
   ]
  },
  {
   "cell_type": "code",
   "execution_count": null,
   "metadata": {},
   "outputs": [],
   "source": [
    "htmldata['text'].iloc[9]"
   ]
  },
  {
   "cell_type": "markdown",
   "metadata": {},
   "source": [
    "for pre-processing, there's a Python library which is used to deal with the tweets preprocessing, it will clean out:\n",
    "URLs\n",
    "Hashtags\n",
    "Mentions\n",
    "\n",
    "Emojis\n",
    "Smileys\n",
    "\n",
    "I decided to remove the URLs, Mentions,  Emojis, Smileys, numbers, but for hashtags, I will only remove the hashtag symbol and keep the word following the hashtag symbol as some of it is the part of the sentense and it's useful, so I'm not using the hashtags option here, and I will remove the Reserved words (RT, FAV) in the tweets"
   ]
  },
  {
   "cell_type": "code",
   "execution_count": 15,
   "metadata": {},
   "outputs": [],
   "source": [
    "import preprocessor as p"
   ]
  },
  {
   "cell_type": "code",
   "execution_count": 16,
   "metadata": {},
   "outputs": [],
   "source": [
    "p.set_options(p.OPT.URL, p.OPT.EMOJI, p.OPT.MENTION, p.OPT.RESERVED, p.OPT.NUMBER, p.OPT.SMILEY)"
   ]
  },
  {
   "cell_type": "code",
   "execution_count": null,
   "metadata": {},
   "outputs": [],
   "source": [
    "re.sub(' RT| FAV', ' ', p.clean('Preprocessor is #awesome 👍 https://github.com/s/preprocessor RTl'))"
   ]
  },
  {
   "cell_type": "markdown",
   "metadata": {},
   "source": [
    "make small tests first"
   ]
  },
  {
   "cell_type": "code",
   "execution_count": null,
   "metadata": {},
   "outputs": [],
   "source": [
    "p.clean(htmldata['text'].iloc[0])"
   ]
  },
  {
   "cell_type": "code",
   "execution_count": null,
   "metadata": {},
   "outputs": [],
   "source": [
    "re.sub(' RT', ' ', p.clean(htmldata['text'].iloc[0]))"
   ]
  },
  {
   "cell_type": "code",
   "execution_count": null,
   "metadata": {},
   "outputs": [],
   "source": [
    "htmldata['text'].iloc[4217]"
   ]
  },
  {
   "cell_type": "code",
   "execution_count": null,
   "metadata": {},
   "outputs": [],
   "source": [
    "p.clean(htmldata['text'].iloc[4217])"
   ]
  },
  {
   "cell_type": "markdown",
   "metadata": {},
   "source": [
    "remove punctuations, non-alphabaet characters and separates the word with a single space"
   ]
  },
  {
   "cell_type": "code",
   "execution_count": null,
   "metadata": {},
   "outputs": [],
   "source": [
    "' '.join(re.sub(\"(@[A-Za-z0-9]+)|([^0-9A-Za-z \\t])|(\\w+:\\/\\/\\S+)\",\" \",testtext).split())"
   ]
  },
  {
   "cell_type": "markdown",
   "metadata": {},
   "source": [
    "do it on all the data"
   ]
  },
  {
   "cell_type": "code",
   "execution_count": 19,
   "metadata": {},
   "outputs": [],
   "source": [
    "clean_tweet_texts1 = []\n",
    "for i in htmldata['text']:\n",
    "    clean_tweet_texts1.append(re.sub(' RT', ' ',p.clean(i)))"
   ]
  },
  {
   "cell_type": "code",
   "execution_count": 20,
   "metadata": {},
   "outputs": [],
   "source": [
    "clean_tweet_texts2 = []\n",
    "for i in clean_tweet_texts1:\n",
    "    clean_tweet_texts2.append(' '.join(re.sub(\"(@[A-Za-z0-9]+)|([^0-9A-Za-z \\t])|(\\w+:\\/\\/\\S+)\",\" \",i).split()))"
   ]
  },
  {
   "cell_type": "code",
   "execution_count": 21,
   "metadata": {},
   "outputs": [
    {
     "data": {
      "text/html": [
       "<div>\n",
       "<style scoped>\n",
       "    .dataframe tbody tr th:only-of-type {\n",
       "        vertical-align: middle;\n",
       "    }\n",
       "\n",
       "    .dataframe tbody tr th {\n",
       "        vertical-align: top;\n",
       "    }\n",
       "\n",
       "    .dataframe thead th {\n",
       "        text-align: right;\n",
       "    }\n",
       "</style>\n",
       "<table border=\"1\" class=\"dataframe\">\n",
       "  <thead>\n",
       "    <tr style=\"text-align: right;\">\n",
       "      <th></th>\n",
       "      <th>text</th>\n",
       "      <th>results</th>\n",
       "      <th>ID</th>\n",
       "    </tr>\n",
       "  </thead>\n",
       "  <tbody>\n",
       "    <tr>\n",
       "      <th>0</th>\n",
       "      <td>This shows Michael paid for cigarillos No robb...</td>\n",
       "      <td>comment</td>\n",
       "      <td>501760642928635904</td>\n",
       "    </tr>\n",
       "    <tr>\n",
       "      <th>1</th>\n",
       "      <td>Get ready to tweet the address SpikeLee and ot...</td>\n",
       "      <td>comment</td>\n",
       "      <td>500270212198174720</td>\n",
       "    </tr>\n",
       "    <tr>\n",
       "      <th>2</th>\n",
       "      <td>your radical Muslims are being funded by Ameri...</td>\n",
       "      <td>comment</td>\n",
       "      <td>524971210275565568</td>\n",
       "    </tr>\n",
       "    <tr>\n",
       "      <th>3</th>\n",
       "      <td>Just kill them</td>\n",
       "      <td>comment</td>\n",
       "      <td>552836882770690049</td>\n",
       "    </tr>\n",
       "    <tr>\n",
       "      <th>4</th>\n",
       "      <td>no because that would require reasoning and th...</td>\n",
       "      <td>support</td>\n",
       "      <td>500289931097296897</td>\n",
       "    </tr>\n",
       "  </tbody>\n",
       "</table>\n",
       "</div>"
      ],
      "text/plain": [
       "                                                text  results  \\\n",
       "0  This shows Michael paid for cigarillos No robb...  comment   \n",
       "1  Get ready to tweet the address SpikeLee and ot...  comment   \n",
       "2  your radical Muslims are being funded by Ameri...  comment   \n",
       "3                                     Just kill them  comment   \n",
       "4  no because that would require reasoning and th...  support   \n",
       "\n",
       "                   ID  \n",
       "0  501760642928635904  \n",
       "1  500270212198174720  \n",
       "2  524971210275565568  \n",
       "3  552836882770690049  \n",
       "4  500289931097296897  "
      ]
     },
     "execution_count": 21,
     "metadata": {},
     "output_type": "execute_result"
    }
   ],
   "source": [
    "clean_tweet_texts2_df = pd.DataFrame(clean_tweet_texts2,columns=['text'])\n",
    "clean_tweet_texts2_df['results'] = htmldata['results']\n",
    "clean_tweet_texts2_df['ID'] = htmldata['ID']\n",
    "clean_tweet_texts2_df.head()"
   ]
  },
  {
   "cell_type": "code",
   "execution_count": null,
   "metadata": {},
   "outputs": [],
   "source": [
    "clean_tweet_texts2_df['text'].iloc[0]"
   ]
  },
  {
   "cell_type": "code",
   "execution_count": 30,
   "metadata": {},
   "outputs": [],
   "source": [
    "clean_tweet_texts2_df.to_csv('clean_trainingdata.csv', index = None)"
   ]
  },
  {
   "cell_type": "code",
   "execution_count": 31,
   "metadata": {},
   "outputs": [],
   "source": [
    "df = pd.read_csv('clean_trainingdata.csv')"
   ]
  },
  {
   "cell_type": "code",
   "execution_count": 23,
   "metadata": {},
   "outputs": [],
   "source": [
    "df = clean_tweet_texts2_df"
   ]
  },
  {
   "cell_type": "code",
   "execution_count": 32,
   "metadata": {},
   "outputs": [
    {
     "name": "stdout",
     "output_type": "stream",
     "text": [
      "<class 'pandas.core.frame.DataFrame'>\n",
      "RangeIndex: 4238 entries, 0 to 4237\n",
      "Data columns (total 3 columns):\n",
      "text       4136 non-null object\n",
      "results    4238 non-null object\n",
      "ID         4238 non-null int64\n",
      "dtypes: int64(1), object(2)\n",
      "memory usage: 99.4+ KB\n"
     ]
    }
   ],
   "source": [
    "df.info()"
   ]
  },
  {
   "cell_type": "code",
   "execution_count": 33,
   "metadata": {
    "scrolled": true
   },
   "outputs": [
    {
     "data": {
      "text/html": [
       "<div>\n",
       "<style scoped>\n",
       "    .dataframe tbody tr th:only-of-type {\n",
       "        vertical-align: middle;\n",
       "    }\n",
       "\n",
       "    .dataframe tbody tr th {\n",
       "        vertical-align: top;\n",
       "    }\n",
       "\n",
       "    .dataframe thead th {\n",
       "        text-align: right;\n",
       "    }\n",
       "</style>\n",
       "<table border=\"1\" class=\"dataframe\">\n",
       "  <thead>\n",
       "    <tr style=\"text-align: right;\">\n",
       "      <th></th>\n",
       "      <th>text</th>\n",
       "      <th>results</th>\n",
       "      <th>ID</th>\n",
       "    </tr>\n",
       "  </thead>\n",
       "  <tbody>\n",
       "    <tr>\n",
       "      <th>9</th>\n",
       "      <td>NaN</td>\n",
       "      <td>comment</td>\n",
       "      <td>552811591683821568</td>\n",
       "    </tr>\n",
       "    <tr>\n",
       "      <th>29</th>\n",
       "      <td>NaN</td>\n",
       "      <td>comment</td>\n",
       "      <td>544520601038098433</td>\n",
       "    </tr>\n",
       "    <tr>\n",
       "      <th>62</th>\n",
       "      <td>NaN</td>\n",
       "      <td>comment</td>\n",
       "      <td>524937817924067328</td>\n",
       "    </tr>\n",
       "    <tr>\n",
       "      <th>64</th>\n",
       "      <td>NaN</td>\n",
       "      <td>query</td>\n",
       "      <td>553591557325336576</td>\n",
       "    </tr>\n",
       "    <tr>\n",
       "      <th>95</th>\n",
       "      <td>NaN</td>\n",
       "      <td>comment</td>\n",
       "      <td>544518918912495616</td>\n",
       "    </tr>\n",
       "    <tr>\n",
       "      <th>112</th>\n",
       "      <td>NaN</td>\n",
       "      <td>comment</td>\n",
       "      <td>553535342049902592</td>\n",
       "    </tr>\n",
       "    <tr>\n",
       "      <th>150</th>\n",
       "      <td>NaN</td>\n",
       "      <td>comment</td>\n",
       "      <td>524933596113801218</td>\n",
       "    </tr>\n",
       "    <tr>\n",
       "      <th>281</th>\n",
       "      <td>NaN</td>\n",
       "      <td>comment</td>\n",
       "      <td>544290755624198144</td>\n",
       "    </tr>\n",
       "    <tr>\n",
       "      <th>375</th>\n",
       "      <td>NaN</td>\n",
       "      <td>comment</td>\n",
       "      <td>544349387741495296</td>\n",
       "    </tr>\n",
       "    <tr>\n",
       "      <th>380</th>\n",
       "      <td>NaN</td>\n",
       "      <td>comment</td>\n",
       "      <td>544520377162952704</td>\n",
       "    </tr>\n",
       "    <tr>\n",
       "      <th>485</th>\n",
       "      <td>NaN</td>\n",
       "      <td>comment</td>\n",
       "      <td>553559389102026752</td>\n",
       "    </tr>\n",
       "    <tr>\n",
       "      <th>501</th>\n",
       "      <td>NaN</td>\n",
       "      <td>comment</td>\n",
       "      <td>524964193813155841</td>\n",
       "    </tr>\n",
       "    <tr>\n",
       "      <th>636</th>\n",
       "      <td>NaN</td>\n",
       "      <td>support</td>\n",
       "      <td>544379605818159104</td>\n",
       "    </tr>\n",
       "    <tr>\n",
       "      <th>647</th>\n",
       "      <td>NaN</td>\n",
       "      <td>comment</td>\n",
       "      <td>544480456478314496</td>\n",
       "    </tr>\n",
       "    <tr>\n",
       "      <th>708</th>\n",
       "      <td>NaN</td>\n",
       "      <td>comment</td>\n",
       "      <td>553115272031113216</td>\n",
       "    </tr>\n",
       "    <tr>\n",
       "      <th>767</th>\n",
       "      <td>NaN</td>\n",
       "      <td>support</td>\n",
       "      <td>544358922904420352</td>\n",
       "    </tr>\n",
       "    <tr>\n",
       "      <th>769</th>\n",
       "      <td>NaN</td>\n",
       "      <td>comment</td>\n",
       "      <td>554412391279374336</td>\n",
       "    </tr>\n",
       "    <tr>\n",
       "      <th>793</th>\n",
       "      <td>NaN</td>\n",
       "      <td>comment</td>\n",
       "      <td>500659434558087168</td>\n",
       "    </tr>\n",
       "    <tr>\n",
       "      <th>851</th>\n",
       "      <td>NaN</td>\n",
       "      <td>comment</td>\n",
       "      <td>553594257593106432</td>\n",
       "    </tr>\n",
       "    <tr>\n",
       "      <th>887</th>\n",
       "      <td>NaN</td>\n",
       "      <td>comment</td>\n",
       "      <td>524935683908333569</td>\n",
       "    </tr>\n",
       "    <tr>\n",
       "      <th>894</th>\n",
       "      <td>NaN</td>\n",
       "      <td>comment</td>\n",
       "      <td>529661580649459712</td>\n",
       "    </tr>\n",
       "    <tr>\n",
       "      <th>950</th>\n",
       "      <td>NaN</td>\n",
       "      <td>query</td>\n",
       "      <td>544398446568820736</td>\n",
       "    </tr>\n",
       "    <tr>\n",
       "      <th>956</th>\n",
       "      <td>NaN</td>\n",
       "      <td>comment</td>\n",
       "      <td>544660449669967872</td>\n",
       "    </tr>\n",
       "    <tr>\n",
       "      <th>1038</th>\n",
       "      <td>NaN</td>\n",
       "      <td>query</td>\n",
       "      <td>500317606717693952</td>\n",
       "    </tr>\n",
       "    <tr>\n",
       "      <th>1108</th>\n",
       "      <td>NaN</td>\n",
       "      <td>deny</td>\n",
       "      <td>552850999443202049</td>\n",
       "    </tr>\n",
       "    <tr>\n",
       "      <th>1176</th>\n",
       "      <td>NaN</td>\n",
       "      <td>comment</td>\n",
       "      <td>544511082472415232</td>\n",
       "    </tr>\n",
       "    <tr>\n",
       "      <th>1186</th>\n",
       "      <td>NaN</td>\n",
       "      <td>comment</td>\n",
       "      <td>553507344932294657</td>\n",
       "    </tr>\n",
       "    <tr>\n",
       "      <th>1255</th>\n",
       "      <td>NaN</td>\n",
       "      <td>support</td>\n",
       "      <td>553602592828563456</td>\n",
       "    </tr>\n",
       "    <tr>\n",
       "      <th>1287</th>\n",
       "      <td>NaN</td>\n",
       "      <td>comment</td>\n",
       "      <td>500442891102081024</td>\n",
       "    </tr>\n",
       "    <tr>\n",
       "      <th>1288</th>\n",
       "      <td>NaN</td>\n",
       "      <td>query</td>\n",
       "      <td>524961925239959552</td>\n",
       "    </tr>\n",
       "    <tr>\n",
       "      <th>...</th>\n",
       "      <td>...</td>\n",
       "      <td>...</td>\n",
       "      <td>...</td>\n",
       "    </tr>\n",
       "    <tr>\n",
       "      <th>3113</th>\n",
       "      <td>NaN</td>\n",
       "      <td>comment</td>\n",
       "      <td>576514586087714817</td>\n",
       "    </tr>\n",
       "    <tr>\n",
       "      <th>3130</th>\n",
       "      <td>NaN</td>\n",
       "      <td>comment</td>\n",
       "      <td>553479692133470209</td>\n",
       "    </tr>\n",
       "    <tr>\n",
       "      <th>3134</th>\n",
       "      <td>NaN</td>\n",
       "      <td>support</td>\n",
       "      <td>553549302187192320</td>\n",
       "    </tr>\n",
       "    <tr>\n",
       "      <th>3147</th>\n",
       "      <td>NaN</td>\n",
       "      <td>comment</td>\n",
       "      <td>524981867876212736</td>\n",
       "    </tr>\n",
       "    <tr>\n",
       "      <th>3277</th>\n",
       "      <td>NaN</td>\n",
       "      <td>comment</td>\n",
       "      <td>544601984800534528</td>\n",
       "    </tr>\n",
       "    <tr>\n",
       "      <th>3323</th>\n",
       "      <td>NaN</td>\n",
       "      <td>support</td>\n",
       "      <td>525065014281908224</td>\n",
       "    </tr>\n",
       "    <tr>\n",
       "      <th>3426</th>\n",
       "      <td>NaN</td>\n",
       "      <td>comment</td>\n",
       "      <td>524945376911314945</td>\n",
       "    </tr>\n",
       "    <tr>\n",
       "      <th>3451</th>\n",
       "      <td>NaN</td>\n",
       "      <td>comment</td>\n",
       "      <td>553589221328715776</td>\n",
       "    </tr>\n",
       "    <tr>\n",
       "      <th>3494</th>\n",
       "      <td>NaN</td>\n",
       "      <td>comment</td>\n",
       "      <td>524925756087214082</td>\n",
       "    </tr>\n",
       "    <tr>\n",
       "      <th>3500</th>\n",
       "      <td>NaN</td>\n",
       "      <td>support</td>\n",
       "      <td>499752447930155008</td>\n",
       "    </tr>\n",
       "    <tr>\n",
       "      <th>3510</th>\n",
       "      <td>NaN</td>\n",
       "      <td>comment</td>\n",
       "      <td>521468392620834817</td>\n",
       "    </tr>\n",
       "    <tr>\n",
       "      <th>3552</th>\n",
       "      <td>NaN</td>\n",
       "      <td>comment</td>\n",
       "      <td>544515461694889985</td>\n",
       "    </tr>\n",
       "    <tr>\n",
       "      <th>3583</th>\n",
       "      <td>NaN</td>\n",
       "      <td>comment</td>\n",
       "      <td>544484075994509312</td>\n",
       "    </tr>\n",
       "    <tr>\n",
       "      <th>3615</th>\n",
       "      <td>NaN</td>\n",
       "      <td>comment</td>\n",
       "      <td>553489533526765568</td>\n",
       "    </tr>\n",
       "    <tr>\n",
       "      <th>3630</th>\n",
       "      <td>NaN</td>\n",
       "      <td>comment</td>\n",
       "      <td>552814818986844160</td>\n",
       "    </tr>\n",
       "    <tr>\n",
       "      <th>3653</th>\n",
       "      <td>NaN</td>\n",
       "      <td>comment</td>\n",
       "      <td>553464272043638785</td>\n",
       "    </tr>\n",
       "    <tr>\n",
       "      <th>3657</th>\n",
       "      <td>NaN</td>\n",
       "      <td>comment</td>\n",
       "      <td>553503283986563073</td>\n",
       "    </tr>\n",
       "    <tr>\n",
       "      <th>3751</th>\n",
       "      <td>NaN</td>\n",
       "      <td>comment</td>\n",
       "      <td>576813964375523328</td>\n",
       "    </tr>\n",
       "    <tr>\n",
       "      <th>3782</th>\n",
       "      <td>NaN</td>\n",
       "      <td>comment</td>\n",
       "      <td>500279384075685888</td>\n",
       "    </tr>\n",
       "    <tr>\n",
       "      <th>3840</th>\n",
       "      <td>NaN</td>\n",
       "      <td>comment</td>\n",
       "      <td>552807952315207680</td>\n",
       "    </tr>\n",
       "    <tr>\n",
       "      <th>3873</th>\n",
       "      <td>NaN</td>\n",
       "      <td>support</td>\n",
       "      <td>553109367042887680</td>\n",
       "    </tr>\n",
       "    <tr>\n",
       "      <th>3921</th>\n",
       "      <td>NaN</td>\n",
       "      <td>comment</td>\n",
       "      <td>500316980130619392</td>\n",
       "    </tr>\n",
       "    <tr>\n",
       "      <th>3924</th>\n",
       "      <td>NaN</td>\n",
       "      <td>comment</td>\n",
       "      <td>524964141296259072</td>\n",
       "    </tr>\n",
       "    <tr>\n",
       "      <th>3942</th>\n",
       "      <td>NaN</td>\n",
       "      <td>support</td>\n",
       "      <td>500277616587587584</td>\n",
       "    </tr>\n",
       "    <tr>\n",
       "      <th>3966</th>\n",
       "      <td>NaN</td>\n",
       "      <td>comment</td>\n",
       "      <td>524983036098924545</td>\n",
       "    </tr>\n",
       "    <tr>\n",
       "      <th>4003</th>\n",
       "      <td>NaN</td>\n",
       "      <td>support</td>\n",
       "      <td>552792212056993792</td>\n",
       "    </tr>\n",
       "    <tr>\n",
       "      <th>4010</th>\n",
       "      <td>NaN</td>\n",
       "      <td>comment</td>\n",
       "      <td>552836806065262594</td>\n",
       "    </tr>\n",
       "    <tr>\n",
       "      <th>4014</th>\n",
       "      <td>NaN</td>\n",
       "      <td>comment</td>\n",
       "      <td>544343136559169537</td>\n",
       "    </tr>\n",
       "    <tr>\n",
       "      <th>4052</th>\n",
       "      <td>NaN</td>\n",
       "      <td>comment</td>\n",
       "      <td>524925553070329856</td>\n",
       "    </tr>\n",
       "    <tr>\n",
       "      <th>4180</th>\n",
       "      <td>NaN</td>\n",
       "      <td>comment</td>\n",
       "      <td>500278888216268800</td>\n",
       "    </tr>\n",
       "  </tbody>\n",
       "</table>\n",
       "<p>102 rows × 3 columns</p>\n",
       "</div>"
      ],
      "text/plain": [
       "     text  results                  ID\n",
       "9     NaN  comment  552811591683821568\n",
       "29    NaN  comment  544520601038098433\n",
       "62    NaN  comment  524937817924067328\n",
       "64    NaN    query  553591557325336576\n",
       "95    NaN  comment  544518918912495616\n",
       "112   NaN  comment  553535342049902592\n",
       "150   NaN  comment  524933596113801218\n",
       "281   NaN  comment  544290755624198144\n",
       "375   NaN  comment  544349387741495296\n",
       "380   NaN  comment  544520377162952704\n",
       "485   NaN  comment  553559389102026752\n",
       "501   NaN  comment  524964193813155841\n",
       "636   NaN  support  544379605818159104\n",
       "647   NaN  comment  544480456478314496\n",
       "708   NaN  comment  553115272031113216\n",
       "767   NaN  support  544358922904420352\n",
       "769   NaN  comment  554412391279374336\n",
       "793   NaN  comment  500659434558087168\n",
       "851   NaN  comment  553594257593106432\n",
       "887   NaN  comment  524935683908333569\n",
       "894   NaN  comment  529661580649459712\n",
       "950   NaN    query  544398446568820736\n",
       "956   NaN  comment  544660449669967872\n",
       "1038  NaN    query  500317606717693952\n",
       "1108  NaN     deny  552850999443202049\n",
       "1176  NaN  comment  544511082472415232\n",
       "1186  NaN  comment  553507344932294657\n",
       "1255  NaN  support  553602592828563456\n",
       "1287  NaN  comment  500442891102081024\n",
       "1288  NaN    query  524961925239959552\n",
       "...   ...      ...                 ...\n",
       "3113  NaN  comment  576514586087714817\n",
       "3130  NaN  comment  553479692133470209\n",
       "3134  NaN  support  553549302187192320\n",
       "3147  NaN  comment  524981867876212736\n",
       "3277  NaN  comment  544601984800534528\n",
       "3323  NaN  support  525065014281908224\n",
       "3426  NaN  comment  524945376911314945\n",
       "3451  NaN  comment  553589221328715776\n",
       "3494  NaN  comment  524925756087214082\n",
       "3500  NaN  support  499752447930155008\n",
       "3510  NaN  comment  521468392620834817\n",
       "3552  NaN  comment  544515461694889985\n",
       "3583  NaN  comment  544484075994509312\n",
       "3615  NaN  comment  553489533526765568\n",
       "3630  NaN  comment  552814818986844160\n",
       "3653  NaN  comment  553464272043638785\n",
       "3657  NaN  comment  553503283986563073\n",
       "3751  NaN  comment  576813964375523328\n",
       "3782  NaN  comment  500279384075685888\n",
       "3840  NaN  comment  552807952315207680\n",
       "3873  NaN  support  553109367042887680\n",
       "3921  NaN  comment  500316980130619392\n",
       "3924  NaN  comment  524964141296259072\n",
       "3942  NaN  support  500277616587587584\n",
       "3966  NaN  comment  524983036098924545\n",
       "4003  NaN  support  552792212056993792\n",
       "4010  NaN  comment  552836806065262594\n",
       "4014  NaN  comment  544343136559169537\n",
       "4052  NaN  comment  524925553070329856\n",
       "4180  NaN  comment  500278888216268800\n",
       "\n",
       "[102 rows x 3 columns]"
      ]
     },
     "execution_count": 33,
     "metadata": {},
     "output_type": "execute_result"
    }
   ],
   "source": [
    "df[df.isnull().any(axis=1)]"
   ]
  },
  {
   "cell_type": "code",
   "execution_count": 38,
   "metadata": {},
   "outputs": [
    {
     "data": {
      "text/plain": [
       "ID            524937817924067328\n",
       "tweet_text         @globeandmail\n",
       "results                  comment\n",
       "Name: 62, dtype: object"
      ]
     },
     "execution_count": 38,
     "metadata": {},
     "output_type": "execute_result"
    }
   ],
   "source": [
    "dataset.iloc[62]"
   ]
  },
  {
   "cell_type": "code",
   "execution_count": null,
   "metadata": {},
   "outputs": [],
   "source": []
  },
  {
   "cell_type": "markdown",
   "metadata": {},
   "source": [
    "remove those empty texts"
   ]
  },
  {
   "cell_type": "code",
   "execution_count": 39,
   "metadata": {},
   "outputs": [],
   "source": [
    "df.dropna(inplace=True)"
   ]
  },
  {
   "cell_type": "code",
   "execution_count": 43,
   "metadata": {},
   "outputs": [
    {
     "name": "stdout",
     "output_type": "stream",
     "text": [
      "<class 'pandas.core.frame.DataFrame'>\n",
      "Int64Index: 4136 entries, 0 to 4237\n",
      "Data columns (total 3 columns):\n",
      "text       4136 non-null object\n",
      "results    4136 non-null object\n",
      "ID         4136 non-null int64\n",
      "dtypes: int64(1), object(2)\n",
      "memory usage: 129.2+ KB\n"
     ]
    }
   ],
   "source": [
    "df.info()"
   ]
  },
  {
   "cell_type": "code",
   "execution_count": 44,
   "metadata": {},
   "outputs": [],
   "source": [
    "df.to_csv('trainingdataset.csv', index = None)"
   ]
  },
  {
   "cell_type": "code",
   "execution_count": 45,
   "metadata": {},
   "outputs": [
    {
     "data": {
      "text/plain": [
       "comment    2660\n",
       "support     824\n",
       "deny        328\n",
       "query       324\n",
       "Name: results, dtype: int64"
      ]
     },
     "execution_count": 45,
     "metadata": {},
     "output_type": "execute_result"
    }
   ],
   "source": [
    "df['results'].value_counts()"
   ]
  },
  {
   "cell_type": "code",
   "execution_count": 47,
   "metadata": {},
   "outputs": [],
   "source": [
    "dfcomment = df[df.results == 'comment']\n",
    "dfsupport = df[df.results == 'support']\n",
    "dfdeny = df[df.results == 'deny']\n",
    "dfquery = df[df.results == 'query']"
   ]
  },
  {
   "cell_type": "code",
   "execution_count": 65,
   "metadata": {},
   "outputs": [],
   "source": [
    "newdf2 = pd.concat([dfsupport, dfsupport])"
   ]
  },
  {
   "cell_type": "code",
   "execution_count": 68,
   "metadata": {},
   "outputs": [
    {
     "data": {
      "text/plain": [
       "2472"
      ]
     },
     "execution_count": 68,
     "metadata": {},
     "output_type": "execute_result"
    }
   ],
   "source": [
    "len(newdf2)"
   ]
  },
  {
   "cell_type": "code",
   "execution_count": 55,
   "metadata": {},
   "outputs": [],
   "source": [
    "newdf = pd.concat([newdf, newdf]) #oversample the deny"
   ]
  },
  {
   "cell_type": "code",
   "execution_count": 60,
   "metadata": {},
   "outputs": [],
   "source": [
    "newdf1 = pd.concat([newdf1, newdf1]) #oversample the query"
   ]
  },
  {
   "cell_type": "code",
   "execution_count": 67,
   "metadata": {},
   "outputs": [],
   "source": [
    "newdf2 = pd.concat([newdf2, dfsupport]) #oversample the support"
   ]
  },
  {
   "cell_type": "code",
   "execution_count": 69,
   "metadata": {},
   "outputs": [],
   "source": [
    "newdataset = pd.concat([newdf2, dfcomment,newdf,newdf1])"
   ]
  },
  {
   "cell_type": "code",
   "execution_count": 71,
   "metadata": {},
   "outputs": [
    {
     "name": "stdout",
     "output_type": "stream",
     "text": [
      "<class 'pandas.core.frame.DataFrame'>\n",
      "Int64Index: 10348 entries, 4 to 4202\n",
      "Data columns (total 3 columns):\n",
      "text       10348 non-null object\n",
      "results    10348 non-null object\n",
      "ID         10348 non-null int64\n",
      "dtypes: int64(1), object(2)\n",
      "memory usage: 323.4+ KB\n"
     ]
    }
   ],
   "source": [
    "newdataset.info()"
   ]
  },
  {
   "cell_type": "code",
   "execution_count": 72,
   "metadata": {},
   "outputs": [],
   "source": [
    "newdataset.to_csv('new_trainingdata.csv', index = None)"
   ]
  },
  {
   "cell_type": "code",
   "execution_count": 6,
   "metadata": {},
   "outputs": [],
   "source": [
    "newdataset = pd.read_csv('new_trainingdata.csv')"
   ]
  },
  {
   "cell_type": "code",
   "execution_count": 8,
   "metadata": {},
   "outputs": [
    {
     "data": {
      "text/html": [
       "<div>\n",
       "<style scoped>\n",
       "    .dataframe tbody tr th:only-of-type {\n",
       "        vertical-align: middle;\n",
       "    }\n",
       "\n",
       "    .dataframe tbody tr th {\n",
       "        vertical-align: top;\n",
       "    }\n",
       "\n",
       "    .dataframe thead th {\n",
       "        text-align: right;\n",
       "    }\n",
       "</style>\n",
       "<table border=\"1\" class=\"dataframe\">\n",
       "  <thead>\n",
       "    <tr style=\"text-align: right;\">\n",
       "      <th></th>\n",
       "      <th>text</th>\n",
       "      <th>results</th>\n",
       "      <th>ID</th>\n",
       "    </tr>\n",
       "  </thead>\n",
       "  <tbody>\n",
       "    <tr>\n",
       "      <th>0</th>\n",
       "      <td>no because that would require reasoning and th...</td>\n",
       "      <td>support</td>\n",
       "      <td>500289931097296897</td>\n",
       "    </tr>\n",
       "    <tr>\n",
       "      <th>1</th>\n",
       "      <td>It is according to this terrorism eert</td>\n",
       "      <td>support</td>\n",
       "      <td>544307827070615553</td>\n",
       "    </tr>\n",
       "    <tr>\n",
       "      <th>2</th>\n",
       "      <td>The day Ferguson cops told a dirty bloody lie via</td>\n",
       "      <td>support</td>\n",
       "      <td>500319801344929795</td>\n",
       "    </tr>\n",
       "    <tr>\n",
       "      <th>3</th>\n",
       "      <td>Several hostages freed at Jewish supermarket i...</td>\n",
       "      <td>support</td>\n",
       "      <td>553589051044151296</td>\n",
       "    </tr>\n",
       "    <tr>\n",
       "      <th>4</th>\n",
       "      <td>Shooter still on loose after uniformed soldier...</td>\n",
       "      <td>support</td>\n",
       "      <td>524925730053181440</td>\n",
       "    </tr>\n",
       "  </tbody>\n",
       "</table>\n",
       "</div>"
      ],
      "text/plain": [
       "                                                text  results  \\\n",
       "0  no because that would require reasoning and th...  support   \n",
       "1             It is according to this terrorism eert  support   \n",
       "2  The day Ferguson cops told a dirty bloody lie via  support   \n",
       "3  Several hostages freed at Jewish supermarket i...  support   \n",
       "4  Shooter still on loose after uniformed soldier...  support   \n",
       "\n",
       "                   ID  \n",
       "0  500289931097296897  \n",
       "1  544307827070615553  \n",
       "2  500319801344929795  \n",
       "3  553589051044151296  \n",
       "4  524925730053181440  "
      ]
     },
     "execution_count": 8,
     "metadata": {},
     "output_type": "execute_result"
    }
   ],
   "source": [
    "newdataset.head()"
   ]
  },
  {
   "cell_type": "code",
   "execution_count": 9,
   "metadata": {},
   "outputs": [
    {
     "name": "stdout",
     "output_type": "stream",
     "text": [
      "<class 'pandas.core.frame.DataFrame'>\n",
      "RangeIndex: 10348 entries, 0 to 10347\n",
      "Data columns (total 3 columns):\n",
      "text       10348 non-null object\n",
      "results    10348 non-null object\n",
      "ID         10348 non-null int64\n",
      "dtypes: int64(1), object(2)\n",
      "memory usage: 242.6+ KB\n"
     ]
    }
   ],
   "source": [
    "newdataset.info()"
   ]
  },
  {
   "cell_type": "markdown",
   "metadata": {},
   "source": [
    "tokenize the texts"
   ]
  },
  {
   "cell_type": "code",
   "execution_count": 10,
   "metadata": {},
   "outputs": [],
   "source": [
    "from nltk.tokenize import TweetTokenizer"
   ]
  },
  {
   "cell_type": "code",
   "execution_count": 11,
   "metadata": {},
   "outputs": [],
   "source": [
    "tknzr = TweetTokenizer(strip_handles=True, reduce_len=True)"
   ]
  },
  {
   "cell_type": "code",
   "execution_count": 12,
   "metadata": {},
   "outputs": [],
   "source": [
    "temp = [] \n",
    "for x in newdataset['text']:\n",
    "    temp.append(tknzr.tokenize(x))\n",
    "temp = pd.Series(temp)\n",
    "newdataset['reply_text'] = temp"
   ]
  },
  {
   "cell_type": "code",
   "execution_count": 13,
   "metadata": {},
   "outputs": [
    {
     "data": {
      "text/html": [
       "<div>\n",
       "<style scoped>\n",
       "    .dataframe tbody tr th:only-of-type {\n",
       "        vertical-align: middle;\n",
       "    }\n",
       "\n",
       "    .dataframe tbody tr th {\n",
       "        vertical-align: top;\n",
       "    }\n",
       "\n",
       "    .dataframe thead th {\n",
       "        text-align: right;\n",
       "    }\n",
       "</style>\n",
       "<table border=\"1\" class=\"dataframe\">\n",
       "  <thead>\n",
       "    <tr style=\"text-align: right;\">\n",
       "      <th></th>\n",
       "      <th>text</th>\n",
       "      <th>results</th>\n",
       "      <th>ID</th>\n",
       "      <th>reply_text</th>\n",
       "    </tr>\n",
       "  </thead>\n",
       "  <tbody>\n",
       "    <tr>\n",
       "      <th>0</th>\n",
       "      <td>no because that would require reasoning and th...</td>\n",
       "      <td>support</td>\n",
       "      <td>500289931097296897</td>\n",
       "      <td>[no, because, that, would, require, reasoning,...</td>\n",
       "    </tr>\n",
       "    <tr>\n",
       "      <th>1</th>\n",
       "      <td>It is according to this terrorism eert</td>\n",
       "      <td>support</td>\n",
       "      <td>544307827070615553</td>\n",
       "      <td>[It, is, according, to, this, terrorism, eert]</td>\n",
       "    </tr>\n",
       "    <tr>\n",
       "      <th>2</th>\n",
       "      <td>The day Ferguson cops told a dirty bloody lie via</td>\n",
       "      <td>support</td>\n",
       "      <td>500319801344929795</td>\n",
       "      <td>[The, day, Ferguson, cops, told, a, dirty, blo...</td>\n",
       "    </tr>\n",
       "    <tr>\n",
       "      <th>3</th>\n",
       "      <td>Several hostages freed at Jewish supermarket i...</td>\n",
       "      <td>support</td>\n",
       "      <td>553589051044151296</td>\n",
       "      <td>[Several, hostages, freed, at, Jewish, superma...</td>\n",
       "    </tr>\n",
       "    <tr>\n",
       "      <th>4</th>\n",
       "      <td>Shooter still on loose after uniformed soldier...</td>\n",
       "      <td>support</td>\n",
       "      <td>524925730053181440</td>\n",
       "      <td>[Shooter, still, on, loose, after, uniformed, ...</td>\n",
       "    </tr>\n",
       "  </tbody>\n",
       "</table>\n",
       "</div>"
      ],
      "text/plain": [
       "                                                text  results  \\\n",
       "0  no because that would require reasoning and th...  support   \n",
       "1             It is according to this terrorism eert  support   \n",
       "2  The day Ferguson cops told a dirty bloody lie via  support   \n",
       "3  Several hostages freed at Jewish supermarket i...  support   \n",
       "4  Shooter still on loose after uniformed soldier...  support   \n",
       "\n",
       "                   ID                                         reply_text  \n",
       "0  500289931097296897  [no, because, that, would, require, reasoning,...  \n",
       "1  544307827070615553     [It, is, according, to, this, terrorism, eert]  \n",
       "2  500319801344929795  [The, day, Ferguson, cops, told, a, dirty, blo...  \n",
       "3  553589051044151296  [Several, hostages, freed, at, Jewish, superma...  \n",
       "4  524925730053181440  [Shooter, still, on, loose, after, uniformed, ...  "
      ]
     },
     "execution_count": 13,
     "metadata": {},
     "output_type": "execute_result"
    }
   ],
   "source": [
    "newdataset.head()"
   ]
  },
  {
   "cell_type": "markdown",
   "metadata": {},
   "source": [
    "shuffle the data"
   ]
  },
  {
   "cell_type": "code",
   "execution_count": 14,
   "metadata": {},
   "outputs": [
    {
     "data": {
      "text/html": [
       "<div>\n",
       "<style scoped>\n",
       "    .dataframe tbody tr th:only-of-type {\n",
       "        vertical-align: middle;\n",
       "    }\n",
       "\n",
       "    .dataframe tbody tr th {\n",
       "        vertical-align: top;\n",
       "    }\n",
       "\n",
       "    .dataframe thead th {\n",
       "        text-align: right;\n",
       "    }\n",
       "</style>\n",
       "<table border=\"1\" class=\"dataframe\">\n",
       "  <thead>\n",
       "    <tr style=\"text-align: right;\">\n",
       "      <th></th>\n",
       "      <th>text</th>\n",
       "      <th>results</th>\n",
       "      <th>ID</th>\n",
       "      <th>reply_text</th>\n",
       "    </tr>\n",
       "  </thead>\n",
       "  <tbody>\n",
       "    <tr>\n",
       "      <th>9481</th>\n",
       "      <td>Absolutely</td>\n",
       "      <td>query</td>\n",
       "      <td>500303993805889537</td>\n",
       "      <td>[Absolutely]</td>\n",
       "    </tr>\n",
       "    <tr>\n",
       "      <th>5919</th>\n",
       "      <td>CTV just said he is being treated and is stable</td>\n",
       "      <td>deny</td>\n",
       "      <td>524952460897828865</td>\n",
       "      <td>[CTV, just, said, he, is, being, treated, and,...</td>\n",
       "    </tr>\n",
       "    <tr>\n",
       "      <th>211</th>\n",
       "      <td>You re welcome</td>\n",
       "      <td>support</td>\n",
       "      <td>500298596772622336</td>\n",
       "      <td>[You, re, welcome]</td>\n",
       "    </tr>\n",
       "    <tr>\n",
       "      <th>8617</th>\n",
       "      <td>why are there no police</td>\n",
       "      <td>query</td>\n",
       "      <td>524935505755254786</td>\n",
       "      <td>[why, are, there, no, police]</td>\n",
       "    </tr>\n",
       "    <tr>\n",
       "      <th>7472</th>\n",
       "      <td>How the fuck you comparing a whole race too a ...</td>\n",
       "      <td>deny</td>\n",
       "      <td>499689337370324992</td>\n",
       "      <td>[How, the, fuck, you, comparing, a, whole, rac...</td>\n",
       "    </tr>\n",
       "    <tr>\n",
       "      <th>2713</th>\n",
       "      <td>good</td>\n",
       "      <td>comment</td>\n",
       "      <td>552804602702475265</td>\n",
       "      <td>[good]</td>\n",
       "    </tr>\n",
       "    <tr>\n",
       "      <th>2529</th>\n",
       "      <td>good work</td>\n",
       "      <td>comment</td>\n",
       "      <td>553591773537513473</td>\n",
       "      <td>[good, work]</td>\n",
       "    </tr>\n",
       "    <tr>\n",
       "      <th>8375</th>\n",
       "      <td>AND war memorial or is this same</td>\n",
       "      <td>query</td>\n",
       "      <td>524924074087436289</td>\n",
       "      <td>[AND, war, memorial, or, is, this, same]</td>\n",
       "    </tr>\n",
       "    <tr>\n",
       "      <th>3162</th>\n",
       "      <td>Affluent people and those in authority take it...</td>\n",
       "      <td>comment</td>\n",
       "      <td>500344847661006848</td>\n",
       "      <td>[Affluent, people, and, those, in, authority, ...</td>\n",
       "    </tr>\n",
       "    <tr>\n",
       "      <th>4585</th>\n",
       "      <td>key word create if that were true that could v...</td>\n",
       "      <td>comment</td>\n",
       "      <td>500279655925293058</td>\n",
       "      <td>[key, word, create, if, that, were, true, that...</td>\n",
       "    </tr>\n",
       "    <tr>\n",
       "      <th>1572</th>\n",
       "      <td>Police taking people out of Paris grocery wher...</td>\n",
       "      <td>support</td>\n",
       "      <td>553588250087268352</td>\n",
       "      <td>[Police, taking, people, out, of, Paris, groce...</td>\n",
       "    </tr>\n",
       "    <tr>\n",
       "      <th>9893</th>\n",
       "      <td>what s happened to the guy</td>\n",
       "      <td>query</td>\n",
       "      <td>544519768850841600</td>\n",
       "      <td>[what, s, happened, to, the, guy]</td>\n",
       "    </tr>\n",
       "    <tr>\n",
       "      <th>6216</th>\n",
       "      <td>This fucking moron has an IQ of admission to m...</td>\n",
       "      <td>deny</td>\n",
       "      <td>500345018926645250</td>\n",
       "      <td>[This, fucking, moron, has, an, IQ, of, admiss...</td>\n",
       "    </tr>\n",
       "    <tr>\n",
       "      <th>1782</th>\n",
       "      <td>Official gunman holding at least hostages in P...</td>\n",
       "      <td>support</td>\n",
       "      <td>553580837477056514</td>\n",
       "      <td>[Official, gunman, holding, at, least, hostage...</td>\n",
       "    </tr>\n",
       "    <tr>\n",
       "      <th>1408</th>\n",
       "      <td>MORE Police confirm hostages escape Sydney caf...</td>\n",
       "      <td>support</td>\n",
       "      <td>544367462012432384</td>\n",
       "      <td>[MORE, Police, confirm, hostages, escape, Sydn...</td>\n",
       "    </tr>\n",
       "    <tr>\n",
       "      <th>6371</th>\n",
       "      <td>aw</td>\n",
       "      <td>deny</td>\n",
       "      <td>553647665695956992</td>\n",
       "      <td>[aw]</td>\n",
       "    </tr>\n",
       "    <tr>\n",
       "      <th>4393</th>\n",
       "      <td>that s why the police s testimony has been con...</td>\n",
       "      <td>comment</td>\n",
       "      <td>500395125802278912</td>\n",
       "      <td>[that, s, why, the, police, s, testimony, has,...</td>\n",
       "    </tr>\n",
       "    <tr>\n",
       "      <th>3195</th>\n",
       "      <td>pm grateful for that tweet</td>\n",
       "      <td>comment</td>\n",
       "      <td>553195530273456128</td>\n",
       "      <td>[pm, grateful, for, that, tweet]</td>\n",
       "    </tr>\n",
       "    <tr>\n",
       "      <th>581</th>\n",
       "      <td>CharlieHebdo dead including police in Paris sh...</td>\n",
       "      <td>support</td>\n",
       "      <td>552808923707617282</td>\n",
       "      <td>[CharlieHebdo, dead, including, police, in, Pa...</td>\n",
       "    </tr>\n",
       "    <tr>\n",
       "      <th>8963</th>\n",
       "      <td>Urgent Fearmonger much</td>\n",
       "      <td>query</td>\n",
       "      <td>500335190146056192</td>\n",
       "      <td>[Urgent, Fearmonger, much]</td>\n",
       "    </tr>\n",
       "    <tr>\n",
       "      <th>1138</th>\n",
       "      <td>Prince rumoured to be performing in surprise s...</td>\n",
       "      <td>support</td>\n",
       "      <td>529654186791944192</td>\n",
       "      <td>[Prince, rumoured, to, be, performing, in, sur...</td>\n",
       "    </tr>\n",
       "    <tr>\n",
       "      <th>7613</th>\n",
       "      <td>no they did not</td>\n",
       "      <td>deny</td>\n",
       "      <td>500382947229581312</td>\n",
       "      <td>[no, they, did, not]</td>\n",
       "    </tr>\n",
       "    <tr>\n",
       "      <th>8216</th>\n",
       "      <td>any timeline on when the general public gets t...</td>\n",
       "      <td>query</td>\n",
       "      <td>524981904131764224</td>\n",
       "      <td>[any, timeline, on, when, the, general, public...</td>\n",
       "    </tr>\n",
       "    <tr>\n",
       "      <th>1307</th>\n",
       "      <td>Hostages now</td>\n",
       "      <td>support</td>\n",
       "      <td>544309589575864320</td>\n",
       "      <td>[Hostages, now]</td>\n",
       "    </tr>\n",
       "    <tr>\n",
       "      <th>2189</th>\n",
       "      <td>Several more hostages flee from cafe under sie...</td>\n",
       "      <td>support</td>\n",
       "      <td>544510450101415936</td>\n",
       "      <td>[Several, more, hostages, flee, from, cafe, un...</td>\n",
       "    </tr>\n",
       "    <tr>\n",
       "      <th>1651</th>\n",
       "      <td>Several hostages freed at Jewish supermarket i...</td>\n",
       "      <td>support</td>\n",
       "      <td>553589051044151296</td>\n",
       "      <td>[Several, hostages, freed, at, Jewish, superma...</td>\n",
       "    </tr>\n",
       "    <tr>\n",
       "      <th>1192</th>\n",
       "      <td>BREAKING Michael Zehaf Bebeau had been designa...</td>\n",
       "      <td>support</td>\n",
       "      <td>525032872647065600</td>\n",
       "      <td>[BREAKING, Michael, Zehaf, Bebeau, had, been, ...</td>\n",
       "    </tr>\n",
       "    <tr>\n",
       "      <th>594</th>\n",
       "      <td>The of us are watching this unfold I m shaking...</td>\n",
       "      <td>support</td>\n",
       "      <td>544520944148963328</td>\n",
       "      <td>[The, of, us, are, watching, this, unfold, I, ...</td>\n",
       "    </tr>\n",
       "    <tr>\n",
       "      <th>3680</th>\n",
       "      <td>What s the matter with ppl crazy fuck</td>\n",
       "      <td>comment</td>\n",
       "      <td>524983426072731648</td>\n",
       "      <td>[What, s, the, matter, with, ppl, crazy, fuck]</td>\n",
       "    </tr>\n",
       "    <tr>\n",
       "      <th>2960</th>\n",
       "      <td>Uber trips out of the CBD today are free to he...</td>\n",
       "      <td>comment</td>\n",
       "      <td>544346961097138176</td>\n",
       "      <td>[Uber, trips, out, of, the, CBD, today, are, f...</td>\n",
       "    </tr>\n",
       "    <tr>\n",
       "      <th>...</th>\n",
       "      <td>...</td>\n",
       "      <td>...</td>\n",
       "      <td>...</td>\n",
       "      <td>...</td>\n",
       "    </tr>\n",
       "    <tr>\n",
       "      <th>4328</th>\n",
       "      <td>In response to inquiries we can confirm that P...</td>\n",
       "      <td>comment</td>\n",
       "      <td>529720542925176832</td>\n",
       "      <td>[In, response, to, inquiries, we, can, confirm...</td>\n",
       "    </tr>\n",
       "    <tr>\n",
       "      <th>1996</th>\n",
       "      <td>BREAKING The soldier who was shot in Ottawa We...</td>\n",
       "      <td>support</td>\n",
       "      <td>524968425685516288</td>\n",
       "      <td>[BREAKING, The, soldier, who, was, shot, in, O...</td>\n",
       "    </tr>\n",
       "    <tr>\n",
       "      <th>5711</th>\n",
       "      <td>RamzanKadyrov A Sunni Muslim Russian Chechen U...</td>\n",
       "      <td>deny</td>\n",
       "      <td>576278902185705472</td>\n",
       "      <td>[RamzanKadyrov, A, Sunni, Muslim, Russian, Che...</td>\n",
       "    </tr>\n",
       "    <tr>\n",
       "      <th>6649</th>\n",
       "      <td>I believe the robbery actually did happen and ...</td>\n",
       "      <td>deny</td>\n",
       "      <td>500383183217913856</td>\n",
       "      <td>[I, believe, the, robbery, actually, did, happ...</td>\n",
       "    </tr>\n",
       "    <tr>\n",
       "      <th>2875</th>\n",
       "      <td>ITS A KOSHER JEWISH SUPERMARKET THEY CHOSE IT ...</td>\n",
       "      <td>comment</td>\n",
       "      <td>553580571985580032</td>\n",
       "      <td>[ITS, A, KOSHER, JEWISH, SUPERMARKET, THEY, CH...</td>\n",
       "    </tr>\n",
       "    <tr>\n",
       "      <th>2045</th>\n",
       "      <td>oh god</td>\n",
       "      <td>support</td>\n",
       "      <td>524957131930624000</td>\n",
       "      <td>[oh, god]</td>\n",
       "    </tr>\n",
       "    <tr>\n",
       "      <th>4263</th>\n",
       "      <td>They charged me 215 for a 20 fare Neveer use t...</td>\n",
       "      <td>comment</td>\n",
       "      <td>544324734947577856</td>\n",
       "      <td>[They, charged, me, 215, for, a, 20, fare, Nev...</td>\n",
       "    </tr>\n",
       "    <tr>\n",
       "      <th>7760</th>\n",
       "      <td>source</td>\n",
       "      <td>query</td>\n",
       "      <td>499456567990026240</td>\n",
       "      <td>[source]</td>\n",
       "    </tr>\n",
       "    <tr>\n",
       "      <th>10201</th>\n",
       "      <td>so free or surge pricing confused</td>\n",
       "      <td>query</td>\n",
       "      <td>544331615812345856</td>\n",
       "      <td>[so, free, or, surge, pricing, confused]</td>\n",
       "    </tr>\n",
       "    <tr>\n",
       "      <th>4935</th>\n",
       "      <td>your defense and justification of Islamic terr...</td>\n",
       "      <td>comment</td>\n",
       "      <td>524970031856488448</td>\n",
       "      <td>[your, defense, and, justification, of, Islami...</td>\n",
       "    </tr>\n",
       "    <tr>\n",
       "      <th>7597</th>\n",
       "      <td>Nothing in that video provides concrete eviden...</td>\n",
       "      <td>deny</td>\n",
       "      <td>500348984347860992</td>\n",
       "      <td>[Nothing, in, that, video, provides, concrete,...</td>\n",
       "    </tr>\n",
       "    <tr>\n",
       "      <th>5634</th>\n",
       "      <td>Police have clarified that there were two shoo...</td>\n",
       "      <td>deny</td>\n",
       "      <td>524990163446140928</td>\n",
       "      <td>[Police, have, clarified, that, there, were, t...</td>\n",
       "    </tr>\n",
       "    <tr>\n",
       "      <th>8367</th>\n",
       "      <td>may be prudent to ask clerk if Brown was the o...</td>\n",
       "      <td>query</td>\n",
       "      <td>500378498054500352</td>\n",
       "      <td>[may, be, prudent, to, ask, clerk, if, Brown, ...</td>\n",
       "    </tr>\n",
       "    <tr>\n",
       "      <th>5572</th>\n",
       "      <td>I don t think he s a good leader at all he s t...</td>\n",
       "      <td>deny</td>\n",
       "      <td>525029545540612096</td>\n",
       "      <td>[I, don, t, think, he, s, a, good, leader, at,...</td>\n",
       "    </tr>\n",
       "    <tr>\n",
       "      <th>7138</th>\n",
       "      <td>The Liberal leftist should be feeling as good ...</td>\n",
       "      <td>deny</td>\n",
       "      <td>552813563283509248</td>\n",
       "      <td>[The, Liberal, leftist, should, be, feeling, a...</td>\n",
       "    </tr>\n",
       "    <tr>\n",
       "      <th>716</th>\n",
       "      <td>Ray Hadley says he spoke with hostage and coul...</td>\n",
       "      <td>support</td>\n",
       "      <td>544319274072817664</td>\n",
       "      <td>[Ray, Hadley, says, he, spoke, with, hostage, ...</td>\n",
       "    </tr>\n",
       "    <tr>\n",
       "      <th>354</th>\n",
       "      <td>Our thoughts and prayers go out to Nathan Ciri...</td>\n",
       "      <td>support</td>\n",
       "      <td>525058976376193024</td>\n",
       "      <td>[Our, thoughts, and, prayers, go, out, to, Nat...</td>\n",
       "    </tr>\n",
       "    <tr>\n",
       "      <th>10280</th>\n",
       "      <td>Hardly dont hear about a school shooting or sp...</td>\n",
       "      <td>query</td>\n",
       "      <td>524930651964051456</td>\n",
       "      <td>[Hardly, dont, hear, about, a, school, shootin...</td>\n",
       "    </tr>\n",
       "    <tr>\n",
       "      <th>348</th>\n",
       "      <td>BREAKING The soldier who was shot in Ottawa We...</td>\n",
       "      <td>support</td>\n",
       "      <td>524968425685516288</td>\n",
       "      <td>[BREAKING, The, soldier, who, was, shot, in, O...</td>\n",
       "    </tr>\n",
       "    <tr>\n",
       "      <th>7905</th>\n",
       "      <td>is it over or are they still looking for the g...</td>\n",
       "      <td>query</td>\n",
       "      <td>525001263922937857</td>\n",
       "      <td>[is, it, over, or, are, they, still, looking, ...</td>\n",
       "    </tr>\n",
       "    <tr>\n",
       "      <th>6967</th>\n",
       "      <td>shahada flag is a generic flag not unique to a...</td>\n",
       "      <td>deny</td>\n",
       "      <td>544280949496619009</td>\n",
       "      <td>[shahada, flag, is, a, generic, flag, not, uni...</td>\n",
       "    </tr>\n",
       "    <tr>\n",
       "      <th>8703</th>\n",
       "      <td>If they were criminals why did the police not ...</td>\n",
       "      <td>query</td>\n",
       "      <td>500306952241840128</td>\n",
       "      <td>[If, they, were, criminals, why, did, the, pol...</td>\n",
       "    </tr>\n",
       "    <tr>\n",
       "      <th>98</th>\n",
       "      <td>Media have surrounded this building</td>\n",
       "      <td>support</td>\n",
       "      <td>553511652587360256</td>\n",
       "      <td>[Media, have, surrounded, this, building]</td>\n",
       "    </tr>\n",
       "    <tr>\n",
       "      <th>1747</th>\n",
       "      <td>Uber is covering the cost of all rides</td>\n",
       "      <td>support</td>\n",
       "      <td>544347330166530049</td>\n",
       "      <td>[Uber, is, covering, the, cost, of, all, rides]</td>\n",
       "    </tr>\n",
       "    <tr>\n",
       "      <th>3774</th>\n",
       "      <td>Up to held hostage in Sydney Lindt Cafe siege ...</td>\n",
       "      <td>comment</td>\n",
       "      <td>544289312314228737</td>\n",
       "      <td>[Up, to, held, hostage, in, Sydney, Lindt, Caf...</td>\n",
       "    </tr>\n",
       "    <tr>\n",
       "      <th>975</th>\n",
       "      <td>Line of police cars with high beams on greets ...</td>\n",
       "      <td>support</td>\n",
       "      <td>499366666300846081</td>\n",
       "      <td>[Line, of, police, cars, with, high, beams, on...</td>\n",
       "    </tr>\n",
       "    <tr>\n",
       "      <th>5683</th>\n",
       "      <td>no he was walking IN the street big difference</td>\n",
       "      <td>deny</td>\n",
       "      <td>501730232790183936</td>\n",
       "      <td>[no, he, was, walking, IN, the, street, big, d...</td>\n",
       "    </tr>\n",
       "    <tr>\n",
       "      <th>5696</th>\n",
       "      <td>new bill Stop Militarizing Law Enforcement act...</td>\n",
       "      <td>deny</td>\n",
       "      <td>500400826507341825</td>\n",
       "      <td>[new, bill, Stop, Militarizing, Law, Enforceme...</td>\n",
       "    </tr>\n",
       "    <tr>\n",
       "      <th>5712</th>\n",
       "      <td>LIES</td>\n",
       "      <td>deny</td>\n",
       "      <td>500283804272328704</td>\n",
       "      <td>[LIES]</td>\n",
       "    </tr>\n",
       "    <tr>\n",
       "      <th>3553</th>\n",
       "      <td>Agreed I have been pointing this out btw</td>\n",
       "      <td>comment</td>\n",
       "      <td>544298416571179008</td>\n",
       "      <td>[Agreed, I, have, been, pointing, this, out, btw]</td>\n",
       "    </tr>\n",
       "  </tbody>\n",
       "</table>\n",
       "<p>10348 rows × 4 columns</p>\n",
       "</div>"
      ],
      "text/plain": [
       "                                                    text  results  \\\n",
       "9481                                          Absolutely    query   \n",
       "5919     CTV just said he is being treated and is stable     deny   \n",
       "211                                       You re welcome  support   \n",
       "8617                             why are there no police    query   \n",
       "7472   How the fuck you comparing a whole race too a ...     deny   \n",
       "2713                                                good  comment   \n",
       "2529                                           good work  comment   \n",
       "8375                    AND war memorial or is this same    query   \n",
       "3162   Affluent people and those in authority take it...  comment   \n",
       "4585   key word create if that were true that could v...  comment   \n",
       "1572   Police taking people out of Paris grocery wher...  support   \n",
       "9893                          what s happened to the guy    query   \n",
       "6216   This fucking moron has an IQ of admission to m...     deny   \n",
       "1782   Official gunman holding at least hostages in P...  support   \n",
       "1408   MORE Police confirm hostages escape Sydney caf...  support   \n",
       "6371                                                  aw     deny   \n",
       "4393   that s why the police s testimony has been con...  comment   \n",
       "3195                          pm grateful for that tweet  comment   \n",
       "581    CharlieHebdo dead including police in Paris sh...  support   \n",
       "8963                              Urgent Fearmonger much    query   \n",
       "1138   Prince rumoured to be performing in surprise s...  support   \n",
       "7613                                     no they did not     deny   \n",
       "8216   any timeline on when the general public gets t...    query   \n",
       "1307                                        Hostages now  support   \n",
       "2189   Several more hostages flee from cafe under sie...  support   \n",
       "1651   Several hostages freed at Jewish supermarket i...  support   \n",
       "1192   BREAKING Michael Zehaf Bebeau had been designa...  support   \n",
       "594    The of us are watching this unfold I m shaking...  support   \n",
       "3680               What s the matter with ppl crazy fuck  comment   \n",
       "2960   Uber trips out of the CBD today are free to he...  comment   \n",
       "...                                                  ...      ...   \n",
       "4328   In response to inquiries we can confirm that P...  comment   \n",
       "1996   BREAKING The soldier who was shot in Ottawa We...  support   \n",
       "5711   RamzanKadyrov A Sunni Muslim Russian Chechen U...     deny   \n",
       "6649   I believe the robbery actually did happen and ...     deny   \n",
       "2875   ITS A KOSHER JEWISH SUPERMARKET THEY CHOSE IT ...  comment   \n",
       "2045                                              oh god  support   \n",
       "4263   They charged me 215 for a 20 fare Neveer use t...  comment   \n",
       "7760                                              source    query   \n",
       "10201                  so free or surge pricing confused    query   \n",
       "4935   your defense and justification of Islamic terr...  comment   \n",
       "7597   Nothing in that video provides concrete eviden...     deny   \n",
       "5634   Police have clarified that there were two shoo...     deny   \n",
       "8367   may be prudent to ask clerk if Brown was the o...    query   \n",
       "5572   I don t think he s a good leader at all he s t...     deny   \n",
       "7138   The Liberal leftist should be feeling as good ...     deny   \n",
       "716    Ray Hadley says he spoke with hostage and coul...  support   \n",
       "354    Our thoughts and prayers go out to Nathan Ciri...  support   \n",
       "10280  Hardly dont hear about a school shooting or sp...    query   \n",
       "348    BREAKING The soldier who was shot in Ottawa We...  support   \n",
       "7905   is it over or are they still looking for the g...    query   \n",
       "6967   shahada flag is a generic flag not unique to a...     deny   \n",
       "8703   If they were criminals why did the police not ...    query   \n",
       "98                   Media have surrounded this building  support   \n",
       "1747              Uber is covering the cost of all rides  support   \n",
       "3774   Up to held hostage in Sydney Lindt Cafe siege ...  comment   \n",
       "975    Line of police cars with high beams on greets ...  support   \n",
       "5683      no he was walking IN the street big difference     deny   \n",
       "5696   new bill Stop Militarizing Law Enforcement act...     deny   \n",
       "5712                                                LIES     deny   \n",
       "3553            Agreed I have been pointing this out btw  comment   \n",
       "\n",
       "                       ID                                         reply_text  \n",
       "9481   500303993805889537                                       [Absolutely]  \n",
       "5919   524952460897828865  [CTV, just, said, he, is, being, treated, and,...  \n",
       "211    500298596772622336                                 [You, re, welcome]  \n",
       "8617   524935505755254786                      [why, are, there, no, police]  \n",
       "7472   499689337370324992  [How, the, fuck, you, comparing, a, whole, rac...  \n",
       "2713   552804602702475265                                             [good]  \n",
       "2529   553591773537513473                                       [good, work]  \n",
       "8375   524924074087436289           [AND, war, memorial, or, is, this, same]  \n",
       "3162   500344847661006848  [Affluent, people, and, those, in, authority, ...  \n",
       "4585   500279655925293058  [key, word, create, if, that, were, true, that...  \n",
       "1572   553588250087268352  [Police, taking, people, out, of, Paris, groce...  \n",
       "9893   544519768850841600                  [what, s, happened, to, the, guy]  \n",
       "6216   500345018926645250  [This, fucking, moron, has, an, IQ, of, admiss...  \n",
       "1782   553580837477056514  [Official, gunman, holding, at, least, hostage...  \n",
       "1408   544367462012432384  [MORE, Police, confirm, hostages, escape, Sydn...  \n",
       "6371   553647665695956992                                               [aw]  \n",
       "4393   500395125802278912  [that, s, why, the, police, s, testimony, has,...  \n",
       "3195   553195530273456128                   [pm, grateful, for, that, tweet]  \n",
       "581    552808923707617282  [CharlieHebdo, dead, including, police, in, Pa...  \n",
       "8963   500335190146056192                         [Urgent, Fearmonger, much]  \n",
       "1138   529654186791944192  [Prince, rumoured, to, be, performing, in, sur...  \n",
       "7613   500382947229581312                               [no, they, did, not]  \n",
       "8216   524981904131764224  [any, timeline, on, when, the, general, public...  \n",
       "1307   544309589575864320                                    [Hostages, now]  \n",
       "2189   544510450101415936  [Several, more, hostages, flee, from, cafe, un...  \n",
       "1651   553589051044151296  [Several, hostages, freed, at, Jewish, superma...  \n",
       "1192   525032872647065600  [BREAKING, Michael, Zehaf, Bebeau, had, been, ...  \n",
       "594    544520944148963328  [The, of, us, are, watching, this, unfold, I, ...  \n",
       "3680   524983426072731648     [What, s, the, matter, with, ppl, crazy, fuck]  \n",
       "2960   544346961097138176  [Uber, trips, out, of, the, CBD, today, are, f...  \n",
       "...                   ...                                                ...  \n",
       "4328   529720542925176832  [In, response, to, inquiries, we, can, confirm...  \n",
       "1996   524968425685516288  [BREAKING, The, soldier, who, was, shot, in, O...  \n",
       "5711   576278902185705472  [RamzanKadyrov, A, Sunni, Muslim, Russian, Che...  \n",
       "6649   500383183217913856  [I, believe, the, robbery, actually, did, happ...  \n",
       "2875   553580571985580032  [ITS, A, KOSHER, JEWISH, SUPERMARKET, THEY, CH...  \n",
       "2045   524957131930624000                                          [oh, god]  \n",
       "4263   544324734947577856  [They, charged, me, 215, for, a, 20, fare, Nev...  \n",
       "7760   499456567990026240                                           [source]  \n",
       "10201  544331615812345856           [so, free, or, surge, pricing, confused]  \n",
       "4935   524970031856488448  [your, defense, and, justification, of, Islami...  \n",
       "7597   500348984347860992  [Nothing, in, that, video, provides, concrete,...  \n",
       "5634   524990163446140928  [Police, have, clarified, that, there, were, t...  \n",
       "8367   500378498054500352  [may, be, prudent, to, ask, clerk, if, Brown, ...  \n",
       "5572   525029545540612096  [I, don, t, think, he, s, a, good, leader, at,...  \n",
       "7138   552813563283509248  [The, Liberal, leftist, should, be, feeling, a...  \n",
       "716    544319274072817664  [Ray, Hadley, says, he, spoke, with, hostage, ...  \n",
       "354    525058976376193024  [Our, thoughts, and, prayers, go, out, to, Nat...  \n",
       "10280  524930651964051456  [Hardly, dont, hear, about, a, school, shootin...  \n",
       "348    524968425685516288  [BREAKING, The, soldier, who, was, shot, in, O...  \n",
       "7905   525001263922937857  [is, it, over, or, are, they, still, looking, ...  \n",
       "6967   544280949496619009  [shahada, flag, is, a, generic, flag, not, uni...  \n",
       "8703   500306952241840128  [If, they, were, criminals, why, did, the, pol...  \n",
       "98     553511652587360256          [Media, have, surrounded, this, building]  \n",
       "1747   544347330166530049    [Uber, is, covering, the, cost, of, all, rides]  \n",
       "3774   544289312314228737  [Up, to, held, hostage, in, Sydney, Lindt, Caf...  \n",
       "975    499366666300846081  [Line, of, police, cars, with, high, beams, on...  \n",
       "5683   501730232790183936  [no, he, was, walking, IN, the, street, big, d...  \n",
       "5696   500400826507341825  [new, bill, Stop, Militarizing, Law, Enforceme...  \n",
       "5712   500283804272328704                                             [LIES]  \n",
       "3553   544298416571179008  [Agreed, I, have, been, pointing, this, out, btw]  \n",
       "\n",
       "[10348 rows x 4 columns]"
      ]
     },
     "execution_count": 14,
     "metadata": {},
     "output_type": "execute_result"
    }
   ],
   "source": [
    "newdataset.sample(len(newdataset))"
   ]
  },
  {
   "cell_type": "code",
   "execution_count": null,
   "metadata": {},
   "outputs": [],
   "source": []
  }
 ],
 "metadata": {
  "kernelspec": {
   "display_name": "Python 3",
   "language": "python",
   "name": "python3"
  },
  "language_info": {
   "codemirror_mode": {
    "name": "ipython",
    "version": 3
   },
   "file_extension": ".py",
   "mimetype": "text/x-python",
   "name": "python",
   "nbconvert_exporter": "python",
   "pygments_lexer": "ipython3",
   "version": "3.6.2rc1"
  }
 },
 "nbformat": 4,
 "nbformat_minor": 2
}
